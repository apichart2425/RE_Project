{
 "cells": [
  {
   "cell_type": "code",
   "execution_count": 1,
   "metadata": {},
   "outputs": [],
   "source": [
    "import speech_recognition as sr\n",
    "# Record Audio\n",
    "r = sr.Recognizer()\n",
    "m = sr.Microphone()"
   ]
  },
  {
   "cell_type": "code",
   "execution_count": 2,
   "metadata": {},
   "outputs": [
    {
     "name": "stdout",
     "output_type": "stream",
     "text": [
      "Set minimum energy threshold to 2899.6321882336197\n"
     ]
    }
   ],
   "source": [
    "#set threhold level\n",
    "with m as source: r.adjust_for_ambient_noise(source)\n",
    "print(\"Set minimum energy threshold to {}\".format(r.energy_threshold))\n",
    "\n",
    "# Speech recognition using Google Speech Recognition\n",
    "def checkspeech(r,file_wav):\n",
    "#     sr.Microphone()\n",
    "#     with sr.WavFile(\"C:/Users/Pack.Apichart/Desktop/re/t1.wav\")\n",
    "    with sr.WavFile(file_wav) as source:\n",
    "        audio = r.listen(source)\n",
    "    try:\n",
    "    # for testing purposes, we're just using the default API key\n",
    "    # to use another API key, use `r.recognize_google(audio, key=\"GOOGLE_SPEECH_RECOGNITION_API_KEY\")`\n",
    "    # instead of `r.recognize_google(audio)`\n",
    "\n",
    "# \"en-US\"\n",
    "# \"th-TH\"\n",
    "        print(\"You said: \" + r.recognize_google(audio,language = \"th-TH\"))\n",
    "        return r.recognize_google(audio,language = \"th-TH\")\n",
    "#         return (r.recognize_google(audio))\n",
    "    except sr.UnknownValueError:\n",
    "        print(\"Google Speech Recognition could not understand audio\")\n",
    "        return (\"Google Speech Recognition could not understand audio\")\n",
    "    except sr.RequestError as e:\n",
    "        print(\"Could not request results from Google Speech Recognition service; {0}\".format(e))\n",
    "        return (\"Could not request results from Google Speech Recognition service; {0}\".format(e))\n",
    "\n",
    "# speech = str(checkspeech(r))"
   ]
  },
  {
   "cell_type": "code",
   "execution_count": null,
   "metadata": {},
   "outputs": [],
   "source": [
    "speech"
   ]
  },
  {
   "cell_type": "code",
   "execution_count": 3,
   "metadata": {},
   "outputs": [
    {
     "name": "stdout",
     "output_type": "stream",
     "text": [
      "You said: วันนี้จะไปเรียนหนังสือ\n"
     ]
    },
    {
     "data": {
      "text/plain": [
       "'วันนี้จะไปเรียนหนังสือ'"
      ]
     },
     "execution_count": 3,
     "metadata": {},
     "output_type": "execute_result"
    }
   ],
   "source": [
    "checkspeech(r,\"asset/t1.wav\")"
   ]
  },
  {
   "cell_type": "code",
   "execution_count": 4,
   "metadata": {},
   "outputs": [
    {
     "name": "stdout",
     "output_type": "stream",
     "text": [
      "You said: วันนี้วันที่ 30 ตุลาคมปีพศ 2562 เวลา 10:00 น\n"
     ]
    },
    {
     "data": {
      "text/plain": [
       "'วันนี้วันที่ 30 ตุลาคมปีพศ 2562 เวลา 10:00 น'"
      ]
     },
     "execution_count": 4,
     "metadata": {},
     "output_type": "execute_result"
    }
   ],
   "source": [
    "checkspeech(r,\"asset/t2.wav\")"
   ]
  },
  {
   "cell_type": "code",
   "execution_count": null,
   "metadata": {},
   "outputs": [],
   "source": [
    "checkspeech(r,\"asset/tech.wav\")"
   ]
  },
  {
   "cell_type": "code",
   "execution_count": null,
   "metadata": {},
   "outputs": [],
   "source": [
    "checkspeech(r,\"asset/tech5min.wav\")"
   ]
  },
  {
   "cell_type": "code",
   "execution_count": null,
   "metadata": {},
   "outputs": [],
   "source": [
    "checkspeech(r,\"asset/tech30sec.wav\")"
   ]
  },
  {
   "cell_type": "code",
   "execution_count": null,
   "metadata": {},
   "outputs": [],
   "source": [
    "checkspeech(r,\"asset/tech1min.wav\")"
   ]
  },
  {
   "cell_type": "code",
   "execution_count": null,
   "metadata": {},
   "outputs": [],
   "source": [
    "checkspeech(r,\"asset/tech90sec.wav\")"
   ]
  },
  {
   "cell_type": "code",
   "execution_count": 5,
   "metadata": {},
   "outputs": [
    {
     "name": "stdout",
     "output_type": "stream",
     "text": [
      "You said: อาจารย์ก็คือส่วนตัวกลับบ้านใช่ไหมครับถ้าแบบอาการต้องอยู่จนถึงเที่ยงคืนเลย 6 โมงที่เป็นเวลานะครับถ้าอาจารย์เกิดว่าอยากจะหาอะไรรับประทานอะไรครับอาจารย์มีตัวเลือกยังไงบ้างก็ส่วนใหญ่ถ้าเกิดว่าไม่ได้ค่อยโทรมาไปก่อนเที่ยงก็ไม่เกินไม่เกิน 5 นาทีแต่ถ้าโดนเมื่อไหร่ก็ตามที่แจ้งตรงปุ๊บเราจะไม่ลงไปแล้วเราจะลงไปหลังจากนั้นประมาณคือกูจะลงประมาณก่อนเที่ยงตรงๆก็คือหลังเที่ยงตรงไปเลยครับพี่\n"
     ]
    },
    {
     "data": {
      "text/plain": [
       "'อาจารย์ก็คือส่วนตัวกลับบ้านใช่ไหมครับถ้าแบบอาการต้องอยู่จนถึงเที่ยงคืนเลย 6 โมงที่เป็นเวลานะครับถ้าอาจารย์เกิดว่าอยากจะหาอะไรรับประทานอะไรครับอาจารย์มีตัวเลือกยังไงบ้างก็ส่วนใหญ่ถ้าเกิดว่าไม่ได้ค่อยโทรมาไปก่อนเที่ยงก็ไม่เกินไม่เกิน 5 นาทีแต่ถ้าโดนเมื่อไหร่ก็ตามที่แจ้งตรงปุ๊บเราจะไม่ลงไปแล้วเราจะลงไปหลังจากนั้นประมาณคือกูจะลงประมาณก่อนเที่ยงตรงๆก็คือหลังเที่ยงตรงไปเลยครับพี่'"
      ]
     },
     "execution_count": 5,
     "metadata": {},
     "output_type": "execute_result"
    }
   ],
   "source": [
    "checkspeech(r,\"asset/tech3min.wav\")"
   ]
  },
  {
   "cell_type": "code",
   "execution_count": 6,
   "metadata": {},
   "outputs": [
    {
     "name": "stdout",
     "output_type": "stream",
     "text": [
      "Google Speech Recognition could not understand audio\n"
     ]
    },
    {
     "data": {
      "text/plain": [
       "'Google Speech Recognition could not understand audio'"
      ]
     },
     "execution_count": 6,
     "metadata": {},
     "output_type": "execute_result"
    }
   ],
   "source": [
    "checkspeech(r,\"asset/tech3min.wav\")"
   ]
  },
  {
   "cell_type": "code",
   "execution_count": 8,
   "metadata": {},
   "outputs": [
    {
     "name": "stdout",
     "output_type": "stream",
     "text": [
      "You said: อาจารย์ก็คือส่วนตัวกลับบ้านใช่ไหมครับถ้าแบบอาการต้องอยู่จนถึงเที่ยงคืนเลย 6 โมงที่เป็นเวลานะครับถ้าอาจารย์เกิดว่าอยากจะหาอะไรรับประทานอะไรครับอาจารย์มีตัวเลือกยังไงบ้างก็ส่วนใหญ่ถ้าเกิดว่าไม่ได้ค่อยโทรมาไปก่อนเที่ยงก็ไม่เกินไม่เกิน 5 นาทีแต่ถ้าโดนเมื่อไหร่ก็ตามที่แจ้งตรงปุ๊บเราจะไม่ลงไปแล้วเราจะลงไปหลังจากนั้นประมาณคือกูจะลงประมาณก่อนเที่ยงตรงๆก็คือหลังเที่ยงตรงไปเลยครับพี่\n",
      "You said: อาจารย์ก็คือส่วนตัวกลับบ้านใช่ไหมครับถ้าแบบอาการต้องอยู่จนถึงเที่ยงคืนเลย 6 โมงที่เป็นเวลานะครับถ้าอาจารย์เกิดว่าอยากจะหาอะไรรับประทานอะไรครับอาจารย์มีตัวเลือกยังไงบ้างก็ส่วนใหญ่ถ้าเกิดว่าไม่ได้ค่อยโทรมาไปก่อนเที่ยงก็ไม่เกินไม่เกิน 5 นาทีแต่ถ้าโดนเมื่อไหร่ก็ตามที่แจ้งตรงปุ๊บเราจะไม่ลงไปแล้วเราจะลงไปหลังจากนั้นประมาณคือกูจะลงประมาณก่อนเที่ยงตรงๆก็คือหลังเที่ยงตรงไปเลยครับพี่\n",
      "Google Speech Recognition could not understand audio\n",
      "Google Speech Recognition could not understand audio\n",
      "You said: อาจารย์ก็คือส่วนตัวกลับบ้านใช่ไหมครับถ้าแบบอาการต้องอยู่จนถึงเที่ยงคืนเลย 6 โมงที่เป็นเวลานะครับถ้าอาจารย์เกิดว่าอยากจะหาอะไรรับประทานอะไรครับอาจารย์มีตัวเลือกยังไงบ้างก็ส่วนใหญ่ถ้าเกิดว่าไม่ได้ค่อยโทรมาไปก่อนเที่ยงก็ไม่เกินไม่เกิน 5 นาทีแต่ถ้าโดนเมื่อไหร่ก็ตามที่แจ้งตรงปุ๊บเราจะไม่ลงไปแล้วเราจะลงไปหลังจากนั้นประมาณคือกูจะลงประมาณก่อนเที่ยงตรงๆก็คือหลังเที่ยงตรงไปเลยครับพี่\n",
      "You said: อาจารย์ก็คือส่วนตัวกลับบ้านใช่ไหมครับถ้าแบบอาการต้องอยู่จนถึงเที่ยงคืนเลย 6 โมงที่เป็นเวลานะครับถ้าอาจารย์เกิดว่าอยากจะหาอะไรรับประทานอะไรครับอาจารย์มีตัวเลือกยังไงบ้างก็ส่วนใหญ่ถ้าเกิดว่าไม่ได้ค่อยโทรมาไปก่อนเที่ยงก็ไม่เกินไม่เกิน 5 นาทีแต่ถ้าโดนเมื่อไหร่ก็ตามที่แจ้งตรงปุ๊บเราจะไม่ลงไปแล้วเราจะลงไปหลังจากนั้นประมาณคือกูจะลงประมาณก่อนเที่ยงตรงๆก็คือหลังเที่ยงตรงไปเลยครับพี่\n"
     ]
    }
   ],
   "source": [
    "lst = []\n",
    "for i in range(5):\n",
    "    lst.append(checkspeech(r,\"asset/tech3min.wav\"))"
   ]
  },
  {
   "cell_type": "code",
   "execution_count": 9,
   "metadata": {},
   "outputs": [
    {
     "name": "stdout",
     "output_type": "stream",
     "text": [
      "You said: อาจารย์ก็คือส่วนตัวกลับบ้านใช่ไหมครับถ้าแบบอาการต้องอยู่จนถึงเที่ยงคืนเลย 6 โมงที่เป็นเวลานะครับถ้าอาจารย์เกิดว่าอยากจะหาอะไรรับประทานอะไรครับอาจารย์มีตัวเลือกยังไงบ้างก็ส่วนใหญ่ถ้าเกิดว่าไม่ได้ค่อยโทรมาไปก่อนเที่ยงก็ไม่เกินไม่เกิน 5 นาทีแต่ถ้าโดนเมื่อไหร่ก็ตามที่แจ้งตรงปุ๊บเราจะไม่ลงไปแล้วเราจะลงไปหลังจากนั้นประมาณคือกูจะลงประมาณก่อนเที่ยงตรงๆก็คือหลังเที่ยงตรงไปเลยครับพี่\n",
      "You said: อาจารย์ก็คือส่วนตัวกลับบ้านใช่ไหมครับถ้าแบบอาการต้องอยู่จนถึงเที่ยงคืนเลย 6 โมงที่เป็นเวลานะครับถ้าอาจารย์เกิดว่าอยากจะหาอะไรรับประทานอะไรครับอาจารย์มีตัวเลือกยังไงบ้างก็ส่วนใหญ่ถ้าเกิดว่าไม่ได้ค่อยโทรมาไปก่อนเที่ยงก็ไม่เกินไม่เกิน 5 นาทีแต่ถ้าโดนเมื่อไหร่ก็ตามที่แจ้งตรงปุ๊บเราจะไม่ลงไปแล้วเราจะลงไปหลังจากนั้นประมาณคือกูจะลงประมาณก่อนเที่ยงตรงๆก็คือหลังเที่ยงตรงไปเลยครับพี่\n",
      "You said: อาจารย์ก็คือส่วนตัวกลับบ้านใช่ไหมครับถ้าแบบอาการต้องอยู่จนถึงเที่ยงคืนเลย 6 โมงที่เป็นเวลานะครับถ้าอาจารย์เกิดว่าอยากจะหาอะไรรับประทานอะไรครับอาจารย์มีตัวเลือกยังไงบ้างก็ส่วนใหญ่ถ้าเกิดว่าไม่ได้ค่อยโทรมาไปก่อนเที่ยงก็ไม่เกินไม่เกิน 5 นาทีแต่ถ้าโดนเมื่อไหร่ก็ตามที่แจ้งตรงปุ๊บเราจะไม่ลงไปแล้วเราจะลงไปหลังจากนั้นประมาณคือกูจะลงประมาณก่อนเที่ยงตรงๆก็คือหลังเที่ยงตรงไปเลยครับพี่\n",
      "You said: อาจารย์ก็คือส่วนตัวกลับบ้านใช่ไหมครับถ้าแบบอาการต้องอยู่จนถึงเที่ยงคืนเลย 6 โมงที่เป็นเวลานะครับถ้าอาจารย์เกิดว่าอยากจะหาอะไรรับประทานอะไรครับอาจารย์มีตัวเลือกยังไงบ้างก็ส่วนใหญ่ถ้าเกิดว่าไม่ได้ค่อยโทรมาไปก่อนเที่ยงก็ไม่เกินไม่เกิน 5 นาทีแต่ถ้าโดนเมื่อไหร่ก็ตามที่แจ้งตรงปุ๊บเราจะไม่ลงไปแล้วเราจะลงไปหลังจากนั้นประมาณคือกูจะลงประมาณก่อนเที่ยงตรงๆก็คือหลังเที่ยงตรงไปเลยครับพี่\n",
      "You said: อาจารย์ก็คือส่วนตัวกลับบ้านใช่ไหมครับถ้าแบบอาการต้องอยู่จนถึงเที่ยงคืนเลย 6 โมงที่เป็นเวลานะครับถ้าอาจารย์เกิดว่าอยากจะหาอะไรรับประทานอะไรครับอาจารย์มีตัวเลือกยังไงบ้างก็ส่วนใหญ่ถ้าเกิดว่าไม่ได้ค่อยโทรมาไปก่อนเที่ยงก็ไม่เกินไม่เกิน 5 นาทีแต่ถ้าโดนเมื่อไหร่ก็ตามที่แจ้งตรงปุ๊บเราจะไม่ลงไปแล้วเราจะลงไปหลังจากนั้นประมาณคือกูจะลงประมาณก่อนเที่ยงตรงๆก็คือหลังเที่ยงตรงไปเลยครับพี่\n"
     ]
    }
   ],
   "source": [
    "lst2 = []\n",
    "for i in range(5):\n",
    "    lst2.append(checkspeech(r,\"asset/tech90sec.wav\"))"
   ]
  },
  {
   "cell_type": "code",
   "execution_count": null,
   "metadata": {},
   "outputs": [],
   "source": []
  }
 ],
 "metadata": {
  "kernelspec": {
   "display_name": "Python 3",
   "language": "python",
   "name": "python3"
  },
  "language_info": {
   "codemirror_mode": {
    "name": "ipython",
    "version": 3
   },
   "file_extension": ".py",
   "mimetype": "text/x-python",
   "name": "python",
   "nbconvert_exporter": "python",
   "pygments_lexer": "ipython3",
   "version": "3.6.8"
  }
 },
 "nbformat": 4,
 "nbformat_minor": 2
}
