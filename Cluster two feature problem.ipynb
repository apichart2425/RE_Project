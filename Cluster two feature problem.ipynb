{
 "cells": [
  {
   "cell_type": "markdown",
   "metadata": {},
   "source": [
    "### Import Model Sklearn & NLP to fit value text"
   ]
  },
  {
   "cell_type": "code",
   "execution_count": 1,
   "metadata": {},
   "outputs": [],
   "source": [
    "# from pythainlp import word_tokenize\n",
    "# from sklearn.feature_extraction.text import TfidfVectorizer\n",
    "from sklearn.cluster import KMeans\n",
    "# from sklearn.decomposition import PCA\n",
    "# from pythainlp.word_vector import thai2vec \n",
    "import numpy as np\n",
    "import pandas as pd\n",
    "%reload_ext autoreload\n",
    "%autoreload 2\n",
    "%matplotlib inline"
   ]
  },
  {
   "cell_type": "code",
   "execution_count": 2,
   "metadata": {},
   "outputs": [],
   "source": [
    "from pythainlp.tokenize import word_tokenize,sent_tokenize\n",
    "from gensim.models import KeyedVectors\n",
    "from gensim.models import Word2Vec\n",
    "import numpy as np\n",
    "from sklearn.metrics.pairwise import cosine_similarity\n",
    "from sklearn.manifold import TSNE\n",
    "from sklearn.cluster import AgglomerativeClustering\n",
    "import matplotlib.pyplot as plt\n",
    "import matplotlib.font_manager as fm\n",
    "from scipy.cluster import hierarchy\n",
    "import dill as pickle\n",
    "import pandas as pd\n",
    "import pythainlp.word_vector\n",
    "# model = word_vector.get_model()\n",
    "model_path = 'thwiki_data/models/'"
   ]
  },
  {
   "cell_type": "markdown",
   "metadata": {},
   "source": [
    "### read date problem"
   ]
  },
  {
   "cell_type": "code",
   "execution_count": 3,
   "metadata": {
    "scrolled": true
   },
   "outputs": [
    {
     "data": {
      "text/html": [
       "<div>\n",
       "<style scoped>\n",
       "    .dataframe tbody tr th:only-of-type {\n",
       "        vertical-align: middle;\n",
       "    }\n",
       "\n",
       "    .dataframe tbody tr th {\n",
       "        vertical-align: top;\n",
       "    }\n",
       "\n",
       "    .dataframe thead th {\n",
       "        text-align: right;\n",
       "    }\n",
       "</style>\n",
       "<table border=\"1\" class=\"dataframe\">\n",
       "  <thead>\n",
       "    <tr style=\"text-align: right;\">\n",
       "      <th></th>\n",
       "      <th>Vehicle</th>\n",
       "      <th>restaurant</th>\n",
       "      <th>food delivery</th>\n",
       "      <th>Problem</th>\n",
       "      <th>score</th>\n",
       "      <th>work</th>\n",
       "      <th>เวลาในการรออาหาร</th>\n",
       "      <th>ราคาอาหาร</th>\n",
       "    </tr>\n",
       "  </thead>\n",
       "  <tbody>\n",
       "    <tr>\n",
       "      <th>0</th>\n",
       "      <td>เดิน</td>\n",
       "      <td>ก๋วยเตี๋ยว, อาหารตามสั่ง, ข้าวมันไก่, ข้าวราดแ...</td>\n",
       "      <td>Promotions</td>\n",
       "      <td>ถ้าคนเยอะก็ไม่อยากไปต่อคิว</td>\n",
       "      <td>9.0</td>\n",
       "      <td>1 - 2 ชั่วโมง</td>\n",
       "      <td>10 นาทีขึ้นไป</td>\n",
       "      <td>51-100บาท</td>\n",
       "    </tr>\n",
       "    <tr>\n",
       "      <th>1</th>\n",
       "      <td>รถยนต์ส่วนตัว</td>\n",
       "      <td>ก๋วยเตี๋ยว, อาหารตามสั่ง, ข้าวมันไก่, ข้าวราดแ...</td>\n",
       "      <td>หิว ขี้เกียจเดิน จะทำงาน</td>\n",
       "      <td>ไม่มีอะไรน่ากิน</td>\n",
       "      <td>3.0</td>\n",
       "      <td>2 - 3 ชั่วโมง</td>\n",
       "      <td>6 - 10 นาที</td>\n",
       "      <td>51-100บาท</td>\n",
       "    </tr>\n",
       "    <tr>\n",
       "      <th>2</th>\n",
       "      <td>เดิน</td>\n",
       "      <td>ก๋วยเตี๋ยว, อาหารตามสั่ง, ข้าวราดแกง, ร้านน้ำ,...</td>\n",
       "      <td>เพราะร้านที่อยากกินอยู่ไกล บางทีก็อยู่ในเวลาเร...</td>\n",
       "      <td>ถ้าคิวยาวก็ไม่ซื้อ</td>\n",
       "      <td>8.6</td>\n",
       "      <td>1 - 2 ชั่วโมง</td>\n",
       "      <td>6 - 10 นาที</td>\n",
       "      <td>100-200 บาท</td>\n",
       "    </tr>\n",
       "    <tr>\n",
       "      <th>3</th>\n",
       "      <td>เดิน</td>\n",
       "      <td>ก๋วยเตี๋ยว, อาหารตามสั่ง, ข้าวราดแกง, ร้านน้ำ,...</td>\n",
       "      <td>ขี้เกียจเดินออกไปกินข้างนอก</td>\n",
       "      <td>ถ้าร้านนั้นคนเยอะก็จะไปเลือกร้านอื่น</td>\n",
       "      <td>7.8</td>\n",
       "      <td>1 - 2 ชั่วโมง</td>\n",
       "      <td>6 - 10 นาที</td>\n",
       "      <td>300-500 บาท</td>\n",
       "    </tr>\n",
       "    <tr>\n",
       "      <th>4</th>\n",
       "      <td>รถประจำทาง</td>\n",
       "      <td>ก๋วยเตี๋ยว, อาหารตามสั่ง, ข้าวมันไก่, ข้าวราดแ...</td>\n",
       "      <td>อยากกินร้านนั้น</td>\n",
       "      <td>ถ้าแถวยาวมากก็จะขี้เกียจรอ</td>\n",
       "      <td>8.0</td>\n",
       "      <td>1 - 2 ชั่วโมง</td>\n",
       "      <td>10 นาทีขึ้นไป</td>\n",
       "      <td>100-200 บาท</td>\n",
       "    </tr>\n",
       "    <tr>\n",
       "      <th>...</th>\n",
       "      <td>...</td>\n",
       "      <td>...</td>\n",
       "      <td>...</td>\n",
       "      <td>...</td>\n",
       "      <td>...</td>\n",
       "      <td>...</td>\n",
       "      <td>...</td>\n",
       "      <td>...</td>\n",
       "    </tr>\n",
       "    <tr>\n",
       "      <th>64</th>\n",
       "      <td>รถจักรยานยนต์</td>\n",
       "      <td>ร้านอาหารญี่ปุ่น</td>\n",
       "      <td>ไม่ต้องต่อคิวซื้อเอง</td>\n",
       "      <td>ร้านไม่เปิดในช่วงปิดเทอม</td>\n",
       "      <td>5.2</td>\n",
       "      <td>NaN</td>\n",
       "      <td>10-20 นาที</td>\n",
       "      <td>40-80บาท</td>\n",
       "    </tr>\n",
       "    <tr>\n",
       "      <th>65</th>\n",
       "      <td>รถยนต์ส่วนตัว</td>\n",
       "      <td>ก๋วยเตี๋ยว, อาหารตามสั่ง, ข้าวมันไก่, ข้าวราดแ...</td>\n",
       "      <td>หิวเมื่อไหรก็สั่งได้</td>\n",
       "      <td>คนเยอะรอคิวนาน</td>\n",
       "      <td>8.4</td>\n",
       "      <td>NaN</td>\n",
       "      <td>5-15 นาที</td>\n",
       "      <td>30-150บาท</td>\n",
       "    </tr>\n",
       "    <tr>\n",
       "      <th>66</th>\n",
       "      <td>รถยนต์ส่วนตัว</td>\n",
       "      <td>ร้านข้าวต้มปลา</td>\n",
       "      <td>มีอาหารที่หลากหลาย</td>\n",
       "      <td>ไม่อยากไปต่อแถว</td>\n",
       "      <td>8.0</td>\n",
       "      <td>NaN</td>\n",
       "      <td>2-3 นาที</td>\n",
       "      <td>20-100บาท</td>\n",
       "    </tr>\n",
       "    <tr>\n",
       "      <th>67</th>\n",
       "      <td>เดิน</td>\n",
       "      <td>ร้านส้มตำ</td>\n",
       "      <td>มีโปรโมชั่นเยอะ</td>\n",
       "      <td>ไม่อยากกินอาหารที่ขายอยู่</td>\n",
       "      <td>4.4</td>\n",
       "      <td>NaN</td>\n",
       "      <td>10-15 นาที</td>\n",
       "      <td>50-70บาท</td>\n",
       "    </tr>\n",
       "    <tr>\n",
       "      <th>68</th>\n",
       "      <td>รถยนต์ส่วนตัว</td>\n",
       "      <td>ก๋วยเตี๋ยว, อาหารตามสั่ง, ข้าวมันไก่, ข้าวราดแ...</td>\n",
       "      <td>มีส่วนลดค่าอาหารเยอะ</td>\n",
       "      <td>อาหารเหลือแต่ร้านที่ไม่อร่อย</td>\n",
       "      <td>5.2</td>\n",
       "      <td>NaN</td>\n",
       "      <td>20-30 นาที</td>\n",
       "      <td>20-100บาท</td>\n",
       "    </tr>\n",
       "  </tbody>\n",
       "</table>\n",
       "<p>69 rows × 8 columns</p>\n",
       "</div>"
      ],
      "text/plain": [
       "          Vehicle                                         restaurant  \\\n",
       "0            เดิน  ก๋วยเตี๋ยว, อาหารตามสั่ง, ข้าวมันไก่, ข้าวราดแ...   \n",
       "1   รถยนต์ส่วนตัว  ก๋วยเตี๋ยว, อาหารตามสั่ง, ข้าวมันไก่, ข้าวราดแ...   \n",
       "2            เดิน  ก๋วยเตี๋ยว, อาหารตามสั่ง, ข้าวราดแกง, ร้านน้ำ,...   \n",
       "3            เดิน  ก๋วยเตี๋ยว, อาหารตามสั่ง, ข้าวราดแกง, ร้านน้ำ,...   \n",
       "4      รถประจำทาง  ก๋วยเตี๋ยว, อาหารตามสั่ง, ข้าวมันไก่, ข้าวราดแ...   \n",
       "..            ...                                                ...   \n",
       "64  รถจักรยานยนต์                                   ร้านอาหารญี่ปุ่น   \n",
       "65  รถยนต์ส่วนตัว  ก๋วยเตี๋ยว, อาหารตามสั่ง, ข้าวมันไก่, ข้าวราดแ...   \n",
       "66  รถยนต์ส่วนตัว                                     ร้านข้าวต้มปลา   \n",
       "67           เดิน                                          ร้านส้มตำ   \n",
       "68  รถยนต์ส่วนตัว  ก๋วยเตี๋ยว, อาหารตามสั่ง, ข้าวมันไก่, ข้าวราดแ...   \n",
       "\n",
       "                                        food delivery  \\\n",
       "0                                          Promotions   \n",
       "1                            หิว ขี้เกียจเดิน จะทำงาน   \n",
       "2   เพราะร้านที่อยากกินอยู่ไกล บางทีก็อยู่ในเวลาเร...   \n",
       "3                         ขี้เกียจเดินออกไปกินข้างนอก   \n",
       "4                                     อยากกินร้านนั้น   \n",
       "..                                                ...   \n",
       "64                               ไม่ต้องต่อคิวซื้อเอง   \n",
       "65                               หิวเมื่อไหรก็สั่งได้   \n",
       "66                                 มีอาหารที่หลากหลาย   \n",
       "67                                    มีโปรโมชั่นเยอะ   \n",
       "68                               มีส่วนลดค่าอาหารเยอะ   \n",
       "\n",
       "                                 Problem  score           work  \\\n",
       "0             ถ้าคนเยอะก็ไม่อยากไปต่อคิว    9.0  1 - 2 ชั่วโมง   \n",
       "1                        ไม่มีอะไรน่ากิน    3.0  2 - 3 ชั่วโมง   \n",
       "2                     ถ้าคิวยาวก็ไม่ซื้อ    8.6  1 - 2 ชั่วโมง   \n",
       "3   ถ้าร้านนั้นคนเยอะก็จะไปเลือกร้านอื่น    7.8  1 - 2 ชั่วโมง   \n",
       "4             ถ้าแถวยาวมากก็จะขี้เกียจรอ    8.0  1 - 2 ชั่วโมง   \n",
       "..                                   ...    ...            ...   \n",
       "64              ร้านไม่เปิดในช่วงปิดเทอม    5.2            NaN   \n",
       "65                        คนเยอะรอคิวนาน    8.4            NaN   \n",
       "66                       ไม่อยากไปต่อแถว    8.0            NaN   \n",
       "67             ไม่อยากกินอาหารที่ขายอยู่    4.4            NaN   \n",
       "68          อาหารเหลือแต่ร้านที่ไม่อร่อย    5.2            NaN   \n",
       "\n",
       "   เวลาในการรออาหาร    ราคาอาหาร  \n",
       "0     10 นาทีขึ้นไป    51-100บาท  \n",
       "1       6 - 10 นาที    51-100บาท  \n",
       "2       6 - 10 นาที  100-200 บาท  \n",
       "3       6 - 10 นาที  300-500 บาท  \n",
       "4     10 นาทีขึ้นไป  100-200 บาท  \n",
       "..              ...          ...  \n",
       "64      10-20 นาที      40-80บาท  \n",
       "65        5-15 นาที    30-150บาท  \n",
       "66         2-3 นาที    20-100บาท  \n",
       "67       10-15 นาที     50-70บาท  \n",
       "68       20-30 นาที    20-100บาท  \n",
       "\n",
       "[69 rows x 8 columns]"
      ]
     },
     "execution_count": 3,
     "metadata": {},
     "output_type": "execute_result"
    }
   ],
   "source": [
    "df = pd.read_csv(\"data/dataReV5.csv\")\n",
    "df"
   ]
  },
  {
   "cell_type": "code",
   "execution_count": 4,
   "metadata": {},
   "outputs": [
    {
     "data": {
      "text/plain": [
       "0               ถ้าคนเยอะก็ไม่อยากไปต่อคิว\n",
       "1                          ไม่มีอะไรน่ากิน\n",
       "2                       ถ้าคิวยาวก็ไม่ซื้อ\n",
       "3     ถ้าร้านนั้นคนเยอะก็จะไปเลือกร้านอื่น\n",
       "4               ถ้าแถวยาวมากก็จะขี้เกียจรอ\n",
       "                      ...                 \n",
       "64                ร้านไม่เปิดในช่วงปิดเทอม\n",
       "65                          คนเยอะรอคิวนาน\n",
       "66                         ไม่อยากไปต่อแถว\n",
       "67               ไม่อยากกินอาหารที่ขายอยู่\n",
       "68            อาหารเหลือแต่ร้านที่ไม่อร่อย\n",
       "Length: 69, dtype: object"
      ]
     },
     "execution_count": 4,
     "metadata": {},
     "output_type": "execute_result"
    }
   ],
   "source": [
    "text = df['Problem'].dropna().rename(columns = {\"Problem\": \"problem\"})\n",
    "text"
   ]
  },
  {
   "cell_type": "markdown",
   "metadata": {},
   "source": [
    "### Import NLP Spit text"
   ]
  },
  {
   "cell_type": "code",
   "execution_count": 5,
   "metadata": {},
   "outputs": [],
   "source": [
    "from pythainlp import word_tokenize, Tokenizer"
   ]
  },
  {
   "cell_type": "code",
   "execution_count": 6,
   "metadata": {},
   "outputs": [],
   "source": [
    "sentences_newmm= []\n",
    "sentences_longest= []\n",
    "\n",
    "for x in text:\n",
    "    proc_newmm = word_tokenize(x, engine='newmm', keep_whitespace=False)\n",
    "    proc_longest = word_tokenize(x, engine='longest', keep_whitespace=False)\n",
    "\n",
    "    lst_newmm = []\n",
    "    lst_longest = []\n",
    "    \n",
    "    for word in proc_newmm:\n",
    "        if(word != \" \"):\n",
    "            lst_newmm.append(word)\n",
    "    sentences_newmm.append(lst_newmm)\n",
    "    for word in proc_longest:\n",
    "        if(word != \" \"):\n",
    "            lst_longest.append(word)\n",
    "    sentences_longest.append(lst_longest)"
   ]
  },
  {
   "cell_type": "code",
   "execution_count": 7,
   "metadata": {},
   "outputs": [],
   "source": [
    "model_nlp = pythainlp.word_vector.get_model()"
   ]
  },
  {
   "cell_type": "code",
   "execution_count": 8,
   "metadata": {},
   "outputs": [
    {
     "name": "stdout",
     "output_type": "stream",
     "text": [
      "[[-1.00567597e-01 -1.27915803e-01  1.43477401e-01 ...  2.76386910e-01\n",
      "  -1.70062402e-01 -4.73427492e-01]\n",
      " [ 2.90021330e-01 -4.17456659e-02  2.44560341e-01 ... -2.69656678e-02\n",
      "  -9.02133373e-03  3.56803313e-02]\n",
      " [-2.24298332e-02 -8.48581667e-02  7.54751674e-02 ...  1.85578171e-01\n",
      "  -9.97570058e-02 -3.78829824e-01]\n",
      " ...\n",
      " [-8.40125967e-02 -1.83691007e-01  2.10356402e-01 ...  1.57500415e-01\n",
      "  -1.81059796e-01 -4.68102390e-01]\n",
      " [-5.45194253e-02  7.63940002e-02  1.29256144e-01 ...  2.69724432e-01\n",
      "  -7.95957119e-02 -1.14440563e-01]\n",
      " [ 3.51500387e-04 -2.55971832e-01  1.02588498e-01 ...  1.13420837e-01\n",
      "  -1.39443330e-01 -3.14016889e-03]]\n"
     ]
    }
   ],
   "source": [
    "def sentence_vectorizer(ss,dim=300,use_mean=True): # ประกาศฟังก์ชัน sentence_vectorizer\n",
    "    s = word_tokenize(ss)\n",
    "    vec = np.zeros((1,dim))\n",
    "    for word in s:\n",
    "#         if word in model_nlp.wv.index2word: \n",
    "#             vec+= model_nlp.wv.word_vec(word)\n",
    "        if word in model_nlp.index2word: \n",
    "            vec+= model_nlp.word_vec(word)\n",
    "        else: pass\n",
    "    if use_mean: vec /= len(s)\n",
    "    return vec\n",
    "\n",
    "lst_vector = []\n",
    "for i in text:\n",
    "    lst_vector.append(sentence_vectorizer(i)[0])\n",
    "X=np.array(lst_vector)\n",
    "print(X)\n",
    "# text"
   ]
  },
  {
   "cell_type": "code",
   "execution_count": 9,
   "metadata": {},
   "outputs": [],
   "source": [
    "import matplotlib.pyplot as plt\n",
    "wcss = []\n",
    "for i in range(1,11):\n",
    "    kmeans = KMeans(n_clusters = i, init = 'k-means++', random_state = 42)\n",
    "    kmeans.fit(X)\n",
    "    wcss.append(kmeans.inertia_)"
   ]
  },
  {
   "cell_type": "markdown",
   "metadata": {},
   "source": [
    "###  Import  scipy.spatial  distance"
   ]
  },
  {
   "cell_type": "code",
   "execution_count": 10,
   "metadata": {},
   "outputs": [],
   "source": [
    "from scipy.spatial import distance\n",
    "import numpy.matlib"
   ]
  },
  {
   "cell_type": "code",
   "execution_count": 11,
   "metadata": {},
   "outputs": [],
   "source": [
    "def elbow_method(data,k):\n",
    "    clusters = [KMeans(n_clusters = c,init = 'k-means++').fit(data) for c in k]\n",
    "    centr_lst = [cc.cluster_centers_ for cc in clusters]\n",
    "    k_distance = [distance.cdist(data, cent, 'euclidean') for cent in centr_lst]\n",
    "    clust_indx = [np.argmin(kd,axis=1) for kd in k_distance]\n",
    "    distances = [np.min(kd,axis=1) for kd in k_distance]\n",
    "    avg_within = [np.sum(dist)/data.shape[0] for dist in distances]\n",
    "    return avg_within"
   ]
  },
  {
   "cell_type": "code",
   "execution_count": 12,
   "metadata": {},
   "outputs": [],
   "source": [
    "def elbow_point(curve):\n",
    "    n_points = len(curve)\n",
    "    all_coord = np.vstack((range(n_points), curve)).T\n",
    "    np.array([range(n_points), curve])\n",
    "    first_point = all_coord[0]\n",
    "    line_vec = all_coord[-1] - first_point\n",
    "    line_vec_norm = line_vec / np.sqrt(np.sum(line_vec**2))\n",
    "    vec_from_first = all_coord - first_point\n",
    "    scalar_product = np.sum(vec_from_first * np.matlib.repmat(line_vec_norm, n_points, 1), axis=1)\n",
    "    vec_from_first_parallel = np.outer(scalar_product, line_vec_norm)\n",
    "    vec_to_line = vec_from_first - vec_from_first_parallel\n",
    "    dist_to_line = np.sqrt(np.sum(vec_to_line ** 2, axis=1))\n",
    "    print(dist_to_line)\n",
    "    idx_best = np.argmax(dist_to_line)\n",
    "    return idx_best"
   ]
  },
  {
   "cell_type": "code",
   "execution_count": 13,
   "metadata": {},
   "outputs": [
    {
     "name": "stdout",
     "output_type": "stream",
     "text": [
      "[0.         1.39149625 1.73326974 1.70225491 1.96419532 1.72298978\n",
      " 1.31853195 0.73664343 0.48717062 0.        ]\n"
     ]
    },
    {
     "data": {
      "text/plain": [
       "dtype('int64')"
      ]
     },
     "execution_count": 13,
     "metadata": {},
     "output_type": "execute_result"
    }
   ],
   "source": [
    "elbow=elbow_point(wcss)\n",
    "elbow.dtype"
   ]
  },
  {
   "cell_type": "code",
   "execution_count": 14,
   "metadata": {},
   "outputs": [
    {
     "name": "stdout",
     "output_type": "stream",
     "text": [
      "Optimal Cluster Number:  5\n"
     ]
    },
    {
     "data": {
      "image/png": "[encoded data removed]",
      "text/plain": [
       "<Figure size 432x288 with 1 Axes>"
      ]
     },
     "metadata": {
      "needs_background": "light"
     },
     "output_type": "display_data"
    }
   ],
   "source": [
    "n = len(wcss)+1\n",
    "K= range(1, n)\n",
    "\n",
    "print(\"Optimal Cluster Number: \",K[elbow])\n",
    "fig = plt.figure()\n",
    "ax = fig.add_subplot(111)\n",
    "ax.plot(K, wcss, 'bx-')\n",
    "ax.plot(K[elbow], wcss[elbow], marker='o', markersize=12,markeredgewidth=2, markeredgecolor='r', markerfacecolor='None')\n",
    "# ax.set_xticks(np.arange(0,n,1))\n",
    "# ax.set_yticks(np.arange(0,max(wcss),0.5))\n",
    "plt.grid()\n",
    "plt.xlabel('Number of clusters')\n",
    "plt.ylabel('Average within-cluster sum of squares')\n",
    "plt.title('Elow for KMeans clustering')\n",
    "plt.show();"
   ]
  },
  {
   "cell_type": "code",
   "execution_count": 15,
   "metadata": {},
   "outputs": [
    {
     "data": {
      "text/plain": [
       "array([1, 3, 1, 1, 1, 1, 1, 2, 1, 1, 2, 0, 1, 1, 0, 1, 2, 0, 3, 0, 0, 1,\n",
       "       1, 1, 0, 0, 3, 2, 1, 1, 1, 1, 1, 1, 3, 3, 1, 1, 1, 1, 0, 2, 1, 2,\n",
       "       3, 3, 2, 3, 3, 1, 2, 1, 2, 1, 3, 1, 3, 1, 1, 1, 4, 1, 1, 2, 3, 1,\n",
       "       1, 0, 2], dtype=int32)"
      ]
     },
     "execution_count": 15,
     "metadata": {},
     "output_type": "execute_result"
    }
   ],
   "source": [
    "n_clusters = K[elbow]\n",
    "clf = KMeans(n_clusters=n_clusters,\n",
    "            max_iter=100,\n",
    "            init='k-means++',\n",
    "            n_init=1)\n",
    "labels = clf.fit_predict(X)\n",
    "labels"
   ]
  },
  {
   "cell_type": "code",
   "execution_count": 16,
   "metadata": {
    "scrolled": true
   },
   "outputs": [],
   "source": [
    "n_clusters = 5\n",
    "clf = KMeans(n_clusters=n_clusters,\n",
    "            max_iter=100,\n",
    "            init='k-means++',\n",
    "            n_init=1)\n",
    "labels = clf.fit_predict(X)\n",
    "labels\n",
    "cluster = []\n",
    "value = []\n",
    "o = \"\"\n",
    "for index, sentence in enumerate(sentences_newmm):\n",
    "#     print(str(labels[index]) + \":\" + str(sentence))\n",
    "    cluster.append(labels[index])\n",
    "#     value.append(o.join(sentences_newmm[index]))\n",
    "#     list_of_cluster = list(zip(cluster))\n",
    "text_cluster = pd.DataFrame({\"cluster\":cluster})  \n"
   ]
  },
  {
   "cell_type": "code",
   "execution_count": 17,
   "metadata": {
    "scrolled": true
   },
   "outputs": [
    {
     "data": {
      "text/html": [
       "<div>\n",
       "<style scoped>\n",
       "    .dataframe tbody tr th:only-of-type {\n",
       "        vertical-align: middle;\n",
       "    }\n",
       "\n",
       "    .dataframe tbody tr th {\n",
       "        vertical-align: top;\n",
       "    }\n",
       "\n",
       "    .dataframe thead th {\n",
       "        text-align: right;\n",
       "    }\n",
       "</style>\n",
       "<table border=\"1\" class=\"dataframe\">\n",
       "  <thead>\n",
       "    <tr style=\"text-align: right;\">\n",
       "      <th></th>\n",
       "      <th>cluster</th>\n",
       "    </tr>\n",
       "  </thead>\n",
       "  <tbody>\n",
       "    <tr>\n",
       "      <th>0</th>\n",
       "      <td>0</td>\n",
       "    </tr>\n",
       "    <tr>\n",
       "      <th>1</th>\n",
       "      <td>1</td>\n",
       "    </tr>\n",
       "    <tr>\n",
       "      <th>2</th>\n",
       "      <td>2</td>\n",
       "    </tr>\n",
       "    <tr>\n",
       "      <th>3</th>\n",
       "      <td>2</td>\n",
       "    </tr>\n",
       "    <tr>\n",
       "      <th>4</th>\n",
       "      <td>2</td>\n",
       "    </tr>\n",
       "    <tr>\n",
       "      <th>...</th>\n",
       "      <td>...</td>\n",
       "    </tr>\n",
       "    <tr>\n",
       "      <th>64</th>\n",
       "      <td>4</td>\n",
       "    </tr>\n",
       "    <tr>\n",
       "      <th>65</th>\n",
       "      <td>2</td>\n",
       "    </tr>\n",
       "    <tr>\n",
       "      <th>66</th>\n",
       "      <td>0</td>\n",
       "    </tr>\n",
       "    <tr>\n",
       "      <th>67</th>\n",
       "      <td>3</td>\n",
       "    </tr>\n",
       "    <tr>\n",
       "      <th>68</th>\n",
       "      <td>3</td>\n",
       "    </tr>\n",
       "  </tbody>\n",
       "</table>\n",
       "<p>69 rows × 1 columns</p>\n",
       "</div>"
      ],
      "text/plain": [
       "    cluster\n",
       "0         0\n",
       "1         1\n",
       "2         2\n",
       "3         2\n",
       "4         2\n",
       "..      ...\n",
       "64        4\n",
       "65        2\n",
       "66        0\n",
       "67        3\n",
       "68        3\n",
       "\n",
       "[69 rows x 1 columns]"
      ]
     },
     "execution_count": 17,
     "metadata": {},
     "output_type": "execute_result"
    }
   ],
   "source": [
    "text_cluster"
   ]
  },
  {
   "cell_type": "code",
   "execution_count": 18,
   "metadata": {
    "scrolled": true
   },
   "outputs": [
    {
     "name": "stderr",
     "output_type": "stream",
     "text": [
      "/usr/local/lib/python3.7/site-packages/pandas/core/frame.py:7138: FutureWarning: Sorting because non-concatenation axis is not aligned. A future version\n",
      "of pandas will change to not sort by default.\n",
      "\n",
      "To accept the future behavior, pass 'sort=False'.\n",
      "\n",
      "To retain the current behavior and silence the warning, pass 'sort=True'.\n",
      "\n",
      "  sort=sort,\n",
      "/usr/local/lib/python3.7/site-packages/ipykernel_launcher.py:4: SettingWithCopyWarning: \n",
      "A value is trying to be set on a copy of a slice from a DataFrame.\n",
      "Try using .loc[row_indexer,col_indexer] = value instead\n",
      "\n",
      "See the caveats in the documentation: http://pandas.pydata.org/pandas-docs/stable/user_guide/indexing.html#returning-a-view-versus-a-copy\n",
      "  after removing the cwd from sys.path.\n"
     ]
    }
   ],
   "source": [
    "# df_cluster = pd.DataFrame(list_of_cluster, columns = ['cluster', 'text'])  \n",
    "df_cluster = df [['Problem','score']]\n",
    "df_cluster.append(text_cluster, ignore_index = True)\n",
    "df_cluster[\"cluster\"] = text_cluster.values"
   ]
  },
  {
   "cell_type": "code",
   "execution_count": 19,
   "metadata": {},
   "outputs": [
    {
     "data": {
      "text/html": [
       "<div>\n",
       "<style scoped>\n",
       "    .dataframe tbody tr th:only-of-type {\n",
       "        vertical-align: middle;\n",
       "    }\n",
       "\n",
       "    .dataframe tbody tr th {\n",
       "        vertical-align: top;\n",
       "    }\n",
       "\n",
       "    .dataframe thead th {\n",
       "        text-align: right;\n",
       "    }\n",
       "</style>\n",
       "<table border=\"1\" class=\"dataframe\">\n",
       "  <thead>\n",
       "    <tr style=\"text-align: right;\">\n",
       "      <th></th>\n",
       "      <th>Problem</th>\n",
       "      <th>score</th>\n",
       "      <th>cluster</th>\n",
       "    </tr>\n",
       "  </thead>\n",
       "  <tbody>\n",
       "    <tr>\n",
       "      <th>0</th>\n",
       "      <td>ถ้าคนเยอะก็ไม่อยากไปต่อคิว</td>\n",
       "      <td>9.0</td>\n",
       "      <td>0</td>\n",
       "    </tr>\n",
       "    <tr>\n",
       "      <th>1</th>\n",
       "      <td>ไม่มีอะไรน่ากิน</td>\n",
       "      <td>3.0</td>\n",
       "      <td>1</td>\n",
       "    </tr>\n",
       "    <tr>\n",
       "      <th>2</th>\n",
       "      <td>ถ้าคิวยาวก็ไม่ซื้อ</td>\n",
       "      <td>8.6</td>\n",
       "      <td>2</td>\n",
       "    </tr>\n",
       "    <tr>\n",
       "      <th>3</th>\n",
       "      <td>ถ้าร้านนั้นคนเยอะก็จะไปเลือกร้านอื่น</td>\n",
       "      <td>7.8</td>\n",
       "      <td>2</td>\n",
       "    </tr>\n",
       "    <tr>\n",
       "      <th>4</th>\n",
       "      <td>ถ้าแถวยาวมากก็จะขี้เกียจรอ</td>\n",
       "      <td>8.0</td>\n",
       "      <td>2</td>\n",
       "    </tr>\n",
       "    <tr>\n",
       "      <th>...</th>\n",
       "      <td>...</td>\n",
       "      <td>...</td>\n",
       "      <td>...</td>\n",
       "    </tr>\n",
       "    <tr>\n",
       "      <th>64</th>\n",
       "      <td>ร้านไม่เปิดในช่วงปิดเทอม</td>\n",
       "      <td>5.2</td>\n",
       "      <td>4</td>\n",
       "    </tr>\n",
       "    <tr>\n",
       "      <th>65</th>\n",
       "      <td>คนเยอะรอคิวนาน</td>\n",
       "      <td>8.4</td>\n",
       "      <td>2</td>\n",
       "    </tr>\n",
       "    <tr>\n",
       "      <th>66</th>\n",
       "      <td>ไม่อยากไปต่อแถว</td>\n",
       "      <td>8.0</td>\n",
       "      <td>0</td>\n",
       "    </tr>\n",
       "    <tr>\n",
       "      <th>67</th>\n",
       "      <td>ไม่อยากกินอาหารที่ขายอยู่</td>\n",
       "      <td>4.4</td>\n",
       "      <td>3</td>\n",
       "    </tr>\n",
       "    <tr>\n",
       "      <th>68</th>\n",
       "      <td>อาหารเหลือแต่ร้านที่ไม่อร่อย</td>\n",
       "      <td>5.2</td>\n",
       "      <td>3</td>\n",
       "    </tr>\n",
       "  </tbody>\n",
       "</table>\n",
       "<p>69 rows × 3 columns</p>\n",
       "</div>"
      ],
      "text/plain": [
       "                                 Problem  score  cluster\n",
       "0             ถ้าคนเยอะก็ไม่อยากไปต่อคิว    9.0        0\n",
       "1                        ไม่มีอะไรน่ากิน    3.0        1\n",
       "2                     ถ้าคิวยาวก็ไม่ซื้อ    8.6        2\n",
       "3   ถ้าร้านนั้นคนเยอะก็จะไปเลือกร้านอื่น    7.8        2\n",
       "4             ถ้าแถวยาวมากก็จะขี้เกียจรอ    8.0        2\n",
       "..                                   ...    ...      ...\n",
       "64              ร้านไม่เปิดในช่วงปิดเทอม    5.2        4\n",
       "65                        คนเยอะรอคิวนาน    8.4        2\n",
       "66                       ไม่อยากไปต่อแถว    8.0        0\n",
       "67             ไม่อยากกินอาหารที่ขายอยู่    4.4        3\n",
       "68          อาหารเหลือแต่ร้านที่ไม่อร่อย    5.2        3\n",
       "\n",
       "[69 rows x 3 columns]"
      ]
     },
     "execution_count": 19,
     "metadata": {},
     "output_type": "execute_result"
    }
   ],
   "source": [
    "# df_cluster = pd.DataFrame(list_of_cluster, columns = ['cluster', 'text'])  \n",
    "df_cluster"
   ]
  },
  {
   "cell_type": "code",
   "execution_count": null,
   "metadata": {},
   "outputs": [],
   "source": []
  },
  {
   "cell_type": "markdown",
   "metadata": {},
   "source": [
    "###  Speech Recognition"
   ]
  },
  {
   "cell_type": "code",
   "execution_count": 20,
   "metadata": {
    "scrolled": true
   },
   "outputs": [],
   "source": [
    "import speech_recognition as sr\n",
    "# Record Audio\n",
    "r = sr.Recognizer()\n",
    "m = sr.Microphone()"
   ]
  },
  {
   "cell_type": "code",
   "execution_count": 21,
   "metadata": {},
   "outputs": [
    {
     "name": "stdout",
     "output_type": "stream",
     "text": [
      "Set minimum energy threshold to 46.6221334987693\n"
     ]
    }
   ],
   "source": [
    "#set threhold level\n",
    "with m as source: r.adjust_for_ambient_noise(source)\n",
    "print(\"Set minimum energy threshold to {}\".format(r.energy_threshold))\n",
    "\n",
    "# Speech recognition using Google Speech Recognition\n",
    "def checkspeech(r):\n",
    "#     file_wav\n",
    "#     sr.Microphone()  sr.WavFile(file_wav)\n",
    "#     with sr.WavFile(\"C:/Users/Pack.Apichart/Desktop/re/t1.wav\")\n",
    "    print(\"Wake UP!!\")\n",
    "    with  sr.Microphone()  as source:\n",
    "        audio = r.listen(source)\n",
    "    try:\n",
    "    # for testing purposes, we're just using the default API key\n",
    "    # to use another API key, use `r.recognize_google(audio, key=\"GOOGLE_SPEECH_RECOGNITION_API_KEY\")`\n",
    "    # instead of `r.recognize_google(audio)`\n",
    "\n",
    "# \"en-US\"\n",
    "# \"th-TH\"\n",
    "        print(\"You said: \" + r.recognize_google(audio,language = \"th-TH\"))\n",
    "        return r.recognize_google(audio,language = \"th-TH\")\n",
    "#         return (r.recognize_google(audio))\n",
    "    except sr.UnknownValueError:\n",
    "        print(\"Google Speech Recognition could not understand audio\")\n",
    "        return \"stop now\"\n",
    "    except sr.RequestError as e:\n",
    "        print(\"Could not request results from Google Speech Recognition service; {0}\".format(e))\n",
    "        return \"Could not request results from Google Speech Recognition service\"\n",
    "\n"
   ]
  },
  {
   "cell_type": "code",
   "execution_count": 22,
   "metadata": {
    "scrolled": false
   },
   "outputs": [],
   "source": [
    "# speech = str(checkspeech(r))"
   ]
  },
  {
   "cell_type": "code",
   "execution_count": 23,
   "metadata": {},
   "outputs": [],
   "source": [
    "# speech_list = []\n",
    "# speech_list.append(sentence_vectorizer(str(speech))[0])\n",
    "# speech_vector = np.array(speech_list)\n",
    "# result = clf.predict(speech_vector)\n",
    "# result"
   ]
  },
  {
   "cell_type": "markdown",
   "metadata": {},
   "source": [
    "### Weigth score Text"
   ]
  },
  {
   "cell_type": "code",
   "execution_count": 24,
   "metadata": {},
   "outputs": [],
   "source": [
    "# def sentence_similarity(s1,s2):\n",
    "#     for i in s2:\n",
    "#         print(cosine_similarity(sentence_vectorizer(str(s1)),sentence_vectorizer(str(i))))\n",
    "# #     return cosine_similarity(sentence_vectorizer(str(s1)),sentence_vectorizer(str(s2)))\n"
   ]
  },
  {
   "cell_type": "code",
   "execution_count": 25,
   "metadata": {},
   "outputs": [
    {
     "data": {
      "text/html": [
       "<div>\n",
       "<style scoped>\n",
       "    .dataframe tbody tr th:only-of-type {\n",
       "        vertical-align: middle;\n",
       "    }\n",
       "\n",
       "    .dataframe tbody tr th {\n",
       "        vertical-align: top;\n",
       "    }\n",
       "\n",
       "    .dataframe thead th {\n",
       "        text-align: right;\n",
       "    }\n",
       "</style>\n",
       "<table border=\"1\" class=\"dataframe\">\n",
       "  <thead>\n",
       "    <tr style=\"text-align: right;\">\n",
       "      <th></th>\n",
       "      <th>Problem</th>\n",
       "      <th>score</th>\n",
       "      <th>cluster</th>\n",
       "    </tr>\n",
       "  </thead>\n",
       "  <tbody>\n",
       "    <tr>\n",
       "      <th>1</th>\n",
       "      <td>ไม่มีอะไรน่ากิน</td>\n",
       "      <td>3.0</td>\n",
       "      <td>1</td>\n",
       "    </tr>\n",
       "    <tr>\n",
       "      <th>17</th>\n",
       "      <td>ไม่รู้จะกินอะไร</td>\n",
       "      <td>4.4</td>\n",
       "      <td>1</td>\n",
       "    </tr>\n",
       "    <tr>\n",
       "      <th>40</th>\n",
       "      <td>ไม่รู้จะกินอะไร</td>\n",
       "      <td>3.8</td>\n",
       "      <td>1</td>\n",
       "    </tr>\n",
       "  </tbody>\n",
       "</table>\n",
       "</div>"
      ],
      "text/plain": [
       "            Problem  score  cluster\n",
       "1   ไม่มีอะไรน่ากิน    3.0        1\n",
       "17  ไม่รู้จะกินอะไร    4.4        1\n",
       "40  ไม่รู้จะกินอะไร    3.8        1"
      ]
     },
     "execution_count": 25,
     "metadata": {},
     "output_type": "execute_result"
    }
   ],
   "source": [
    "df_cluster[df_cluster['cluster']==1]"
   ]
  },
  {
   "cell_type": "code",
   "execution_count": 26,
   "metadata": {},
   "outputs": [
    {
     "name": "stdout",
     "output_type": "stream",
     "text": [
      "[4]\n"
     ]
    }
   ],
   "source": [
    "l = []\n",
    "\n",
    "# l.append(sentence_vectorizer(\"ถ้าร้านนั้นคนเยอะก็จะไปเลือกร้านอื่น\")[0])\n",
    "l.append(sentence_vectorizer(\"มีเวลาน้อย\")[0])\n",
    "\n",
    "KL=np.array(l)\n",
    "labels_newProblem = clf.predict(KL)\n",
    "print(labels_newProblem)"
   ]
  },
  {
   "cell_type": "code",
   "execution_count": 27,
   "metadata": {},
   "outputs": [],
   "source": [
    "def sentence_similarity(s1,s2):\n",
    "    for i in s2:\n",
    "        cosine_similarity(sentence_vectorizer(str(s1)),sentence_vectorizer(str(i)))\n",
    "    return cosine_similarity(sentence_vectorizer(str(s1)),sentence_vectorizer(str(s2)))\n"
   ]
  },
  {
   "cell_type": "markdown",
   "metadata": {},
   "source": [
    "# grop \n",
    "### มีเวลาน้อยไม่สามารถต่อคิวได้\t7.4\t2\n",
    "#### ร้านอาหารมีคิวเยอะ\t8.4\t2\n",
    "#### มีเวลาพักกินข้าวน้อย\t6.8\t2\n",
    "#### ร้านอาหารมีจำนวนไม่มากพอที่จะรับจำนวนนักศึกษา\t6.6\t2\n",
    "#### ร้านอาหารมีคิวเยอะ\t8.0\t2\n",
    "#### มีเวลาพักไม่พอต่อคิว\t8.2\t2\n",
    "#### ร้านอาหารมีน้อยกว่าจำนวนนักศึกษา"
   ]
  },
  {
   "cell_type": "code",
   "execution_count": 28,
   "metadata": {
    "scrolled": true
   },
   "outputs": [
    {
     "name": "stdout",
     "output_type": "stream",
     "text": [
      "[[0.66221347]]\n",
      "[[0.73685298]]\n",
      "[[0.93237675]]\n",
      "[[0.55630793]]\n",
      "[[0.53002163]]\n"
     ]
    }
   ],
   "source": [
    "print(sentence_similarity(\"มีเวลาน้อย\",\"มีเวลาพักไม่พอต่อคิว\"))\n",
    "print(sentence_similarity(\"มีเวลาน้อย\",\"มีเวลาน้อยไม่สามารถต่อคิวได้\"))\n",
    "print(sentence_similarity(\"มีเวลาน้อย\",\"มีเวลาพักกินข้าวน้อย\"))\n",
    "print(sentence_similarity(\"มีเวลาน้อย\",\"ร้านอาหารมีจำนวนไม่มากพอที่จะรับจำนวนนักศึกษา\"))\n",
    "print(sentence_similarity(\"มีเวลาน้อย\",\"ร้านอาหารมีคิวเยอะ\"))\n"
   ]
  },
  {
   "cell_type": "code",
   "execution_count": 29,
   "metadata": {
    "scrolled": true
   },
   "outputs": [
    {
     "data": {
      "text/html": [
       "<div>\n",
       "<style scoped>\n",
       "    .dataframe tbody tr th:only-of-type {\n",
       "        vertical-align: middle;\n",
       "    }\n",
       "\n",
       "    .dataframe tbody tr th {\n",
       "        vertical-align: top;\n",
       "    }\n",
       "\n",
       "    .dataframe thead th {\n",
       "        text-align: right;\n",
       "    }\n",
       "</style>\n",
       "<table border=\"1\" class=\"dataframe\">\n",
       "  <thead>\n",
       "    <tr style=\"text-align: right;\">\n",
       "      <th></th>\n",
       "      <th>Problem</th>\n",
       "      <th>score</th>\n",
       "      <th>cluster</th>\n",
       "    </tr>\n",
       "  </thead>\n",
       "  <tbody>\n",
       "    <tr>\n",
       "      <th>11</th>\n",
       "      <td>อยากกินอาหารแปลกใหม่</td>\n",
       "      <td>3.6</td>\n",
       "      <td>4</td>\n",
       "    </tr>\n",
       "    <tr>\n",
       "      <th>18</th>\n",
       "      <td>ไม่มีโต๊ะนั่งกินข้าว</td>\n",
       "      <td>5.8</td>\n",
       "      <td>4</td>\n",
       "    </tr>\n",
       "    <tr>\n",
       "      <th>19</th>\n",
       "      <td>กินอาหารน้อยลง</td>\n",
       "      <td>4.4</td>\n",
       "      <td>4</td>\n",
       "    </tr>\n",
       "    <tr>\n",
       "      <th>20</th>\n",
       "      <td>อยากกินร้านอาหารข้างนอก</td>\n",
       "      <td>5.6</td>\n",
       "      <td>4</td>\n",
       "    </tr>\n",
       "    <tr>\n",
       "      <th>21</th>\n",
       "      <td>ร้านอาหารมีคิวเยอะ</td>\n",
       "      <td>8.4</td>\n",
       "      <td>4</td>\n",
       "    </tr>\n",
       "    <tr>\n",
       "      <th>23</th>\n",
       "      <td>มีเวลาพักกินข้าวน้อย</td>\n",
       "      <td>6.8</td>\n",
       "      <td>4</td>\n",
       "    </tr>\n",
       "    <tr>\n",
       "      <th>24</th>\n",
       "      <td>ไม่อยากกินอาหารจำเจ</td>\n",
       "      <td>3.6</td>\n",
       "      <td>4</td>\n",
       "    </tr>\n",
       "    <tr>\n",
       "      <th>26</th>\n",
       "      <td>หาโต๊ะนั่งไม่ได้</td>\n",
       "      <td>6.2</td>\n",
       "      <td>4</td>\n",
       "    </tr>\n",
       "    <tr>\n",
       "      <th>29</th>\n",
       "      <td>ควันเยอะ, ร้อน, แมลงวัน ไม่ค่อยน่านั่ง</td>\n",
       "      <td>4.8</td>\n",
       "      <td>4</td>\n",
       "    </tr>\n",
       "    <tr>\n",
       "      <th>31</th>\n",
       "      <td>อาจารย์สอนเกินเวลาไม่มีอาหารเหลือให้กิน</td>\n",
       "      <td>7.6</td>\n",
       "      <td>4</td>\n",
       "    </tr>\n",
       "    <tr>\n",
       "      <th>34</th>\n",
       "      <td>มาทำงานวันหยุดไม่มีร้านอาหารเปิด</td>\n",
       "      <td>5.4</td>\n",
       "      <td>4</td>\n",
       "    </tr>\n",
       "    <tr>\n",
       "      <th>35</th>\n",
       "      <td>ทำงานดึกทำให้ไม่มีร้านอาหารเปิด</td>\n",
       "      <td>6.2</td>\n",
       "      <td>4</td>\n",
       "    </tr>\n",
       "    <tr>\n",
       "      <th>36</th>\n",
       "      <td>ร้านอาหารมีจำนวนไม่มากพอที่จะรับจำนวนนักศึกษา</td>\n",
       "      <td>6.6</td>\n",
       "      <td>4</td>\n",
       "    </tr>\n",
       "    <tr>\n",
       "      <th>44</th>\n",
       "      <td>ร้านอาหารไม่เปิดให้บริการในเวลาดึก</td>\n",
       "      <td>5.8</td>\n",
       "      <td>4</td>\n",
       "    </tr>\n",
       "    <tr>\n",
       "      <th>45</th>\n",
       "      <td>ไม่มีร้านอาหารเปิดในวันหยุด</td>\n",
       "      <td>6.0</td>\n",
       "      <td>4</td>\n",
       "    </tr>\n",
       "    <tr>\n",
       "      <th>47</th>\n",
       "      <td>ลืมกระเป๋าตังไม่มีเงินสดจ่าย</td>\n",
       "      <td>3.0</td>\n",
       "      <td>4</td>\n",
       "    </tr>\n",
       "    <tr>\n",
       "      <th>48</th>\n",
       "      <td>ร้านไม่รับโอน</td>\n",
       "      <td>3.8</td>\n",
       "      <td>4</td>\n",
       "    </tr>\n",
       "    <tr>\n",
       "      <th>53</th>\n",
       "      <td>ร้านอาหารมีคิวเยอะ</td>\n",
       "      <td>8.0</td>\n",
       "      <td>4</td>\n",
       "    </tr>\n",
       "    <tr>\n",
       "      <th>54</th>\n",
       "      <td>ร้านอาหารไม่เปิดบริการในวันหยุด</td>\n",
       "      <td>5.8</td>\n",
       "      <td>4</td>\n",
       "    </tr>\n",
       "    <tr>\n",
       "      <th>56</th>\n",
       "      <td>บรรยากาศโรงอาหารไม่น่ารับประทาน</td>\n",
       "      <td>2.8</td>\n",
       "      <td>4</td>\n",
       "    </tr>\n",
       "    <tr>\n",
       "      <th>60</th>\n",
       "      <td>อาหารหมด</td>\n",
       "      <td>7.2</td>\n",
       "      <td>4</td>\n",
       "    </tr>\n",
       "    <tr>\n",
       "      <th>61</th>\n",
       "      <td>ร้านอาหารมีน้อยกว่าจำนวนนักศึกษา</td>\n",
       "      <td>6.4</td>\n",
       "      <td>4</td>\n",
       "    </tr>\n",
       "    <tr>\n",
       "      <th>62</th>\n",
       "      <td>เบื่อเมนูอาหารในโรงอาหาร</td>\n",
       "      <td>4.0</td>\n",
       "      <td>4</td>\n",
       "    </tr>\n",
       "    <tr>\n",
       "      <th>64</th>\n",
       "      <td>ร้านไม่เปิดในช่วงปิดเทอม</td>\n",
       "      <td>5.2</td>\n",
       "      <td>4</td>\n",
       "    </tr>\n",
       "  </tbody>\n",
       "</table>\n",
       "</div>"
      ],
      "text/plain": [
       "                                          Problem  score  cluster\n",
       "11                           อยากกินอาหารแปลกใหม่    3.6        4\n",
       "18                           ไม่มีโต๊ะนั่งกินข้าว    5.8        4\n",
       "19                                กินอาหารน้อยลง     4.4        4\n",
       "20                        อยากกินร้านอาหารข้างนอก    5.6        4\n",
       "21                            ร้านอาหารมีคิวเยอะ     8.4        4\n",
       "23                           มีเวลาพักกินข้าวน้อย    6.8        4\n",
       "24                            ไม่อยากกินอาหารจำเจ    3.6        4\n",
       "26                               หาโต๊ะนั่งไม่ได้    6.2        4\n",
       "29         ควันเยอะ, ร้อน, แมลงวัน ไม่ค่อยน่านั่ง    4.8        4\n",
       "31        อาจารย์สอนเกินเวลาไม่มีอาหารเหลือให้กิน    7.6        4\n",
       "34               มาทำงานวันหยุดไม่มีร้านอาหารเปิด    5.4        4\n",
       "35                ทำงานดึกทำให้ไม่มีร้านอาหารเปิด    6.2        4\n",
       "36  ร้านอาหารมีจำนวนไม่มากพอที่จะรับจำนวนนักศึกษา    6.6        4\n",
       "44             ร้านอาหารไม่เปิดให้บริการในเวลาดึก    5.8        4\n",
       "45                    ไม่มีร้านอาหารเปิดในวันหยุด    6.0        4\n",
       "47                   ลืมกระเป๋าตังไม่มีเงินสดจ่าย    3.0        4\n",
       "48                                  ร้านไม่รับโอน    3.8        4\n",
       "53                             ร้านอาหารมีคิวเยอะ    8.0        4\n",
       "54                ร้านอาหารไม่เปิดบริการในวันหยุด    5.8        4\n",
       "56                บรรยากาศโรงอาหารไม่น่ารับประทาน    2.8        4\n",
       "60                                       อาหารหมด    7.2        4\n",
       "61               ร้านอาหารมีน้อยกว่าจำนวนนักศึกษา    6.4        4\n",
       "62                       เบื่อเมนูอาหารในโรงอาหาร    4.0        4\n",
       "64                       ร้านไม่เปิดในช่วงปิดเทอม    5.2        4"
      ]
     },
     "execution_count": 29,
     "metadata": {},
     "output_type": "execute_result"
    }
   ],
   "source": [
    "df_cluster[df_cluster['cluster']==labels_newProblem[0]]"
   ]
  },
  {
   "cell_type": "code",
   "execution_count": 55,
   "metadata": {
    "scrolled": false
   },
   "outputs": [
    {
     "name": "stdout",
     "output_type": "stream",
     "text": [
      "รอคิวนาน group:  2 similarity:  0.8410794182587716 score : 8.4\n",
      "เบื่อเมนูอาหาร group:  4 similarity:  0.9587626309283312 score : 4.0\n",
      "คิวเยอะ group:  2 similarity:  0.6575477671602833 score : 8.8\n",
      "อาหารหมด group:  4 similarity:  1.0 score : 7.2\n"
     ]
    }
   ],
   "source": [
    "text2222 = [\"รอคิวนาน\", \"เบื่อเมนูอาหาร\", \"คิวเยอะ\", \"อาหารหมด\"]\n",
    "group_text = []\n",
    "l = []\n",
    "for y in text2222:\n",
    "    l.append(sentence_vectorizer(y)[0])\n",
    "KL=np.array(l)\n",
    "labels_newProblem = clf.predict(KL)\n",
    "group_text.append(labels_newProblem)\n",
    "for countgroup in range(len(labels_newProblem)):\n",
    "    state_score = \"\"\n",
    "    state_similarity = 0\n",
    "    for i in df_cluster[df_cluster['cluster']==labels_newProblem[countgroup]].values:\n",
    "        check_similarity = sentence_similarity(text2222[countgroup],i[0])\n",
    "        if(check_similarity > state_similarity):\n",
    "            state_similarity = check_similarity\n",
    "            state_score = i[1]\n",
    "\n",
    "#         print(check_similarity,i[0],\": score\",i[1])\n",
    "    print(text2222[countgroup], \"group: \", labels_newProblem[countgroup], \"similarity: \" ,state_similarity[0][0], \"score :\" , state_score)\n",
    "        "
   ]
  },
  {
   "cell_type": "code",
   "execution_count": 31,
   "metadata": {},
   "outputs": [
    {
     "data": {
      "text/html": [
       "<div>\n",
       "<style scoped>\n",
       "    .dataframe tbody tr th:only-of-type {\n",
       "        vertical-align: middle;\n",
       "    }\n",
       "\n",
       "    .dataframe tbody tr th {\n",
       "        vertical-align: top;\n",
       "    }\n",
       "\n",
       "    .dataframe thead th {\n",
       "        text-align: right;\n",
       "    }\n",
       "</style>\n",
       "<table border=\"1\" class=\"dataframe\">\n",
       "  <thead>\n",
       "    <tr style=\"text-align: right;\">\n",
       "      <th></th>\n",
       "      <th>Problem</th>\n",
       "      <th>score</th>\n",
       "      <th>cluster</th>\n",
       "    </tr>\n",
       "  </thead>\n",
       "  <tbody>\n",
       "    <tr>\n",
       "      <th>2</th>\n",
       "      <td>ถ้าคิวยาวก็ไม่ซื้อ</td>\n",
       "      <td>8.6</td>\n",
       "      <td>2</td>\n",
       "    </tr>\n",
       "    <tr>\n",
       "      <th>3</th>\n",
       "      <td>ถ้าร้านนั้นคนเยอะก็จะไปเลือกร้านอื่น</td>\n",
       "      <td>7.8</td>\n",
       "      <td>2</td>\n",
       "    </tr>\n",
       "    <tr>\n",
       "      <th>4</th>\n",
       "      <td>ถ้าแถวยาวมากก็จะขี้เกียจรอ</td>\n",
       "      <td>8.0</td>\n",
       "      <td>2</td>\n",
       "    </tr>\n",
       "    <tr>\n",
       "      <th>5</th>\n",
       "      <td>ถ้าคนเยอะมากก็เปลี่ยนร้าน ไม่อยากรอ</td>\n",
       "      <td>7.8</td>\n",
       "      <td>2</td>\n",
       "    </tr>\n",
       "    <tr>\n",
       "      <th>6</th>\n",
       "      <td>ถ้าคนเยอะเกินไปก็จะไม่ซื้อ เปลี่ยนร้านหรือไม่ก...</td>\n",
       "      <td>8.8</td>\n",
       "      <td>2</td>\n",
       "    </tr>\n",
       "    <tr>\n",
       "      <th>8</th>\n",
       "      <td>ขี้เกียจรอนานๆ แล้วรู้สึกว่ามันเสียเวลา</td>\n",
       "      <td>8.4</td>\n",
       "      <td>2</td>\n",
       "    </tr>\n",
       "    <tr>\n",
       "      <th>9</th>\n",
       "      <td>ถ้าคิวยาวเกินจะเลือกร้านอื่นแทน</td>\n",
       "      <td>8.0</td>\n",
       "      <td>2</td>\n",
       "    </tr>\n",
       "    <tr>\n",
       "      <th>12</th>\n",
       "      <td>โรงอาหารคนเยอะทำให้ไม่อยากซื้อ</td>\n",
       "      <td>7.6</td>\n",
       "      <td>2</td>\n",
       "    </tr>\n",
       "    <tr>\n",
       "      <th>15</th>\n",
       "      <td>ถ้าคิวยาวเกินจะเลือกร้านอื่นแทน</td>\n",
       "      <td>8.0</td>\n",
       "      <td>2</td>\n",
       "    </tr>\n",
       "    <tr>\n",
       "      <th>22</th>\n",
       "      <td>เลิกเรียนช้า ทำให้ไม่เหลืออะไรให้กินเลย</td>\n",
       "      <td>7.0</td>\n",
       "      <td>2</td>\n",
       "    </tr>\n",
       "    <tr>\n",
       "      <th>28</th>\n",
       "      <td>คณะอื่นเยอะมาก อาหารซ้ำซาก บางทีอยากกินแถวซอยห...</td>\n",
       "      <td>8.2</td>\n",
       "      <td>2</td>\n",
       "    </tr>\n",
       "    <tr>\n",
       "      <th>30</th>\n",
       "      <td>คนเยอะ ต่อคิวนาน</td>\n",
       "      <td>8.2</td>\n",
       "      <td>2</td>\n",
       "    </tr>\n",
       "    <tr>\n",
       "      <th>33</th>\n",
       "      <td>คนเยอะ เบื่ออาหารในคณะ วุ่นวาย ร้อน</td>\n",
       "      <td>5.4</td>\n",
       "      <td>2</td>\n",
       "    </tr>\n",
       "    <tr>\n",
       "      <th>37</th>\n",
       "      <td>โดนลัดคิว</td>\n",
       "      <td>8.8</td>\n",
       "      <td>2</td>\n",
       "    </tr>\n",
       "    <tr>\n",
       "      <th>38</th>\n",
       "      <td>ต่อคิวนาน คนเยอะมาก เนื่องจากหลายคณะมากินโรงอา...</td>\n",
       "      <td>9.6</td>\n",
       "      <td>2</td>\n",
       "    </tr>\n",
       "    <tr>\n",
       "      <th>42</th>\n",
       "      <td>ร้านจำไม่ได้ว่าเราสั่งอะไร</td>\n",
       "      <td>6.2</td>\n",
       "      <td>2</td>\n",
       "    </tr>\n",
       "    <tr>\n",
       "      <th>49</th>\n",
       "      <td>โรงอาหารคนเยอะไม่มีโต๊ะให้นั่ง</td>\n",
       "      <td>6.8</td>\n",
       "      <td>2</td>\n",
       "    </tr>\n",
       "    <tr>\n",
       "      <th>58</th>\n",
       "      <td>โรงอาหารคนต่อคิวเยอะ</td>\n",
       "      <td>8.2</td>\n",
       "      <td>2</td>\n",
       "    </tr>\n",
       "    <tr>\n",
       "      <th>59</th>\n",
       "      <td>คนรอสั่งอาหารเยอะ</td>\n",
       "      <td>8.4</td>\n",
       "      <td>2</td>\n",
       "    </tr>\n",
       "    <tr>\n",
       "      <th>65</th>\n",
       "      <td>คนเยอะรอคิวนาน</td>\n",
       "      <td>8.4</td>\n",
       "      <td>2</td>\n",
       "    </tr>\n",
       "  </tbody>\n",
       "</table>\n",
       "</div>"
      ],
      "text/plain": [
       "                                              Problem  score  cluster\n",
       "2                                  ถ้าคิวยาวก็ไม่ซื้อ    8.6        2\n",
       "3                ถ้าร้านนั้นคนเยอะก็จะไปเลือกร้านอื่น    7.8        2\n",
       "4                          ถ้าแถวยาวมากก็จะขี้เกียจรอ    8.0        2\n",
       "5                 ถ้าคนเยอะมากก็เปลี่ยนร้าน ไม่อยากรอ    7.8        2\n",
       "6   ถ้าคนเยอะเกินไปก็จะไม่ซื้อ เปลี่ยนร้านหรือไม่ก...    8.8        2\n",
       "8             ขี้เกียจรอนานๆ แล้วรู้สึกว่ามันเสียเวลา    8.4        2\n",
       "9                     ถ้าคิวยาวเกินจะเลือกร้านอื่นแทน    8.0        2\n",
       "12                     โรงอาหารคนเยอะทำให้ไม่อยากซื้อ    7.6        2\n",
       "15                    ถ้าคิวยาวเกินจะเลือกร้านอื่นแทน    8.0        2\n",
       "22            เลิกเรียนช้า ทำให้ไม่เหลืออะไรให้กินเลย    7.0        2\n",
       "28  คณะอื่นเยอะมาก อาหารซ้ำซาก บางทีอยากกินแถวซอยห...    8.2        2\n",
       "30                                   คนเยอะ ต่อคิวนาน    8.2        2\n",
       "33                คนเยอะ เบื่ออาหารในคณะ วุ่นวาย ร้อน    5.4        2\n",
       "37                                          โดนลัดคิว    8.8        2\n",
       "38  ต่อคิวนาน คนเยอะมาก เนื่องจากหลายคณะมากินโรงอา...    9.6        2\n",
       "42                         ร้านจำไม่ได้ว่าเราสั่งอะไร    6.2        2\n",
       "49                     โรงอาหารคนเยอะไม่มีโต๊ะให้นั่ง    6.8        2\n",
       "58                               โรงอาหารคนต่อคิวเยอะ    8.2        2\n",
       "59                                  คนรอสั่งอาหารเยอะ    8.4        2\n",
       "65                                     คนเยอะรอคิวนาน    8.4        2"
      ]
     },
     "execution_count": 31,
     "metadata": {},
     "output_type": "execute_result"
    }
   ],
   "source": [
    "df_cluster[df_cluster['cluster']==labels_newProblem[0]]"
   ]
  },
  {
   "cell_type": "code",
   "execution_count": 32,
   "metadata": {},
   "outputs": [
    {
     "name": "stdout",
     "output_type": "stream",
     "text": [
      "[[0.93237675]]\n",
      "[4]\n"
     ]
    }
   ],
   "source": [
    "print(sentence_similarity(\"มีเวลาน้อย\",\"มีเวลาพักกินข้าวน้อย\"))\n",
    "l = []\n",
    "\n",
    "# l.append(sentence_vectorizer(\"ถ้าร้านนั้นคนเยอะก็จะไปเลือกร้านอื่น\")[0])\n",
    "l.append(sentence_vectorizer(\"มีเวลาน้อย\")[0])\n",
    "\n",
    "KL=np.array(l)\n",
    "labels = clf.predict(KL)\n",
    "print(labels)"
   ]
  },
  {
   "cell_type": "code",
   "execution_count": null,
   "metadata": {},
   "outputs": [],
   "source": []
  }
 ],
 "metadata": {
  "kernelspec": {
   "display_name": "Python 3",
   "language": "python",
   "name": "python3"
  },
  "language_info": {
   "codemirror_mode": {
    "name": "ipython",
    "version": 3
   },
   "file_extension": ".py",
   "mimetype": "text/x-python",
   "name": "python",
   "nbconvert_exporter": "python",
   "pygments_lexer": "ipython3",
   "version": "3.7.4"
  }
 },
 "nbformat": 4,
 "nbformat_minor": 2
}
