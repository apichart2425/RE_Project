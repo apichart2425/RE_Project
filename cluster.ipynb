{
 "cells": [
  {
   "cell_type": "code",
   "execution_count": 1,
   "metadata": {},
   "outputs": [],
   "source": [
    "# from pythainlp import word_tokenize\n",
    "# from sklearn.feature_extraction.text import TfidfVectorizer\n",
    "from sklearn.cluster import KMeans\n",
    "from sklearn.decomposition import PCA\n",
    "# from pythainlp.word_vector import thai2vec \n",
    "import numpy as np\n",
    "import pandas as pd\n",
    "%reload_ext autoreload\n",
    "%autoreload 2\n",
    "# %matplotlib inline\n",
    "\n",
    "from pythainlp.tokenize import word_tokenize\n",
    "from gensim.models import KeyedVectors\n",
    "from gensim.models import Word2Vec\n",
    "import numpy as np\n",
    "from sklearn.metrics.pairwise import cosine_similarity\n",
    "from sklearn.manifold import TSNE\n",
    "from sklearn.cluster import AgglomerativeClustering\n",
    "import matplotlib.pyplot as plt\n",
    "import matplotlib.font_manager as fm\n",
    "from scipy.cluster import hierarchy\n",
    "import dill as pickle\n",
    "import pandas as pd\n",
    "import pythainlp.word_vector\n",
    "# model = word_vector.get_model()\n",
    "model_path = 'thwiki_data/models/'"
   ]
  },
  {
   "cell_type": "code",
   "execution_count": 2,
   "metadata": {},
   "outputs": [],
   "source": [
    "# thai2dict = {}\n",
    "# for word in model.index2word:\n",
    "#     thai2dict[word] = model[word]\n",
    "# thai2vec = pd.DataFrame.from_dict(thai2dict,orient='index')\n",
    "# thai2vec.head(10)"
   ]
  },
  {
   "cell_type": "code",
   "execution_count": 3,
   "metadata": {},
   "outputs": [],
   "source": [
    "text = [\"ลองตัดคำดูก่อน\", \"จะได้ไหมนะ\",\"ทดสอบการตัด\" , \"ตัดคำในภาษาไทย\", \"ตัดได้จริงไหม\", \"ตัดคำได้ด้วยอะ\", \"วันนี้กินข้าวอะไร\", \"กินก๋วยเตี๋ยว\", \"กินก๋วยเตี๋ยว\", \"กินก๋วยเตี๋ยว\" ,\"ไปกินอาหารกันไหม\", \"ไม่อยากกินแล้วอะ\"]\n",
    "# text = [\"วันนี้กินกะเพรา\", \"วันนี้กินก๋วยเตี๋ยว\", \"วันนี้ไปกินน้ำส้มกัน\", \"เล่นเกมปะ\"\n",
    "#        ,\"ไม่ชอบกินก๋วยเตี๋ยวเลย\", \"ผมชอบไปกินข้าวผัด\", \"ชอบเล่นเกม\",\"ชอบเล่นฮีโรในแอล\",\n",
    "#         ]\n",
    "# text = [\"this is the learning good deep good book\", \"this is another book\", \"one more book\", \"train railway station\", \"time train station\", \"time railway station train\", \"this is the new post\", \"this is about more deep learning post\", \"and this is the one\"]\n",
    "# text = [\"ผมเป็นนักศึกษามหาวิทยาลัยขอนแก่น\",\"วันนี้กินข้าวอะไร\", \"กินก๋วยเตี๋ยว\", \"ชอบเล่นเกม\",\"ลองตัดคำดูก่อน\", \"จะได้ไหมนะ\",\"ทดสอบการตัด\" , \"ตัดคำในภาษาไทย\", \"ตัดได้จริงไหม\",\"ไปกินอาหารกันไหม\", \"ไม่อยากกินแล้วอะ\"]"
   ]
  },
  {
   "cell_type": "code",
   "execution_count": 4,
   "metadata": {},
   "outputs": [
    {
     "name": "stdout",
     "output_type": "stream",
     "text": [
      "[['ลอง', 'ตัด', 'คำ', 'ดูก่อน'], ['จะ', 'ได้', 'ไหม', 'นะ'], ['ทดสอบ', 'การ', 'ตัด'], ['ตัด', 'คำ', 'ใน', 'ภาษาไทย'], ['ตัด', 'ได้', 'จริง', 'ไหม'], ['ตัด', 'คำ', 'ได้', 'ด้วย', 'อะ'], ['วันนี้', 'กินข้าว', 'อะไร'], ['กิน', 'ก๋วยเตี๋ยว'], ['กิน', 'ก๋วยเตี๋ยว'], ['กิน', 'ก๋วยเตี๋ยว'], ['ไป', 'กิน', 'อาหาร', 'กัน', 'ไหม'], ['ไม่', 'อยาก', 'กิน', 'แล้ว', 'อะ']]\n"
     ]
    }
   ],
   "source": [
    "sentences = []\n",
    "# for y in text:\n",
    "#     proc = y.split()\n",
    "#     sentences.append(proc)\n",
    "# print(sentences)\n",
    "for x in text:\n",
    "    proc = word_tokenize(x, engine='newmm')\n",
    "#     textafter.append(proc)\n",
    "    sentences.append(proc)\n",
    "print(sentences)\n",
    "model = pythainlp.word_vector.get_model()"
   ]
  },
  {
   "cell_type": "code",
   "execution_count": 5,
   "metadata": {},
   "outputs": [
    {
     "name": "stdout",
     "output_type": "stream",
     "text": [
      "[[ 0.0127515  -0.00460674  0.0574335  ...  0.06342725 -0.156816\n",
      "   0.17575775]\n",
      " [-0.335627   -0.053387    0.081716   ...  0.36040025 -0.35480526\n",
      "  -0.50019648]\n",
      " [ 0.219492   -0.149831    0.19126933 ... -0.14638234 -0.3356\n",
      "  -0.08468733]\n",
      " ...\n",
      " [-0.0402395   0.072976   -0.0113545  ...  0.34258401  0.2355705\n",
      "   0.0142415 ]\n",
      " [ 0.0893272  -0.28905821  0.092385   ...  0.57016302 -0.0215498\n",
      "  -0.16312499]\n",
      " [-0.1846618   0.0513252   0.1345986  ...  0.10737721  0.0956028\n",
      "  -0.17006239]]\n"
     ]
    },
    {
     "name": "stderr",
     "output_type": "stream",
     "text": [
      "/usr/local/lib/python3.7/site-packages/ipykernel_launcher.py:5: DeprecationWarning: Call to deprecated `wv` (Attribute will be removed in 4.0.0, use self instead).\n",
      "  \"\"\"\n",
      "/usr/local/lib/python3.7/site-packages/ipykernel_launcher.py:6: DeprecationWarning: Call to deprecated `wv` (Attribute will be removed in 4.0.0, use self instead).\n",
      "  \n"
     ]
    }
   ],
   "source": [
    "def sentence_vectorizer(ss,dim=300,use_mean=True): # ประกาศฟังก์ชัน sentence_vectorizer\n",
    "    s = word_tokenize(ss)\n",
    "    vec = np.zeros((1,dim))\n",
    "    for word in s:\n",
    "        if word in model.wv.index2word:\n",
    "            vec+= model.wv.word_vec(word)\n",
    "        else: pass\n",
    "    if use_mean: vec /= len(s)\n",
    "    return vec\n",
    "\n",
    "l = []\n",
    "c = 0\n",
    "for i in text:\n",
    "    l.append(sentence_vectorizer(i)[0])\n",
    "#     if(c==0):\n",
    "#         print(sentence_vectorizer(i)[0])\n",
    "#     c+=1\n",
    "X=np.array(l)\n",
    "print(X)\n",
    "\n",
    "# m = Word2Vec(sentences, size=50, min_count=1, sg=1)\n",
    "# def vectorizer(sent,m):\n",
    "#     vec = []\n",
    "#     numw = 0\n",
    "#     for w in sent:\n",
    "#         try:\n",
    "#             if numw == 0:\n",
    "#                 vec = m[w]\n",
    "#             else:\n",
    "#                 vec = np.add(vec, m[w])\n",
    "#             numw+=1\n",
    "#         except:\n",
    "#             pass\n",
    "#         return np.asarray(vec) / numw\n",
    "# l = []\n",
    "# c=0\n",
    "# for i in sentences:\n",
    "#     l.append(vectorizer(i, m))\n",
    "# #     if(c==0):\n",
    "# #         print(vectorizer(i,m))\n",
    "# #     c+=1\n",
    "# X=np.array(l)\n",
    "# print(X)\n"
   ]
  },
  {
   "cell_type": "code",
   "execution_count": 6,
   "metadata": {},
   "outputs": [
    {
     "name": "stderr",
     "output_type": "stream",
     "text": [
      "/usr/local/lib/python3.7/site-packages/ipykernel_launcher.py:5: DeprecationWarning: Call to deprecated `wv` (Attribute will be removed in 4.0.0, use self instead).\n",
      "  \"\"\"\n",
      "/usr/local/lib/python3.7/site-packages/ipykernel_launcher.py:6: DeprecationWarning: Call to deprecated `wv` (Attribute will be removed in 4.0.0, use self instead).\n",
      "  \n"
     ]
    },
    {
     "data": {
      "text/plain": [
       "array([[0.23502779]])"
      ]
     },
     "execution_count": 6,
     "metadata": {},
     "output_type": "execute_result"
    }
   ],
   "source": [
    "def sentence_similarity(s1,s2):\n",
    "    return cosine_similarity(sentence_vectorizer(str(s1)),sentence_vectorizer(str(s2)))\n",
    "sentence_similarity(\"วันนี้กินกระเพรา\", \"ไปเชียงใหม่\")"
   ]
  },
  {
   "cell_type": "code",
   "execution_count": 7,
   "metadata": {},
   "outputs": [
    {
     "data": {
      "image/png": "[encoded data removed]",
      "text/plain": [
       "<Figure size 432x288 with 1 Axes>"
      ]
     },
     "metadata": {
      "needs_background": "light"
     },
     "output_type": "display_data"
    }
   ],
   "source": [
    "import matplotlib.pyplot as plt\n",
    "wcss = []\n",
    "for i in range(1,10):\n",
    "    kmeans = KMeans(n_clusters = i, init = 'k-means++', random_state = 42)\n",
    "    kmeans.fit(X)\n",
    "    wcss.append(kmeans.inertia_)\n",
    "plt.plot(range(1,10), wcss)\n",
    "plt.title('Elbow')\n",
    "plt.xlabel('Num')\n",
    "plt.ylabel('WCSS')\n",
    "plt.show()\n",
    "    \n",
    "    "
   ]
  },
  {
   "cell_type": "code",
   "execution_count": 8,
   "metadata": {},
   "outputs": [
    {
     "data": {
      "text/plain": [
       "[62.92542519474865,\n",
       " 44.316055320866596,\n",
       " 33.91391683376831,\n",
       " 27.703073047063988,\n",
       " 20.88469185040978,\n",
       " 14.908509237241397,\n",
       " 9.842000490071449,\n",
       " 5.065202684996012,\n",
       " 1.352952457759525]"
      ]
     },
     "execution_count": 8,
     "metadata": {},
     "output_type": "execute_result"
    }
   ],
   "source": [
    "wcss"
   ]
  },
  {
   "cell_type": "code",
   "execution_count": 9,
   "metadata": {},
   "outputs": [],
   "source": [
    "df = pd.DataFrame(wcss)\n"
   ]
  },
  {
   "cell_type": "code",
   "execution_count": 10,
   "metadata": {},
   "outputs": [
    {
     "data": {
      "text/plain": [
       "0    24.545759\n",
       "dtype: float64"
      ]
     },
     "execution_count": 10,
     "metadata": {},
     "output_type": "execute_result"
    }
   ],
   "source": [
    "df.mean()"
   ]
  },
  {
   "cell_type": "code",
   "execution_count": 11,
   "metadata": {},
   "outputs": [
    {
     "data": {
      "text/plain": [
       "0    20.004603\n",
       "dtype: float64"
      ]
     },
     "execution_count": 11,
     "metadata": {},
     "output_type": "execute_result"
    }
   ],
   "source": [
    "df.std()"
   ]
  },
  {
   "cell_type": "code",
   "execution_count": 12,
   "metadata": {},
   "outputs": [
    {
     "data": {
      "text/plain": [
       "0    61.572473\n",
       "dtype: float64"
      ]
     },
     "execution_count": 12,
     "metadata": {},
     "output_type": "execute_result"
    }
   ],
   "source": [
    "df.max() - df.min()"
   ]
  },
  {
   "cell_type": "code",
   "execution_count": 13,
   "metadata": {},
   "outputs": [
    {
     "data": {
      "text/plain": [
       "0    400.184158\n",
       "dtype: float64"
      ]
     },
     "execution_count": 13,
     "metadata": {},
     "output_type": "execute_result"
    }
   ],
   "source": [
    "df.var()"
   ]
  },
  {
   "cell_type": "code",
   "execution_count": 14,
   "metadata": {},
   "outputs": [
    {
     "ename": "SyntaxError",
     "evalue": "invalid syntax (<ipython-input-14-bfc3d3992ab6>, line 5)",
     "output_type": "error",
     "traceback": [
      "\u001b[0;36m  File \u001b[0;32m\"<ipython-input-14-bfc3d3992ab6>\"\u001b[0;36m, line \u001b[0;32m5\u001b[0m\n\u001b[0;31m    r[]\u001b[0m\n\u001b[0m      ^\u001b[0m\n\u001b[0;31mSyntaxError\u001b[0m\u001b[0;31m:\u001b[0m invalid syntax\n"
     ]
    }
   ],
   "source": [
    "r = []\n",
    "for i in range(len(wcss)-1):\n",
    "    \n",
    "    r.append(wcss[i] - wcss[i+1])\n",
    "r[]"
   ]
  },
  {
   "cell_type": "code",
   "execution_count": 15,
   "metadata": {},
   "outputs": [
    {
     "name": "stdout",
     "output_type": "stream",
     "text": [
      "[1 2 1 1 2 2 1 0 0 0 0 2]\n",
      "1:['ลอง', 'ตัด', 'คำ', 'ดูก่อน']\n",
      "2:['จะ', 'ได้', 'ไหม', 'นะ']\n",
      "1:['ทดสอบ', 'การ', 'ตัด']\n",
      "1:['ตัด', 'คำ', 'ใน', 'ภาษาไทย']\n",
      "2:['ตัด', 'ได้', 'จริง', 'ไหม']\n",
      "2:['ตัด', 'คำ', 'ได้', 'ด้วย', 'อะ']\n",
      "1:['วันนี้', 'กินข้าว', 'อะไร']\n",
      "0:['กิน', 'ก๋วยเตี๋ยว']\n",
      "0:['กิน', 'ก๋วยเตี๋ยว']\n",
      "0:['กิน', 'ก๋วยเตี๋ยว']\n",
      "0:['ไป', 'กิน', 'อาหาร', 'กัน', 'ไหม']\n",
      "2:['ไม่', 'อยาก', 'กิน', 'แล้ว', 'อะ']\n"
     ]
    }
   ],
   "source": [
    "n_clusters = 3\n",
    "clf = KMeans(n_clusters=n_clusters,\n",
    "            max_iter=100,\n",
    "            init='k-means++',\n",
    "            n_init=1)\n",
    "labels = clf.fit_predict(X)\n",
    "print(labels)\n",
    "for index, sentence in enumerate(sentences):\n",
    "    print(str(labels[index]) + \":\" + str(sentence))"
   ]
  },
  {
   "cell_type": "code",
   "execution_count": 16,
   "metadata": {},
   "outputs": [
    {
     "data": {
      "image/png": "[encoded data removed]",
      "text/plain": [
       "<Figure size 432x288 with 1 Axes>"
      ]
     },
     "metadata": {
      "needs_background": "light"
     },
     "output_type": "display_data"
    }
   ],
   "source": [
    "pca  = PCA(n_components=2).fit(X)\n",
    "coords = pca.transform(X)\n",
    "label_colors = [\"#54FF9F\", \"#7D26CD\", \"#794044\", \"#F4E628\"]\n",
    "colors = [label_colors[i] for i in labels]\n",
    "plt.scatter(coords[:, 0], coords[:, 1], c=colors)\n",
    "centroids = clf.cluster_centers_\n",
    "centroid_coords = pca.transform(centroids)\n",
    "plt.scatter(centroid_coords[:, 0], centroid_coords[:, 1], marker='X', s=200, linewidths=2, c='#444d61')\n",
    "plt.show()"
   ]
  },
  {
   "cell_type": "code",
   "execution_count": 17,
   "metadata": {},
   "outputs": [
    {
     "name": "stderr",
     "output_type": "stream",
     "text": [
      "/usr/local/lib/python3.7/site-packages/ipykernel_launcher.py:5: DeprecationWarning: Call to deprecated `wv` (Attribute will be removed in 4.0.0, use self instead).\n",
      "  \"\"\"\n",
      "/usr/local/lib/python3.7/site-packages/ipykernel_launcher.py:6: DeprecationWarning: Call to deprecated `wv` (Attribute will be removed in 4.0.0, use self instead).\n",
      "  \n"
     ]
    },
    {
     "data": {
      "text/plain": [
       "array([1], dtype=int32)"
      ]
     },
     "execution_count": 17,
     "metadata": {},
     "output_type": "execute_result"
    }
   ],
   "source": [
    "# x = sentence_vectorizer(\"งงจังครับ\")\n",
    "l = []\n",
    "c = 0\n",
    "# for i in text:\n",
    "l.append(sentence_vectorizer(\"ชอบเล่นเกม\")[0])\n",
    "#     if(c==0):\n",
    "#         print(sentence_vectorizer(i)[0])\n",
    "#     c+=1\n",
    "KL=np.array(l)\n",
    "clf.predict(KL)"
   ]
  },
  {
   "cell_type": "code",
   "execution_count": 20,
   "metadata": {},
   "outputs": [
    {
     "data": {
      "image/png": "[encoded data removed]",
      "text/plain": [
       "<Figure size 432x288 with 1 Axes>"
      ]
     },
     "metadata": {
      "needs_background": "light"
     },
     "output_type": "display_data"
    }
   ],
   "source": [
    "Z = hierarchy.linkage(X, 'ward')\n",
    "dn = hierarchy.dendrogram(Z)\n",
    "plt.title('Dendogram')\n",
    "plt.ylabel('Euclodean')\n",
    "plt.show()"
   ]
  },
  {
   "cell_type": "code",
   "execution_count": null,
   "metadata": {},
   "outputs": [],
   "source": [
    "hc = AgglomerativeClustering(n_clusters=3,\n",
    "                             affinity='euclidean',\n",
    "                            linkage='ward')\n",
    "y_hc= hc.fit_predict(X)\n",
    "print(y_hc)\n",
    "for index, sentence in enumerate(sentences):\n",
    "    print(str(y_hc[index]) + \":\" + str(sentence))"
   ]
  },
  {
   "cell_type": "code",
   "execution_count": null,
   "metadata": {},
   "outputs": [],
   "source": []
  },
  {
   "cell_type": "code",
   "execution_count": null,
   "metadata": {},
   "outputs": [],
   "source": []
  }
 ],
 "metadata": {
  "kernelspec": {
   "display_name": "Python 3",
   "language": "python",
   "name": "python3"
  },
  "language_info": {
   "codemirror_mode": {
    "name": "ipython",
    "version": 3
   },
   "file_extension": ".py",
   "mimetype": "text/x-python",
   "name": "python",
   "nbconvert_exporter": "python",
   "pygments_lexer": "ipython3",
   "version": "3.7.4"
  }
 },
 "nbformat": 4,
 "nbformat_minor": 2
}
