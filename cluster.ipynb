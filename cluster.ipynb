{
 "cells": [
  {
   "cell_type": "code",
   "execution_count": 132,
   "metadata": {},
   "outputs": [],
   "source": [
    "# from pythainlp import word_tokenize\n",
    "# from sklearn.feature_extraction.text import TfidfVectorizer\n",
    "from sklearn.cluster import KMeans\n",
    "from sklearn.decomposition import PCA\n",
    "# from pythainlp.word_vector import thai2vec \n",
    "import numpy as np\n",
    "import pandas as pd\n",
    "%reload_ext autoreload\n",
    "%autoreload 2\n",
    "# %matplotlib inline\n",
    "\n",
    "from pythainlp.tokenize import word_tokenize\n",
    "from gensim.models import KeyedVectors\n",
    "from gensim.models import Word2Vec\n",
    "import numpy as np\n",
    "from sklearn.metrics.pairwise import cosine_similarity\n",
    "from sklearn.manifold import TSNE\n",
    "from sklearn.cluster import AgglomerativeClustering\n",
    "import matplotlib.pyplot as plt\n",
    "import matplotlib.font_manager as fm\n",
    "from scipy.cluster import hierarchy\n",
    "import dill as pickle\n",
    "import pandas as pd\n",
    "import pythainlp.word_vector\n",
    "# model = word_vector.get_model()\n",
    "model_path = 'thwiki_data/models/'"
   ]
  },
  {
   "cell_type": "code",
   "execution_count": 133,
   "metadata": {},
   "outputs": [],
   "source": [
    "# thai2dict = {}\n",
    "# for word in model.index2word:\n",
    "#     thai2dict[word] = model[word]\n",
    "# thai2vec = pd.DataFrame.from_dict(thai2dict,orient='index')\n",
    "# thai2vec.head(10)"
   ]
  },
  {
   "cell_type": "code",
   "execution_count": 134,
   "metadata": {},
   "outputs": [],
   "source": [
    "text = [\"ลองตัดคำดูก่อน\", \"จะได้ไหมนะ\",\"ทดสอบการตัด\" , \"ตัดคำในภาษาไทย\", \"ตัดได้จริงไหม\", \"ตัดคำได้ด้วยอะ\", \"วันนี้กินข้าวอะไร\", \"กินก๋วยเตี๋ยว\", \"กินก๋วยเตี๋ยว\", \"กินก๋วยเตี๋ยว\" ,\"ไปกินอาหารกันไหม\", \"ไม่อยากกินแล้วอะ\"]\n",
    "# text = [\"วันนี้กินกะเพรา\", \"วันนี้กินก๋วยเตี๋ยว\", \"วันนี้ไปกินน้ำส้มกัน\", \"เล่นเกมปะ\"\n",
    "#        ,\"ไม่ชอบกินก๋วยเตี๋ยวเลย\", \"ผมชอบไปกินข้าวผัด\", \"ชอบเล่นเกม\",\"ชอบเล่นฮีโรในแอล\",\n",
    "#         ]\n",
    "# text = [\"this is the learning good deep good book\", \"this is another book\", \"one more book\", \"train railway station\", \"time train station\", \"time railway station train\", \"this is the new post\", \"this is about more deep learning post\", \"and this is the one\"]\n",
    "# text = [\"ผมเป็นนักศึกษาเรียนที่มหาวิทยาลัยขอนแก่น\",\"ผมเป็นนักศึกษามหาวิทยาลัยขอนแก่น\",\"ผมเป็นนักศึกษามหาวิทยาลัยขอนแก่น\",\"ผมเป็นนักศึกษามหาวิทยาลัยขอนแก่น\",\"วันนี้กินข้าวอะไร\", \"กินก๋วยเตี๋ยว\"]"
   ]
  },
  {
   "cell_type": "code",
   "execution_count": 135,
   "metadata": {},
   "outputs": [
    {
     "name": "stdout",
     "output_type": "stream",
     "text": [
      "[['ลอง', 'ตัด', 'คำ', 'ดูก่อน'], ['จะ', 'ได้', 'ไหม', 'นะ'], ['ทดสอบ', 'การ', 'ตัด'], ['ตัด', 'คำ', 'ใน', 'ภาษาไทย'], ['ตัด', 'ได้', 'จริง', 'ไหม'], ['ตัด', 'คำ', 'ได้', 'ด้วย', 'อะ'], ['วันนี้', 'กินข้าว', 'อะไร'], ['กิน', 'ก๋วยเตี๋ยว'], ['กิน', 'ก๋วยเตี๋ยว'], ['กิน', 'ก๋วยเตี๋ยว'], ['ไป', 'กิน', 'อาหาร', 'กัน', 'ไหม'], ['ไม่', 'อยาก', 'กิน', 'แล้ว', 'อะ']]\n"
     ]
    }
   ],
   "source": [
    "sentences = []\n",
    "# for y in text:\n",
    "#     proc = y.split()\n",
    "#     sentences.append(proc)\n",
    "# print(sentences)\n",
    "for x in text:\n",
    "    proc = word_tokenize(x, engine='newmm')\n",
    "#     textafter.append(proc)\n",
    "    sentences.append(proc)\n",
    "print(sentences)\n",
    "model = pythainlp.word_vector.get_model()"
   ]
  },
  {
   "cell_type": "code",
   "execution_count": 136,
   "metadata": {},
   "outputs": [
    {
     "name": "stderr",
     "output_type": "stream",
     "text": [
      "/usr/local/lib/python3.7/site-packages/ipykernel_launcher.py:5: DeprecationWarning: Call to deprecated `wv` (Attribute will be removed in 4.0.0, use self instead).\n",
      "  \"\"\"\n",
      "/usr/local/lib/python3.7/site-packages/ipykernel_launcher.py:6: DeprecationWarning: Call to deprecated `wv` (Attribute will be removed in 4.0.0, use self instead).\n",
      "  \n"
     ]
    }
   ],
   "source": [
    "def sentence_vectorizer(ss,dim=300,use_mean=True): # ประกาศฟังก์ชัน sentence_vectorizer\n",
    "    s = word_tokenize(ss)\n",
    "    vec = np.zeros((1,dim))\n",
    "    for word in s:\n",
    "        if word in model.wv.index2word:\n",
    "            vec+= model.wv.word_vec(word)\n",
    "        else: pass\n",
    "    if use_mean: vec /= len(s)\n",
    "    return vec\n",
    "\n",
    "l = []\n",
    "c = 0\n",
    "for i in text:\n",
    "    l.append(sentence_vectorizer(i)[0])\n",
    "#     if(c==0):\n",
    "#         print(sentence_vectorizer(i)[0])\n",
    "#     c+=1\n",
    "X=np.array(l)\n",
    "# print(l)\n",
    "\n",
    "# m = Word2Vec(sentences, size=50, min_count=1, sg=1)\n",
    "# def vectorizer(sent,m):\n",
    "#     vec = []\n",
    "#     numw = 0\n",
    "#     for w in sent:\n",
    "#         try:\n",
    "#             if numw == 0:\n",
    "#                 vec = m[w]\n",
    "#             else:\n",
    "#                 vec = np.add(vec, m[w])\n",
    "#             numw+=1\n",
    "#         except:\n",
    "#             pass\n",
    "#         return np.asarray(vec) / numw\n",
    "# l = []\n",
    "# c=0\n",
    "# for i in sentences:\n",
    "#     l.append(vectorizer(i, m))\n",
    "# #     if(c==0):\n",
    "# #         print(vectorizer(i,m))\n",
    "# #     c+=1\n",
    "# X=np.array(l)\n",
    "# print(X)\n"
   ]
  },
  {
   "cell_type": "code",
   "execution_count": 137,
   "metadata": {},
   "outputs": [
    {
     "name": "stderr",
     "output_type": "stream",
     "text": [
      "/usr/local/lib/python3.7/site-packages/ipykernel_launcher.py:5: DeprecationWarning: Call to deprecated `wv` (Attribute will be removed in 4.0.0, use self instead).\n",
      "  \"\"\"\n",
      "/usr/local/lib/python3.7/site-packages/ipykernel_launcher.py:6: DeprecationWarning: Call to deprecated `wv` (Attribute will be removed in 4.0.0, use self instead).\n",
      "  \n"
     ]
    },
    {
     "data": {
      "text/plain": [
       "array([[0.23502779]])"
      ]
     },
     "execution_count": 137,
     "metadata": {},
     "output_type": "execute_result"
    }
   ],
   "source": [
    "def sentence_similarity(s1,s2):\n",
    "    return cosine_similarity(sentence_vectorizer(str(s1)),sentence_vectorizer(str(s2)))\n",
    "sentence_similarity(\"วันนี้กินกระเพรา\", \"ไปเชียงใหม่\")"
   ]
  },
  {
   "cell_type": "code",
   "execution_count": 138,
   "metadata": {},
   "outputs": [
    {
     "data": {
      "image/png": "[encoded data removed]",
      "text/plain": [
       "<Figure size 432x288 with 1 Axes>"
      ]
     },
     "metadata": {
      "needs_background": "light"
     },
     "output_type": "display_data"
    }
   ],
   "source": [
    "import matplotlib.pyplot as plt\n",
    "wcss = []\n",
    "for i in range(1,4):\n",
    "    kmeans = KMeans(n_clusters = i, init = 'k-means++', random_state = 42)\n",
    "    kmeans.fit(X)\n",
    "    wcss.append(kmeans.inertia_)\n",
    "plt.plot(range(1,4), wcss)\n",
    "plt.title('Elbow')\n",
    "plt.xlabel('Num')\n",
    "plt.ylabel('WCSS')\n",
    "plt.show()\n",
    "    \n",
    "    "
   ]
  },
  {
   "cell_type": "code",
   "execution_count": 139,
   "metadata": {},
   "outputs": [
    {
     "name": "stdout",
     "output_type": "stream",
     "text": [
      "[0 0 0 0 0 0 1 1 1 1 1 1]\n",
      "0:['ลอง', 'ตัด', 'คำ', 'ดูก่อน']\n",
      "0:['จะ', 'ได้', 'ไหม', 'นะ']\n",
      "0:['ทดสอบ', 'การ', 'ตัด']\n",
      "0:['ตัด', 'คำ', 'ใน', 'ภาษาไทย']\n",
      "0:['ตัด', 'ได้', 'จริง', 'ไหม']\n",
      "0:['ตัด', 'คำ', 'ได้', 'ด้วย', 'อะ']\n",
      "1:['วันนี้', 'กินข้าว', 'อะไร']\n",
      "1:['กิน', 'ก๋วยเตี๋ยว']\n",
      "1:['กิน', 'ก๋วยเตี๋ยว']\n",
      "1:['กิน', 'ก๋วยเตี๋ยว']\n",
      "1:['ไป', 'กิน', 'อาหาร', 'กัน', 'ไหม']\n",
      "1:['ไม่', 'อยาก', 'กิน', 'แล้ว', 'อะ']\n"
     ]
    }
   ],
   "source": [
    "n_clusters = 2\n",
    "clf = KMeans(n_clusters=n_clusters,\n",
    "            max_iter=100,\n",
    "            init='k-means++',\n",
    "            n_init=1)\n",
    "labels = clf.fit_predict(X)\n",
    "print(labels)\n",
    "for index, sentence in enumerate(sentences):\n",
    "    print(str(labels[index]) + \":\" + str(sentence))"
   ]
  },
  {
   "cell_type": "code",
   "execution_count": 140,
   "metadata": {},
   "outputs": [
    {
     "data": {
      "image/png": "[encoded data removed]",
      "text/plain": [
       "<Figure size 432x288 with 1 Axes>"
      ]
     },
     "metadata": {
      "needs_background": "light"
     },
     "output_type": "display_data"
    }
   ],
   "source": [
    "pca  = PCA(n_components=2).fit(X)\n",
    "coords = pca.transform(X)\n",
    "label_colors = [\"#54FF9F\", \"#7D26CD\", \"#794044\", \"#F4E628\"]\n",
    "colors = [label_colors[i] for i in labels]\n",
    "plt.scatter(coords[:, 0], coords[:, 1], c=colors)\n",
    "centroids = clf.cluster_centers_\n",
    "centroid_coords = pca.transform(centroids)\n",
    "plt.scatter(centroid_coords[:, 0], centroid_coords[:, 1], marker='X', s=200, linewidths=2, c='#444d61')\n",
    "plt.show()"
   ]
  },
  {
   "cell_type": "code",
   "execution_count": 141,
   "metadata": {},
   "outputs": [
    {
     "name": "stderr",
     "output_type": "stream",
     "text": [
      "/usr/local/lib/python3.7/site-packages/ipykernel_launcher.py:5: DeprecationWarning: Call to deprecated `wv` (Attribute will be removed in 4.0.0, use self instead).\n",
      "  \"\"\"\n",
      "/usr/local/lib/python3.7/site-packages/ipykernel_launcher.py:6: DeprecationWarning: Call to deprecated `wv` (Attribute will be removed in 4.0.0, use self instead).\n",
      "  \n"
     ]
    },
    {
     "data": {
      "text/plain": [
       "array([1], dtype=int32)"
      ]
     },
     "execution_count": 141,
     "metadata": {},
     "output_type": "execute_result"
    }
   ],
   "source": [
    "# x = sentence_vectorizer(\"งงจังครับ\")\n",
    "l = []\n",
    "c = 0\n",
    "# for i in text:\n",
    "l.append(sentence_vectorizer(\"ชอบเล่นเกม\")[0])\n",
    "#     if(c==0):\n",
    "#         print(sentence_vectorizer(i)[0])\n",
    "#     c+=1\n",
    "KL=np.array(l)\n",
    "clf.predict(KL)"
   ]
  },
  {
   "cell_type": "code",
   "execution_count": 142,
   "metadata": {},
   "outputs": [
    {
     "data": {
      "image/png": "[encoded data removed]",
      "text/plain": [
       "<Figure size 432x288 with 1 Axes>"
      ]
     },
     "metadata": {
      "needs_background": "light"
     },
     "output_type": "display_data"
    }
   ],
   "source": [
    "Z = hierarchy.linkage(X, 'ward')\n",
    "dn = hierarchy.dendrogram(Z)\n",
    "plt.title('Dendogram')\n",
    "plt.ylabel('Euclodean')\n",
    "plt.xlim(0,100)\n",
    "plt.ylim(0,0.5)\n",
    "plt.show()"
   ]
  },
  {
   "cell_type": "code",
   "execution_count": 143,
   "metadata": {},
   "outputs": [
    {
     "name": "stdout",
     "output_type": "stream",
     "text": [
      "[0 0 0 0 0 0 0 1 1 1 1 0]\n",
      "0:['ลอง', 'ตัด', 'คำ', 'ดูก่อน']\n",
      "0:['จะ', 'ได้', 'ไหม', 'นะ']\n",
      "0:['ทดสอบ', 'การ', 'ตัด']\n",
      "0:['ตัด', 'คำ', 'ใน', 'ภาษาไทย']\n",
      "0:['ตัด', 'ได้', 'จริง', 'ไหม']\n",
      "0:['ตัด', 'คำ', 'ได้', 'ด้วย', 'อะ']\n",
      "0:['วันนี้', 'กินข้าว', 'อะไร']\n",
      "1:['กิน', 'ก๋วยเตี๋ยว']\n",
      "1:['กิน', 'ก๋วยเตี๋ยว']\n",
      "1:['กิน', 'ก๋วยเตี๋ยว']\n",
      "1:['ไป', 'กิน', 'อาหาร', 'กัน', 'ไหม']\n",
      "0:['ไม่', 'อยาก', 'กิน', 'แล้ว', 'อะ']\n"
     ]
    }
   ],
   "source": [
    "hc = AgglomerativeClustering(n_clusters=2,\n",
    "                             affinity='euclidean',\n",
    "                            linkage='ward')\n",
    "y_hc= hc.fit_predict(X)\n",
    "print(y_hc)\n",
    "for index, sentence in enumerate(sentences):\n",
    "    print(str(y_hc[index]) + \":\" + str(sentence))"
   ]
  },
  {
   "cell_type": "code",
   "execution_count": null,
   "metadata": {},
   "outputs": [],
   "source": []
  }
 ],
 "metadata": {
  "kernelspec": {
   "display_name": "Python 3",
   "language": "python",
   "name": "python3"
  },
  "language_info": {
   "codemirror_mode": {
    "name": "ipython",
    "version": 3
   },
   "file_extension": ".py",
   "mimetype": "text/x-python",
   "name": "python",
   "nbconvert_exporter": "python",
   "pygments_lexer": "ipython3",
   "version": "3.7.4"
  }
 },
 "nbformat": 4,
 "nbformat_minor": 2
}
