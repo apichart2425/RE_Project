{
 "cells": [
  {
   "cell_type": "code",
   "execution_count": 1,
   "metadata": {
    "scrolled": true
   },
   "outputs": [
    {
     "name": "stdout",
     "output_type": "stream",
     "text": [
      "importing Jupyter notebook from KindScore.ipynb\n",
      "importing Jupyter notebook from SpeechRecognition.ipynb\n",
      "Set minimum energy threshold to 706.7869652071063\n"
     ]
    }
   ],
   "source": [
    "import os\n",
    "import sys\n",
    "import import_ipynb\n",
    "import pandas as pd\n",
    "import numpy as np\n",
    "#local lib\n",
    "sys.path.insert(0, os.path.abspath('../KindScoreModel'))\n",
    "import KindScore as ks\n",
    "import SpeechRecognition as sr"
   ]
  },
  {
   "cell_type": "markdown",
   "metadata": {},
   "source": [
    "### Read data source"
   ]
  },
  {
   "cell_type": "code",
   "execution_count": 2,
   "metadata": {
    "scrolled": true
   },
   "outputs": [
    {
     "data": {
      "text/html": [
       "<div>\n",
       "<style scoped>\n",
       "    .dataframe tbody tr th:only-of-type {\n",
       "        vertical-align: middle;\n",
       "    }\n",
       "\n",
       "    .dataframe tbody tr th {\n",
       "        vertical-align: top;\n",
       "    }\n",
       "\n",
       "    .dataframe thead th {\n",
       "        text-align: right;\n",
       "    }\n",
       "</style>\n",
       "<table border=\"1\" class=\"dataframe\">\n",
       "  <thead>\n",
       "    <tr style=\"text-align: right;\">\n",
       "      <th></th>\n",
       "      <th>Vehicle</th>\n",
       "      <th>restaurant</th>\n",
       "      <th>food delivery</th>\n",
       "      <th>Problem</th>\n",
       "      <th>score</th>\n",
       "      <th>work</th>\n",
       "      <th>เวลาในการรออาหาร</th>\n",
       "      <th>ราคาอาหาร</th>\n",
       "    </tr>\n",
       "  </thead>\n",
       "  <tbody>\n",
       "    <tr>\n",
       "      <th>0</th>\n",
       "      <td>เดิน</td>\n",
       "      <td>ก๋วยเตี๋ยว, อาหารตามสั่ง, ข้าวมันไก่, ข้าวราดแ...</td>\n",
       "      <td>Promotions</td>\n",
       "      <td>ถ้าคนเยอะก็ไม่อยากไปต่อคิว</td>\n",
       "      <td>9.0</td>\n",
       "      <td>1 - 2 ชั่วโมง</td>\n",
       "      <td>10 นาทีขึ้นไป</td>\n",
       "      <td>51-100บาท</td>\n",
       "    </tr>\n",
       "    <tr>\n",
       "      <th>1</th>\n",
       "      <td>รถยนต์ส่วนตัว</td>\n",
       "      <td>ก๋วยเตี๋ยว, อาหารตามสั่ง, ข้าวมันไก่, ข้าวราดแ...</td>\n",
       "      <td>หิว ขี้เกียจเดิน จะทำงาน</td>\n",
       "      <td>ไม่มีอะไรน่ากิน</td>\n",
       "      <td>3.0</td>\n",
       "      <td>2 - 3 ชั่วโมง</td>\n",
       "      <td>6 - 10 นาที</td>\n",
       "      <td>51-100บาท</td>\n",
       "    </tr>\n",
       "    <tr>\n",
       "      <th>2</th>\n",
       "      <td>เดิน</td>\n",
       "      <td>ก๋วยเตี๋ยว, อาหารตามสั่ง, ข้าวราดแกง, ร้านน้ำ,...</td>\n",
       "      <td>เพราะร้านที่อยากกินอยู่ไกล บางทีก็อยู่ในเวลาเร...</td>\n",
       "      <td>ถ้าคิวยาวก็ไม่ซื้อ</td>\n",
       "      <td>8.6</td>\n",
       "      <td>1 - 2 ชั่วโมง</td>\n",
       "      <td>6 - 10 นาที</td>\n",
       "      <td>100-200 บาท</td>\n",
       "    </tr>\n",
       "    <tr>\n",
       "      <th>3</th>\n",
       "      <td>เดิน</td>\n",
       "      <td>ก๋วยเตี๋ยว, อาหารตามสั่ง, ข้าวราดแกง, ร้านน้ำ,...</td>\n",
       "      <td>ขี้เกียจเดินออกไปกินข้างนอก</td>\n",
       "      <td>ถ้าร้านนั้นคนเยอะก็จะไปเลือกร้านอื่น</td>\n",
       "      <td>7.8</td>\n",
       "      <td>1 - 2 ชั่วโมง</td>\n",
       "      <td>6 - 10 นาที</td>\n",
       "      <td>300-500 บาท</td>\n",
       "    </tr>\n",
       "    <tr>\n",
       "      <th>4</th>\n",
       "      <td>รถประจำทาง</td>\n",
       "      <td>ก๋วยเตี๋ยว, อาหารตามสั่ง, ข้าวมันไก่, ข้าวราดแ...</td>\n",
       "      <td>อยากกินร้านนั้น</td>\n",
       "      <td>ถ้าแถวยาวมากก็จะขี้เกียจรอ</td>\n",
       "      <td>8.0</td>\n",
       "      <td>1 - 2 ชั่วโมง</td>\n",
       "      <td>10 นาทีขึ้นไป</td>\n",
       "      <td>100-200 บาท</td>\n",
       "    </tr>\n",
       "    <tr>\n",
       "      <th>...</th>\n",
       "      <td>...</td>\n",
       "      <td>...</td>\n",
       "      <td>...</td>\n",
       "      <td>...</td>\n",
       "      <td>...</td>\n",
       "      <td>...</td>\n",
       "      <td>...</td>\n",
       "      <td>...</td>\n",
       "    </tr>\n",
       "    <tr>\n",
       "      <th>64</th>\n",
       "      <td>รถจักรยานยนต์</td>\n",
       "      <td>ร้านอาหารญี่ปุ่น</td>\n",
       "      <td>ไม่ต้องต่อคิวซื้อเอง</td>\n",
       "      <td>ร้านไม่เปิดในช่วงปิดเทอม</td>\n",
       "      <td>5.2</td>\n",
       "      <td>NaN</td>\n",
       "      <td>10-20 นาที</td>\n",
       "      <td>40-80บาท</td>\n",
       "    </tr>\n",
       "    <tr>\n",
       "      <th>65</th>\n",
       "      <td>รถยนต์ส่วนตัว</td>\n",
       "      <td>ก๋วยเตี๋ยว, อาหารตามสั่ง, ข้าวมันไก่, ข้าวราดแ...</td>\n",
       "      <td>หิวเมื่อไหรก็สั่งได้</td>\n",
       "      <td>คนเยอะรอคิวนาน</td>\n",
       "      <td>8.4</td>\n",
       "      <td>NaN</td>\n",
       "      <td>5-15 นาที</td>\n",
       "      <td>30-150บาท</td>\n",
       "    </tr>\n",
       "    <tr>\n",
       "      <th>66</th>\n",
       "      <td>รถยนต์ส่วนตัว</td>\n",
       "      <td>ร้านข้าวต้มปลา</td>\n",
       "      <td>มีอาหารที่หลากหลาย</td>\n",
       "      <td>ไม่อยากไปต่อแถว</td>\n",
       "      <td>8.0</td>\n",
       "      <td>NaN</td>\n",
       "      <td>2-3 นาที</td>\n",
       "      <td>20-100บาท</td>\n",
       "    </tr>\n",
       "    <tr>\n",
       "      <th>67</th>\n",
       "      <td>เดิน</td>\n",
       "      <td>ร้านส้มตำ</td>\n",
       "      <td>มีโปรโมชั่นเยอะ</td>\n",
       "      <td>ไม่อยากกินอาหารที่ขายอยู่</td>\n",
       "      <td>4.4</td>\n",
       "      <td>NaN</td>\n",
       "      <td>10-15 นาที</td>\n",
       "      <td>50-70บาท</td>\n",
       "    </tr>\n",
       "    <tr>\n",
       "      <th>68</th>\n",
       "      <td>รถยนต์ส่วนตัว</td>\n",
       "      <td>ก๋วยเตี๋ยว, อาหารตามสั่ง, ข้าวมันไก่, ข้าวราดแ...</td>\n",
       "      <td>มีส่วนลดค่าอาหารเยอะ</td>\n",
       "      <td>อาหารเหลือแต่ร้านที่ไม่อร่อย</td>\n",
       "      <td>5.2</td>\n",
       "      <td>NaN</td>\n",
       "      <td>20-30 นาที</td>\n",
       "      <td>20-100บาท0</td>\n",
       "    </tr>\n",
       "  </tbody>\n",
       "</table>\n",
       "<p>69 rows × 8 columns</p>\n",
       "</div>"
      ],
      "text/plain": [
       "          Vehicle                                         restaurant  \\\n",
       "0            เดิน  ก๋วยเตี๋ยว, อาหารตามสั่ง, ข้าวมันไก่, ข้าวราดแ...   \n",
       "1   รถยนต์ส่วนตัว  ก๋วยเตี๋ยว, อาหารตามสั่ง, ข้าวมันไก่, ข้าวราดแ...   \n",
       "2            เดิน  ก๋วยเตี๋ยว, อาหารตามสั่ง, ข้าวราดแกง, ร้านน้ำ,...   \n",
       "3            เดิน  ก๋วยเตี๋ยว, อาหารตามสั่ง, ข้าวราดแกง, ร้านน้ำ,...   \n",
       "4      รถประจำทาง  ก๋วยเตี๋ยว, อาหารตามสั่ง, ข้าวมันไก่, ข้าวราดแ...   \n",
       "..            ...                                                ...   \n",
       "64  รถจักรยานยนต์                                   ร้านอาหารญี่ปุ่น   \n",
       "65  รถยนต์ส่วนตัว  ก๋วยเตี๋ยว, อาหารตามสั่ง, ข้าวมันไก่, ข้าวราดแ...   \n",
       "66  รถยนต์ส่วนตัว                                     ร้านข้าวต้มปลา   \n",
       "67           เดิน                                          ร้านส้มตำ   \n",
       "68  รถยนต์ส่วนตัว  ก๋วยเตี๋ยว, อาหารตามสั่ง, ข้าวมันไก่, ข้าวราดแ...   \n",
       "\n",
       "                                        food delivery  \\\n",
       "0                                          Promotions   \n",
       "1                            หิว ขี้เกียจเดิน จะทำงาน   \n",
       "2   เพราะร้านที่อยากกินอยู่ไกล บางทีก็อยู่ในเวลาเร...   \n",
       "3                         ขี้เกียจเดินออกไปกินข้างนอก   \n",
       "4                                     อยากกินร้านนั้น   \n",
       "..                                                ...   \n",
       "64                               ไม่ต้องต่อคิวซื้อเอง   \n",
       "65                               หิวเมื่อไหรก็สั่งได้   \n",
       "66                                 มีอาหารที่หลากหลาย   \n",
       "67                                    มีโปรโมชั่นเยอะ   \n",
       "68                               มีส่วนลดค่าอาหารเยอะ   \n",
       "\n",
       "                                 Problem  score           work  \\\n",
       "0             ถ้าคนเยอะก็ไม่อยากไปต่อคิว    9.0  1 - 2 ชั่วโมง   \n",
       "1                        ไม่มีอะไรน่ากิน    3.0  2 - 3 ชั่วโมง   \n",
       "2                     ถ้าคิวยาวก็ไม่ซื้อ    8.6  1 - 2 ชั่วโมง   \n",
       "3   ถ้าร้านนั้นคนเยอะก็จะไปเลือกร้านอื่น    7.8  1 - 2 ชั่วโมง   \n",
       "4             ถ้าแถวยาวมากก็จะขี้เกียจรอ    8.0  1 - 2 ชั่วโมง   \n",
       "..                                   ...    ...            ...   \n",
       "64              ร้านไม่เปิดในช่วงปิดเทอม    5.2            NaN   \n",
       "65                        คนเยอะรอคิวนาน    8.4            NaN   \n",
       "66                       ไม่อยากไปต่อแถว    8.0            NaN   \n",
       "67             ไม่อยากกินอาหารที่ขายอยู่    4.4            NaN   \n",
       "68          อาหารเหลือแต่ร้านที่ไม่อร่อย    5.2            NaN   \n",
       "\n",
       "   เวลาในการรออาหาร    ราคาอาหาร  \n",
       "0     10 นาทีขึ้นไป    51-100บาท  \n",
       "1       6 - 10 นาที    51-100บาท  \n",
       "2       6 - 10 นาที  100-200 บาท  \n",
       "3       6 - 10 นาที  300-500 บาท  \n",
       "4     10 นาทีขึ้นไป  100-200 บาท  \n",
       "..              ...          ...  \n",
       "64      10-20 นาที      40-80บาท  \n",
       "65        5-15 นาที    30-150บาท  \n",
       "66         2-3 นาที    20-100บาท  \n",
       "67       10-15 นาที     50-70บาท  \n",
       "68       20-30 นาที   20-100บาท0  \n",
       "\n",
       "[69 rows x 8 columns]"
      ]
     },
     "execution_count": 2,
     "metadata": {},
     "output_type": "execute_result"
    }
   ],
   "source": [
    "df = pd.read_csv(\"data/dataset/dataReV5.csv\")\n",
    "df"
   ]
  },
  {
   "cell_type": "markdown",
   "metadata": {},
   "source": [
    "### Algorithm KindScore"
   ]
  },
  {
   "cell_type": "markdown",
   "metadata": {},
   "source": []
  },
  {
   "cell_type": "code",
   "execution_count": 3,
   "metadata": {
    "scrolled": true
   },
   "outputs": [
    {
     "name": "stdout",
     "output_type": "stream",
     "text": [
      "Optimal Cluster Number:  5\n"
     ]
    },
    {
     "data": {
      "image/png": "[encoded data removed]",
      "text/plain": [
       "<Figure size 432x288 with 1 Axes>"
      ]
     },
     "metadata": {
      "needs_background": "light"
     },
     "output_type": "display_data"
    },
    {
     "name": "stderr",
     "output_type": "stream",
     "text": [
      "KindScore.ipynb:56: SettingWithCopyWarning: \n",
      "A value is trying to be set on a copy of a slice from a DataFrame.\n",
      "Try using .loc[row_indexer,col_indexer] = value instead\n",
      "\n",
      "See the caveats in the documentation: http://pandas.pydata.org/pandas-docs/stable/user_guide/indexing.html#returning-a-view-versus-a-copy\n",
      "  \"outputs\": [],\n"
     ]
    }
   ],
   "source": [
    "data, model = ks.KindScoreModel(df,\"Problem\",\"score\")"
   ]
  },
  {
   "cell_type": "code",
   "execution_count": 4,
   "metadata": {
    "scrolled": true
   },
   "outputs": [
    {
     "name": "stdout",
     "output_type": "stream",
     "text": [
      "Processing !!\n",
      "You said: มันก็แบบที่หน้าโรงอาหารครับผมก็เลยว่าการรอคิวนี้มันมีหลายคิวแล้วก็ใช้เวลาในการทำนาถ้าเราสั่งล่วงหน้าตามันก็จะง่ายนี้ราคามันก็ไม่รับพร้อมเพย์เงินกู้มีตู้เดียว\n",
      "Processing !!\n",
      "You said: ปัญหาจากโรงอาหารคณะไอทีน้าก็อย่างที่เธอก็คือว่าแบบบางร้านอาหารนะเพราะผัดอาหารก็จะมีควันออกมาซึ่งนี่เป็นคนไม่ค่อยชอบฟันกินอาหารเพราะมันจะติดตัวแบบนี้แล้วก็บางทีอ่ะเพราะโรงอาหารคนเยอะช่วงเที่ยงตรงกลางมันร้อนแดดมันส่องอื่นก็ร้อนก็นั่งไม่ได้แล้วอาหารบางทีสมมุติถ้าเลิกช้าๆก็ไม่มีข้าวกินแล้วก็ต้องมากินข้าวที่โรงอาหารอื่นประมาณนี้\n"
     ]
    }
   ],
   "source": [
    "problemList =  []\n",
    "\n",
    "### file wav\n",
    "problemList.append(sr.FileRecognition(\"/Users/fluke/Documents/RE/RE_Project/data/sound/01.wav\",15))\n",
    "problemList.append(sr.FileRecognition(\"/Users/fluke/Documents/RE/RE_Project/data/sound/02.wav\",15))\n",
    "# problemList.append(sr.FileRecognition(\"C:/Users/Pack.Apichart/Desktop/Re_project/Cluster_speech_two/data/sound/02.wav\",15))\n",
    "# problemList.append(sr.FileRecognition(\"C:/Users/Pack.Apichart/Desktop/Re_project/Cluster_speech_two/data/sound/03.wav\",15))\n",
    "# problemList.append(sr.FileRecognition(\"C:/Users/Pack.Apichart/Desktop/Re_project/Cluster_speech_two/data/sound/04.wav\",15))\n",
    "\n",
    "### said problem\n",
    "# problemList.append(sr.SpeechRecognition(\"speech\"))\n",
    "\n",
    "problemList.append(\"ถ้าคนเยอะก็ไม่อยากไปต่อคิว\")\n",
    "problemList.append(\"ปัญหาอหกดฟหกดฟหดอ้ย\")\n",
    "problemList.append(\"ปัญหาอหasfsadt4w5e sadfดอ้ย\")\n",
    "problemList.append(\"ปัญหาอหกด79874 ดอ้ย\")\n",
    "problemList.append(\"ไม่อยากกินอาหารที่ขายอยู่\")\n",
    "# ปัญหาด้านกลิ่นด้าน\n",
    "\n",
    "### file wav V2\n",
    "### Step one : call SpeechRecognition(\"file\") \n",
    "### Step two : input path file [only type String]\n",
    "### Step tree :input second to recognitions [only type Integer]\n",
    "# problemList.append(sr.SpeechRecognition(\"file\"))\n",
    "\n",
    "# x = sr.problem_CSV(pd.read_csv(\"data/dataReV6987.csv\"), \"Problem\")"
   ]
  },
  {
   "cell_type": "markdown",
   "metadata": {},
   "source": [
    "### Weight score new problem in same cluster and wirte file csv"
   ]
  },
  {
   "cell_type": "code",
   "execution_count": 5,
   "metadata": {
    "scrolled": true
   },
   "outputs": [
    {
     "data": {
      "text/html": [
       "<div>\n",
       "<style scoped>\n",
       "    .dataframe tbody tr th:only-of-type {\n",
       "        vertical-align: middle;\n",
       "    }\n",
       "\n",
       "    .dataframe tbody tr th {\n",
       "        vertical-align: top;\n",
       "    }\n",
       "\n",
       "    .dataframe thead th {\n",
       "        text-align: right;\n",
       "    }\n",
       "</style>\n",
       "<table border=\"1\" class=\"dataframe\">\n",
       "  <thead>\n",
       "    <tr style=\"text-align: right;\">\n",
       "      <th></th>\n",
       "      <th>Problem</th>\n",
       "      <th>score</th>\n",
       "      <th>cluster</th>\n",
       "    </tr>\n",
       "  </thead>\n",
       "  <tbody>\n",
       "    <tr>\n",
       "      <th>0</th>\n",
       "      <td>ถ้าคนเยอะก็ไม่อยากไปต่อคิว</td>\n",
       "      <td>9.0</td>\n",
       "      <td>1</td>\n",
       "    </tr>\n",
       "    <tr>\n",
       "      <th>1</th>\n",
       "      <td>ไม่มีอะไรน่ากิน</td>\n",
       "      <td>3.0</td>\n",
       "      <td>4</td>\n",
       "    </tr>\n",
       "    <tr>\n",
       "      <th>2</th>\n",
       "      <td>ถ้าคิวยาวก็ไม่ซื้อ</td>\n",
       "      <td>8.6</td>\n",
       "      <td>3</td>\n",
       "    </tr>\n",
       "    <tr>\n",
       "      <th>3</th>\n",
       "      <td>ถ้าร้านนั้นคนเยอะก็จะไปเลือกร้านอื่น</td>\n",
       "      <td>7.8</td>\n",
       "      <td>3</td>\n",
       "    </tr>\n",
       "    <tr>\n",
       "      <th>4</th>\n",
       "      <td>ถ้าแถวยาวมากก็จะขี้เกียจรอ</td>\n",
       "      <td>8.0</td>\n",
       "      <td>3</td>\n",
       "    </tr>\n",
       "    <tr>\n",
       "      <th>...</th>\n",
       "      <td>...</td>\n",
       "      <td>...</td>\n",
       "      <td>...</td>\n",
       "    </tr>\n",
       "    <tr>\n",
       "      <th>64</th>\n",
       "      <td>ร้านไม่เปิดในช่วงปิดเทอม</td>\n",
       "      <td>5.2</td>\n",
       "      <td>4</td>\n",
       "    </tr>\n",
       "    <tr>\n",
       "      <th>65</th>\n",
       "      <td>คนเยอะรอคิวนาน</td>\n",
       "      <td>8.4</td>\n",
       "      <td>1</td>\n",
       "    </tr>\n",
       "    <tr>\n",
       "      <th>66</th>\n",
       "      <td>ไม่อยากไปต่อแถว</td>\n",
       "      <td>8.0</td>\n",
       "      <td>1</td>\n",
       "    </tr>\n",
       "    <tr>\n",
       "      <th>67</th>\n",
       "      <td>ไม่อยากกินอาหารที่ขายอยู่</td>\n",
       "      <td>4.4</td>\n",
       "      <td>0</td>\n",
       "    </tr>\n",
       "    <tr>\n",
       "      <th>68</th>\n",
       "      <td>อาหารเหลือแต่ร้านที่ไม่อร่อย</td>\n",
       "      <td>5.2</td>\n",
       "      <td>0</td>\n",
       "    </tr>\n",
       "  </tbody>\n",
       "</table>\n",
       "<p>69 rows × 3 columns</p>\n",
       "</div>"
      ],
      "text/plain": [
       "                                 Problem  score  cluster\n",
       "0             ถ้าคนเยอะก็ไม่อยากไปต่อคิว    9.0        1\n",
       "1                        ไม่มีอะไรน่ากิน    3.0        4\n",
       "2                     ถ้าคิวยาวก็ไม่ซื้อ    8.6        3\n",
       "3   ถ้าร้านนั้นคนเยอะก็จะไปเลือกร้านอื่น    7.8        3\n",
       "4             ถ้าแถวยาวมากก็จะขี้เกียจรอ    8.0        3\n",
       "..                                   ...    ...      ...\n",
       "64              ร้านไม่เปิดในช่วงปิดเทอม    5.2        4\n",
       "65                        คนเยอะรอคิวนาน    8.4        1\n",
       "66                       ไม่อยากไปต่อแถว    8.0        1\n",
       "67             ไม่อยากกินอาหารที่ขายอยู่    4.4        0\n",
       "68          อาหารเหลือแต่ร้านที่ไม่อร่อย    5.2        0\n",
       "\n",
       "[69 rows x 3 columns]"
      ]
     },
     "execution_count": 5,
     "metadata": {},
     "output_type": "execute_result"
    }
   ],
   "source": [
    "data"
   ]
  },
  {
   "cell_type": "code",
   "execution_count": 6,
   "metadata": {},
   "outputs": [],
   "source": [
    "# data.loc[data[\"cluster\"]== 0]"
   ]
  },
  {
   "cell_type": "code",
   "execution_count": 7,
   "metadata": {},
   "outputs": [],
   "source": [
    "# data.loc[data[\"cluster\"]== 1]"
   ]
  },
  {
   "cell_type": "code",
   "execution_count": 8,
   "metadata": {},
   "outputs": [],
   "source": [
    "# data.loc[data[\"cluster\"]== 2]"
   ]
  },
  {
   "cell_type": "code",
   "execution_count": 9,
   "metadata": {},
   "outputs": [],
   "source": [
    "# data.loc[data[\"cluster\"]== 3]"
   ]
  },
  {
   "cell_type": "code",
   "execution_count": 10,
   "metadata": {},
   "outputs": [],
   "source": [
    "# data.loc[data[\"cluster\"]== 4]"
   ]
  },
  {
   "cell_type": "markdown",
   "metadata": {},
   "source": [
    "\n",
    "<hr size=\"3\" />\n",
    "\n",
    "<h1> Weigth The importance of the problem by similarity in same cluster problem</h1>\n",
    "\n",
    "### conditions 1\n",
    "* similarity > 0.7  in cluster |\n",
    "\n",
    "### conditions 2\n",
    "* similarity > 0.7  in nor cluster|\n",
    "\n",
    "### conditions 3\n",
    "* similarity < 0.7   write problem not match |"
   ]
  },
  {
   "cell_type": "markdown",
   "metadata": {},
   "source": [
    "### Tips use the  ks.Weightscore\n",
    "### ks.Weightscore(a, b, c, d, e)\n",
    "<label>a = Path want to save Problem matching in dataset</label><br>\n",
    "<label>b = List new problem</label><br>\n",
    "<label>c = dataset | it must has featue cluster</label><br>\n",
    "<label>d = model | after train in kindscore algorithm</label><br>\n",
    "<label>e Path want to savePath Problem not matching in dataset</label><br>"
   ]
  },
  {
   "cell_type": "code",
   "execution_count": 11,
   "metadata": {
    "scrolled": true
   },
   "outputs": [
    {
     "name": "stdout",
     "output_type": "stream",
     "text": [
      "มันก็แบบที่หน้าโรงอาหารคนชมก็อย่าว่ากันรอคิวนี้มันมีหลายคิวแล้วก็ใช้เวลาในการทำนาถ้าเราสั่งมาตามก็จะง่ายนี้ราคามันก็ไม่รับพร้อมเพย์เงินกู้มีตู้เดียว 7.8 0.814157131678289 ถ้าร้านนั้นคนเยอะก็จะไปเลือกร้านอื่น\n",
      "state_similarity >= 0.7 || 1\n"
     ]
    },
    {
     "name": "stderr",
     "output_type": "stream",
     "text": [
      "/usr/local/lib/python3.7/site-packages/pandas/core/indexing.py:205: SettingWithCopyWarning: \n",
      "A value is trying to be set on a copy of a slice from a DataFrame\n",
      "\n",
      "See the caveats in the documentation: http://pandas.pydata.org/pandas-docs/stable/user_guide/indexing.html#returning-a-view-versus-a-copy\n",
      "  self._setitem_with_indexer(indexer, value)\n"
     ]
    },
    {
     "name": "stdout",
     "output_type": "stream",
     "text": [
      "ปัญหาจากโรงอาหารคณะไอทีน้าก็อย่างที่เธอก็คือว่าแบบบางร้านอาหารนะเพราะผัดอาหารก็จะมีควันออกมาซึ่งนี่เป็นคนไม่ค่อยชอบฟันกินอาหารเพราะมันจะติดตัวแบบนี้แล้วก็บางทีอ่ะเพราะโรงอาหารคนเยอะช่วงเที่ยงตรงกลางมันร้อนแดดมันส่องอื่นก็ร้อนก็นั่งไม่ได้แล้วอาหารบางทีสมมุติถ้าเลิกช้าๆก็ไม่มีข้าวกินแล้วก็ต้องไปกินข้าวที่โรงอาหารอื่นประมาณนี้ 7.8 0.9222789930353248 มันก็แบบที่หน้าโรงอาหารคนชมก็อย่าว่ากันรอคิวนี้มันมีหลายคิวแล้วก็ใช้เวลาในการทำนาถ้าเราสั่งมาตามก็จะง่ายนี้ราคามันก็ไม่รับพร้อมเพย์เงินกู้มีตู้เดียว\n",
      "state_similarity >= 0.7 || 1\n",
      "ถ้าคนเยอะก็ไม่อยากไปต่อคิว 9.0 1.0000000000000004  ถ้าคนเยอะก็ไม่อยากไปต่อคิว\n",
      "state_similarity >= 0.7 || 1\n"
     ]
    },
    {
     "name": "stderr",
     "output_type": "stream",
     "text": [
      "/usr/local/lib/python3.7/site-packages/pandas/core/indexing.py:205: SettingWithCopyWarning: \n",
      "A value is trying to be set on a copy of a slice from a DataFrame\n",
      "\n",
      "See the caveats in the documentation: http://pandas.pydata.org/pandas-docs/stable/user_guide/indexing.html#returning-a-view-versus-a-copy\n",
      "  self._setitem_with_indexer(indexer, value)\n",
      "/usr/local/lib/python3.7/site-packages/pandas/core/indexing.py:205: SettingWithCopyWarning: \n",
      "A value is trying to be set on a copy of a slice from a DataFrame\n",
      "\n",
      "See the caveats in the documentation: http://pandas.pydata.org/pandas-docs/stable/user_guide/indexing.html#returning-a-view-versus-a-copy\n",
      "  self._setitem_with_indexer(indexer, value)\n"
     ]
    },
    {
     "name": "stdout",
     "output_type": "stream",
     "text": [
      "ปัญหาอหกดฟหกดฟหดอ้ย 6.8 0.27432232903993714 โรงอาหารคนเยอะไม่มีโต๊ะให้นั่ง\n",
      "state_similarity <= 0.7\n",
      "ปัญหาอหasfsadt4w5e sadfดอ้ย 6.6 0.21749691288352757 ร้านอาหารมีจำนวนไม่มากพอที่จะรับจำนวนนักศึกษา\n",
      "state_similarity <= 0.7\n",
      "ปัญหาอหกด79874 ดอ้ย 6.8 0.27432232903993714 โรงอาหารคนเยอะไม่มีโต๊ะให้นั่ง\n",
      "state_similarity <= 0.7\n",
      "ไม่อยากกินอาหารที่ขายอยู่ 4.4 1.0000000000000002 ไม่อยากกินอาหารที่ขายอยู่\n",
      "state_similarity >= 0.7 || 1\n"
     ]
    }
   ],
   "source": [
    "# ks.Weightscore(\"data/dataReV656\",problemList,data,model,\"Problem\",\"score\")\n",
    "dataset, cluster_newProblem = ks.Weightscore(\"data/dataReVXXX\",problemList,data,model,\"data/dataNotmatt\")"
   ]
  },
  {
   "cell_type": "code",
   "execution_count": 12,
   "metadata": {
    "scrolled": true
   },
   "outputs": [
    {
     "data": {
      "image/png": "[encoded data removed]",
      "text/plain": [
       "<Figure size 432x288 with 1 Axes>"
      ]
     },
     "metadata": {},
     "output_type": "display_data"
    },
    {
     "data": {
      "text/html": [
       "<div>\n",
       "<style scoped>\n",
       "    .dataframe tbody tr th:only-of-type {\n",
       "        vertical-align: middle;\n",
       "    }\n",
       "\n",
       "    .dataframe tbody tr th {\n",
       "        vertical-align: top;\n",
       "    }\n",
       "\n",
       "    .dataframe thead th {\n",
       "        text-align: right;\n",
       "    }\n",
       "</style>\n",
       "<table border=\"1\" class=\"dataframe\">\n",
       "  <thead>\n",
       "    <tr style=\"text-align: right;\">\n",
       "      <th></th>\n",
       "      <th>Problem</th>\n",
       "      <th>score</th>\n",
       "      <th>cluster</th>\n",
       "    </tr>\n",
       "  </thead>\n",
       "  <tbody>\n",
       "    <tr>\n",
       "      <th>0</th>\n",
       "      <td>ถ้าคนเยอะก็ไม่อยากไปต่อคิว</td>\n",
       "      <td>9.0</td>\n",
       "      <td>1</td>\n",
       "    </tr>\n",
       "    <tr>\n",
       "      <th>1</th>\n",
       "      <td>ไม่มีอะไรน่ากิน</td>\n",
       "      <td>3.0</td>\n",
       "      <td>4</td>\n",
       "    </tr>\n",
       "    <tr>\n",
       "      <th>2</th>\n",
       "      <td>ถ้าคิวยาวก็ไม่ซื้อ</td>\n",
       "      <td>8.6</td>\n",
       "      <td>3</td>\n",
       "    </tr>\n",
       "    <tr>\n",
       "      <th>3</th>\n",
       "      <td>ถ้าร้านนั้นคนเยอะก็จะไปเลือกร้านอื่น</td>\n",
       "      <td>7.8</td>\n",
       "      <td>3</td>\n",
       "    </tr>\n",
       "    <tr>\n",
       "      <th>4</th>\n",
       "      <td>ถ้าแถวยาวมากก็จะขี้เกียจรอ</td>\n",
       "      <td>8.0</td>\n",
       "      <td>3</td>\n",
       "    </tr>\n",
       "    <tr>\n",
       "      <th>...</th>\n",
       "      <td>...</td>\n",
       "      <td>...</td>\n",
       "      <td>...</td>\n",
       "    </tr>\n",
       "    <tr>\n",
       "      <th>67</th>\n",
       "      <td>ไม่อยากกินอาหารที่ขายอยู่</td>\n",
       "      <td>4.4</td>\n",
       "      <td>0</td>\n",
       "    </tr>\n",
       "    <tr>\n",
       "      <th>68</th>\n",
       "      <td>อาหารเหลือแต่ร้านที่ไม่อร่อย</td>\n",
       "      <td>5.2</td>\n",
       "      <td>0</td>\n",
       "    </tr>\n",
       "    <tr>\n",
       "      <th>69</th>\n",
       "      <td>มันก็แบบที่หน้าโรงอาหารคนชมก็อย่าว่ากันรอคิวนี...</td>\n",
       "      <td>7.8</td>\n",
       "      <td>3</td>\n",
       "    </tr>\n",
       "    <tr>\n",
       "      <th>70</th>\n",
       "      <td>ปัญหาจากโรงอาหารคณะไอทีน้าก็อย่างที่เธอก็คือว่...</td>\n",
       "      <td>7.8</td>\n",
       "      <td>3</td>\n",
       "    </tr>\n",
       "    <tr>\n",
       "      <th>71</th>\n",
       "      <td>ถ้าคนเยอะก็ไม่อยากไปต่อคิว</td>\n",
       "      <td>9.0</td>\n",
       "      <td>1</td>\n",
       "    </tr>\n",
       "  </tbody>\n",
       "</table>\n",
       "<p>72 rows × 3 columns</p>\n",
       "</div>"
      ],
      "text/plain": [
       "                                              Problem  score  cluster\n",
       "0                          ถ้าคนเยอะก็ไม่อยากไปต่อคิว    9.0        1\n",
       "1                                     ไม่มีอะไรน่ากิน    3.0        4\n",
       "2                                  ถ้าคิวยาวก็ไม่ซื้อ    8.6        3\n",
       "3                ถ้าร้านนั้นคนเยอะก็จะไปเลือกร้านอื่น    7.8        3\n",
       "4                          ถ้าแถวยาวมากก็จะขี้เกียจรอ    8.0        3\n",
       "..                                                ...    ...      ...\n",
       "67                          ไม่อยากกินอาหารที่ขายอยู่    4.4        0\n",
       "68                       อาหารเหลือแต่ร้านที่ไม่อร่อย    5.2        0\n",
       "69  มันก็แบบที่หน้าโรงอาหารคนชมก็อย่าว่ากันรอคิวนี...    7.8        3\n",
       "70  ปัญหาจากโรงอาหารคณะไอทีน้าก็อย่างที่เธอก็คือว่...    7.8        3\n",
       "71                         ถ้าคนเยอะก็ไม่อยากไปต่อคิว    9.0        1\n",
       "\n",
       "[72 rows x 3 columns]"
      ]
     },
     "execution_count": 12,
     "metadata": {},
     "output_type": "execute_result"
    }
   ],
   "source": [
    "ks.pieplot(dataset)\n",
    "\n",
    "dataset"
   ]
  },
  {
   "cell_type": "code",
   "execution_count": 13,
   "metadata": {},
   "outputs": [
    {
     "data": {
      "image/png": "[encoded data removed]",
      "text/plain": [
       "<Figure size 432x288 with 1 Axes>"
      ]
     },
     "metadata": {},
     "output_type": "display_data"
    },
    {
     "data": {
      "text/html": [
       "<div>\n",
       "<style scoped>\n",
       "    .dataframe tbody tr th:only-of-type {\n",
       "        vertical-align: middle;\n",
       "    }\n",
       "\n",
       "    .dataframe tbody tr th {\n",
       "        vertical-align: top;\n",
       "    }\n",
       "\n",
       "    .dataframe thead th {\n",
       "        text-align: right;\n",
       "    }\n",
       "</style>\n",
       "<table border=\"1\" class=\"dataframe\">\n",
       "  <thead>\n",
       "    <tr style=\"text-align: right;\">\n",
       "      <th></th>\n",
       "      <th>Problem</th>\n",
       "      <th>score</th>\n",
       "      <th>cluster</th>\n",
       "    </tr>\n",
       "  </thead>\n",
       "  <tbody>\n",
       "    <tr>\n",
       "      <th>0</th>\n",
       "      <td>มันก็แบบที่หน้าโรงอาหารคนชมก็อย่าว่ากันรอคิวนี...</td>\n",
       "      <td>7.8</td>\n",
       "      <td>3</td>\n",
       "    </tr>\n",
       "    <tr>\n",
       "      <th>1</th>\n",
       "      <td>ปัญหาจากโรงอาหารคณะไอทีน้าก็อย่างที่เธอก็คือว่...</td>\n",
       "      <td>7.8</td>\n",
       "      <td>3</td>\n",
       "    </tr>\n",
       "    <tr>\n",
       "      <th>2</th>\n",
       "      <td>ถ้าคนเยอะก็ไม่อยากไปต่อคิว</td>\n",
       "      <td>9.0</td>\n",
       "      <td>1</td>\n",
       "    </tr>\n",
       "    <tr>\n",
       "      <th>3</th>\n",
       "      <td>ไม่อยากกินอาหารที่ขายอยู่</td>\n",
       "      <td>4.4</td>\n",
       "      <td>0</td>\n",
       "    </tr>\n",
       "  </tbody>\n",
       "</table>\n",
       "</div>"
      ],
      "text/plain": [
       "                                             Problem  score  cluster\n",
       "0  มันก็แบบที่หน้าโรงอาหารคนชมก็อย่าว่ากันรอคิวนี...    7.8        3\n",
       "1  ปัญหาจากโรงอาหารคณะไอทีน้าก็อย่างที่เธอก็คือว่...    7.8        3\n",
       "2                         ถ้าคนเยอะก็ไม่อยากไปต่อคิว    9.0        1\n",
       "3                          ไม่อยากกินอาหารที่ขายอยู่    4.4        0"
      ]
     },
     "execution_count": 13,
     "metadata": {},
     "output_type": "execute_result"
    }
   ],
   "source": [
    "ks.pieplot(cluster_newProblem)\n",
    "\n",
    "cluster_newProblem"
   ]
  }
 ],
 "metadata": {
  "kernelspec": {
   "display_name": "Python 3",
   "language": "python",
   "name": "python3"
  },
  "language_info": {
   "codemirror_mode": {
    "name": "ipython",
    "version": 3
   },
   "file_extension": ".py",
   "mimetype": "text/x-python",
   "name": "python",
   "nbconvert_exporter": "python",
   "pygments_lexer": "ipython3",
   "version": "3.7.4"
  }
 },
 "nbformat": 4,
 "nbformat_minor": 2
}
