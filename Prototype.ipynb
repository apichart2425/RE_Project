{
 "cells": [
  {
   "cell_type": "code",
   "execution_count": null,
   "metadata": {},
   "outputs": [],
   "source": [
    "import os\n",
    "import sys\n",
    "import import_ipynb\n",
    "sys.path.insert(0, os.path.abspath('../KindScoreModel'))\n",
    "import pandas as pd\n",
    "import numpy as np\n",
    "#local lib\n",
    "import KindScore as ks\n",
    "# from KindScore import Speechtext as kss\n",
    "# from KindScore import Weightscore as ksws"
   ]
  },
  {
   "cell_type": "code",
   "execution_count": null,
   "metadata": {
    "scrolled": true
   },
   "outputs": [],
   "source": [
    "df = pd.read_csv(\"data/dataReV5.csv\")\n",
    "df"
   ]
  },
  {
   "cell_type": "code",
   "execution_count": null,
   "metadata": {},
   "outputs": [],
   "source": [
    "data, model = ks.KindScoreModel(df,\"Problem\",\"score\")"
   ]
  },
  {
   "cell_type": "code",
   "execution_count": null,
   "metadata": {},
   "outputs": [],
   "source": [
    "speech = str(ks.Speechtext())"
   ]
  },
  {
   "cell_type": "code",
   "execution_count": null,
   "metadata": {
    "scrolled": true
   },
   "outputs": [],
   "source": [
    "speech_list = []\n",
    "l = []\n",
    "group_text = []\n",
    "speech_list.append(speech)\n",
    "\n",
    "\n",
    "for y in speech_list:\n",
    "    l.append(ks.sentence_vectorizer(y)[0])\n",
    "KL=np.array(l)\n",
    "labels_newProblem = model.predict(KL)\n",
    "group_text.append(labels_newProblem)"
   ]
  },
  {
   "cell_type": "code",
   "execution_count": null,
   "metadata": {},
   "outputs": [],
   "source": [
    "labels_newProblem"
   ]
  },
  {
   "cell_type": "code",
   "execution_count": null,
   "metadata": {},
   "outputs": [],
   "source": [
    "group_text"
   ]
  },
  {
   "cell_type": "code",
   "execution_count": null,
   "metadata": {},
   "outputs": [],
   "source": [
    "text2222 = [\"รอคิวนาน\", \"เบื่อเมนูอาหาร\", \"คิวเยอะ\", \"อาหารหมด\"]\n",
    "group_text = []\n",
    "l = []\n",
    "\n",
    "for y in text2222:\n",
    "    l.append(ks.sentence_vectorizer(y)[0])\n",
    "KL=np.array(l)\n",
    "labels_newProblem = model.predict(KL)\n",
    "group_text.append(labels_newProblem)"
   ]
  },
  {
   "cell_type": "code",
   "execution_count": null,
   "metadata": {},
   "outputs": [],
   "source": [
    "labels_newProblem"
   ]
  },
  {
   "cell_type": "code",
   "execution_count": null,
   "metadata": {},
   "outputs": [],
   "source": [
    "group_text"
   ]
  },
  {
   "cell_type": "code",
   "execution_count": null,
   "metadata": {},
   "outputs": [],
   "source": [
    "ks.Weightscore(\"data/dataReV6\",text2222,data,model,\"x\")"
   ]
  },
  {
   "cell_type": "markdown",
   "metadata": {},
   "source": [
    "### WRITE New problem to dataset"
   ]
  },
  {
   "cell_type": "code",
   "execution_count": null,
   "metadata": {},
   "outputs": [],
   "source": []
  }
 ],
 "metadata": {
  "kernelspec": {
   "display_name": "Python 3",
   "language": "python",
   "name": "python3"
  },
  "language_info": {
   "codemirror_mode": {
    "name": "ipython",
    "version": 3
   },
   "file_extension": ".py",
   "mimetype": "text/x-python",
   "name": "python",
   "nbconvert_exporter": "python",
   "pygments_lexer": "ipython3",
   "version": "3.6.8"
  }
 },
 "nbformat": 4,
 "nbformat_minor": 2
}
