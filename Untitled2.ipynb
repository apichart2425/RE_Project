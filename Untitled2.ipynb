{
 "cells": [
  {
   "cell_type": "code",
   "execution_count": 2,
   "metadata": {},
   "outputs": [
    {
     "name": "stdout",
     "output_type": "stream",
     "text": [
      "importing Jupyter notebook from KindScore.ipynb\n"
     ]
    }
   ],
   "source": [
    "import os\n",
    "import sys\n",
    "import import_ipynb\n",
    "sys.path.insert(0, os.path.abspath('../KindScoreModel'))\n",
    "import pandas as pd\n",
    "\n",
    "#local lib\n",
    "from KindScore import KindScroeAlgorithm as km"
   ]
  },
  {
   "cell_type": "code",
   "execution_count": 3,
   "metadata": {
    "scrolled": true
   },
   "outputs": [
    {
     "data": {
      "text/plain": [
       "0               ถ้าคนเยอะก็ไม่อยากไปต่อคิว\n",
       "1                          ไม่มีอะไรน่ากิน\n",
       "2                       ถ้าคิวยาวก็ไม่ซื้อ\n",
       "3     ถ้าร้านนั้นคนเยอะก็จะไปเลือกร้านอื่น\n",
       "4               ถ้าแถวยาวมากก็จะขี้เกียจรอ\n",
       "                      ...                 \n",
       "64                ร้านไม่เปิดในช่วงปิดเทอม\n",
       "65                          คนเยอะรอคิวนาน\n",
       "66                         ไม่อยากไปต่อแถว\n",
       "67               ไม่อยากกินอาหารที่ขายอยู่\n",
       "68            อาหารเหลือแต่ร้านที่ไม่อร่อย\n",
       "Name: Problem, Length: 69, dtype: object"
      ]
     },
     "execution_count": 3,
     "metadata": {},
     "output_type": "execute_result"
    }
   ],
   "source": [
    "df = pd.read_csv(\"data/dataReV5.csv\")\n",
    "km.KindScoreModel(df,\"Problem\")"
   ]
  },
  {
   "cell_type": "code",
   "execution_count": 4,
   "metadata": {},
   "outputs": [
    {
     "data": {
      "text/plain": [
       "'pack222'"
      ]
     },
     "execution_count": 4,
     "metadata": {},
     "output_type": "execute_result"
    }
   ],
   "source": [
    "km.Elbow()"
   ]
  },
  {
   "cell_type": "code",
   "execution_count": null,
   "metadata": {},
   "outputs": [],
   "source": []
  }
 ],
 "metadata": {
  "kernelspec": {
   "display_name": "Python 3",
   "language": "python",
   "name": "python3"
  },
  "language_info": {
   "codemirror_mode": {
    "name": "ipython",
    "version": 3
   },
   "file_extension": ".py",
   "mimetype": "text/x-python",
   "name": "python",
   "nbconvert_exporter": "python",
   "pygments_lexer": "ipython3",
   "version": "3.6.8"
  }
 },
 "nbformat": 4,
 "nbformat_minor": 2
}
