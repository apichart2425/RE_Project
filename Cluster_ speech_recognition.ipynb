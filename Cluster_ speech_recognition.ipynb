{
 "cells": [
  {
   "cell_type": "markdown",
   "metadata": {},
   "source": [
    "### Document NLP\n",
    "##### https://www.thainlp.org/pythainlp/tutorials/notebooks/pythainlp-get-started.html#Sentence-and-Word"
   ]
  },
  {
   "cell_type": "code",
   "execution_count": 1,
   "metadata": {
    "scrolled": true
   },
   "outputs": [],
   "source": [
    "# from pythainlp import word_tokenize\n",
    "# from sklearn.feature_extraction.text import TfidfVectorizer\n",
    "from sklearn.cluster import KMeans\n",
    "from sklearn.decomposition import PCA\n",
    "# from pythainlp.word_vector import thai2vec \n",
    "import numpy as np\n",
    "import pandas as pd\n",
    "%reload_ext autoreload\n",
    "%autoreload 2\n",
    "# %matplotlib inline\n",
    "\n",
    "from pythainlp.tokenize import word_tokenize,sent_tokenize\n",
    "from gensim.models import KeyedVectors\n",
    "from gensim.models import Word2Vec\n",
    "import numpy as np\n",
    "from sklearn.metrics.pairwise import cosine_similarity\n",
    "from sklearn.manifold import TSNE\n",
    "from sklearn.cluster import AgglomerativeClustering\n",
    "import matplotlib.pyplot as plt\n",
    "import matplotlib.font_manager as fm\n",
    "from scipy.cluster import hierarchy\n",
    "import dill as pickle\n",
    "import pandas as pd\n",
    "import pythainlp.word_vector\n",
    "# model = word_vector.get_model()\n",
    "model_path = 'thwiki_data/models/'"
   ]
  },
  {
   "cell_type": "code",
   "execution_count": 2,
   "metadata": {},
   "outputs": [
    {
     "data": {
      "text/html": [
       "<div>\n",
       "<style scoped>\n",
       "    .dataframe tbody tr th:only-of-type {\n",
       "        vertical-align: middle;\n",
       "    }\n",
       "\n",
       "    .dataframe tbody tr th {\n",
       "        vertical-align: top;\n",
       "    }\n",
       "\n",
       "    .dataframe thead th {\n",
       "        text-align: right;\n",
       "    }\n",
       "</style>\n",
       "<table border=\"1\" class=\"dataframe\">\n",
       "  <thead>\n",
       "    <tr style=\"text-align: right;\">\n",
       "      <th></th>\n",
       "      <th>Vehicle</th>\n",
       "      <th>restaurant</th>\n",
       "      <th>food delivery</th>\n",
       "      <th>Problem</th>\n",
       "      <th>work</th>\n",
       "      <th>เวลาในการรออาหาร</th>\n",
       "      <th>ราคาอาหาร</th>\n",
       "    </tr>\n",
       "  </thead>\n",
       "  <tbody>\n",
       "    <tr>\n",
       "      <th>0</th>\n",
       "      <td>เดิน</td>\n",
       "      <td>ก๋วยเตี๋ยว, อาหารตามสั่ง, ข้าวมันไก่, ข้าวราดแ...</td>\n",
       "      <td>Promotions</td>\n",
       "      <td>ถ้าคนเยอะก็ไม่อยากไปต่อคิว</td>\n",
       "      <td>1 - 2 ชั่วโมง</td>\n",
       "      <td>10 นาทีขึ้นไป</td>\n",
       "      <td>51-100บาท</td>\n",
       "    </tr>\n",
       "    <tr>\n",
       "      <th>1</th>\n",
       "      <td>รถยนต์ส่วนตัว</td>\n",
       "      <td>ก๋วยเตี๋ยว, อาหารตามสั่ง, ข้าวมันไก่, ข้าวราดแ...</td>\n",
       "      <td>หิว ขี้เกียจเดิน จะทำงาน</td>\n",
       "      <td>ไม่มีอะไรน่ากิน</td>\n",
       "      <td>2 - 3 ชั่วโมง</td>\n",
       "      <td>6 - 10 นาที</td>\n",
       "      <td>51-100บาท</td>\n",
       "    </tr>\n",
       "    <tr>\n",
       "      <th>2</th>\n",
       "      <td>เดิน</td>\n",
       "      <td>ก๋วยเตี๋ยว, อาหารตามสั่ง, ข้าวราดแกง, ร้านน้ำ,...</td>\n",
       "      <td>เพราะร้านที่อยากกินอยู่ไกล บางทีก็อยู่ในเวลาเร...</td>\n",
       "      <td>ถ้าคิวยาวก็ไม่ซื้อ</td>\n",
       "      <td>1 - 2 ชั่วโมง</td>\n",
       "      <td>6 - 10 นาที</td>\n",
       "      <td>100-200 บาท</td>\n",
       "    </tr>\n",
       "    <tr>\n",
       "      <th>3</th>\n",
       "      <td>เดิน</td>\n",
       "      <td>ก๋วยเตี๋ยว, อาหารตามสั่ง, ข้าวราดแกง, ร้านน้ำ,...</td>\n",
       "      <td>ขี้เกียจเดินออกไปกินข้างนอก</td>\n",
       "      <td>ถ้าร้านนั้นคนเยอะก็จะไปเลือกร้านอื่น</td>\n",
       "      <td>1 - 2 ชั่วโมง</td>\n",
       "      <td>6 - 10 นาที</td>\n",
       "      <td>300-500 บาท</td>\n",
       "    </tr>\n",
       "    <tr>\n",
       "      <th>4</th>\n",
       "      <td>รถประจำทาง</td>\n",
       "      <td>ก๋วยเตี๋ยว, อาหารตามสั่ง, ข้าวมันไก่, ข้าวราดแ...</td>\n",
       "      <td>อยากกินร้านนั้น</td>\n",
       "      <td>ถ้าแถวยาวมากก็จะขี้เกียจรอ</td>\n",
       "      <td>1 - 2 ชั่วโมง</td>\n",
       "      <td>10 นาทีขึ้นไป</td>\n",
       "      <td>100-200 บาท</td>\n",
       "    </tr>\n",
       "  </tbody>\n",
       "</table>\n",
       "</div>"
      ],
      "text/plain": [
       "         Vehicle                                         restaurant  \\\n",
       "0           เดิน  ก๋วยเตี๋ยว, อาหารตามสั่ง, ข้าวมันไก่, ข้าวราดแ...   \n",
       "1  รถยนต์ส่วนตัว  ก๋วยเตี๋ยว, อาหารตามสั่ง, ข้าวมันไก่, ข้าวราดแ...   \n",
       "2           เดิน  ก๋วยเตี๋ยว, อาหารตามสั่ง, ข้าวราดแกง, ร้านน้ำ,...   \n",
       "3           เดิน  ก๋วยเตี๋ยว, อาหารตามสั่ง, ข้าวราดแกง, ร้านน้ำ,...   \n",
       "4     รถประจำทาง  ก๋วยเตี๋ยว, อาหารตามสั่ง, ข้าวมันไก่, ข้าวราดแ...   \n",
       "\n",
       "                                       food delivery  \\\n",
       "0                                         Promotions   \n",
       "1                           หิว ขี้เกียจเดิน จะทำงาน   \n",
       "2  เพราะร้านที่อยากกินอยู่ไกล บางทีก็อยู่ในเวลาเร...   \n",
       "3                        ขี้เกียจเดินออกไปกินข้างนอก   \n",
       "4                                    อยากกินร้านนั้น   \n",
       "\n",
       "                                Problem           work เวลาในการรออาหาร  \\\n",
       "0            ถ้าคนเยอะก็ไม่อยากไปต่อคิว  1 - 2 ชั่วโมง    10 นาทีขึ้นไป   \n",
       "1                       ไม่มีอะไรน่ากิน  2 - 3 ชั่วโมง      6 - 10 นาที   \n",
       "2                    ถ้าคิวยาวก็ไม่ซื้อ  1 - 2 ชั่วโมง      6 - 10 นาที   \n",
       "3  ถ้าร้านนั้นคนเยอะก็จะไปเลือกร้านอื่น  1 - 2 ชั่วโมง      6 - 10 นาที   \n",
       "4            ถ้าแถวยาวมากก็จะขี้เกียจรอ  1 - 2 ชั่วโมง    10 นาทีขึ้นไป   \n",
       "\n",
       "     ราคาอาหาร  \n",
       "0    51-100บาท  \n",
       "1    51-100บาท  \n",
       "2  100-200 บาท  \n",
       "3  300-500 บาท  \n",
       "4  100-200 บาท  "
      ]
     },
     "execution_count": 2,
     "metadata": {},
     "output_type": "execute_result"
    }
   ],
   "source": [
    "df = pd.read_csv(\"data/dataReV4.csv\")\n",
    "df.head()"
   ]
  },
  {
   "cell_type": "code",
   "execution_count": 3,
   "metadata": {
    "scrolled": true
   },
   "outputs": [
    {
     "data": {
      "text/plain": [
       "0               ถ้าคนเยอะก็ไม่อยากไปต่อคิว\n",
       "1                          ไม่มีอะไรน่ากิน\n",
       "2                       ถ้าคิวยาวก็ไม่ซื้อ\n",
       "3     ถ้าร้านนั้นคนเยอะก็จะไปเลือกร้านอื่น\n",
       "4               ถ้าแถวยาวมากก็จะขี้เกียจรอ\n",
       "                      ...                 \n",
       "64                ร้านไม่เปิดในช่วยปิดเทอม\n",
       "65                          คนเยอะรอคิวนาน\n",
       "66                         ไม่อยากไปต่อแถว\n",
       "67               ไม่อยากกินอาหารที่ขายอยู่\n",
       "68            อาหารเหลือแต่ร้านที่ไม่อร่อย\n",
       "Name: Problem, Length: 69, dtype: object"
      ]
     },
     "execution_count": 3,
     "metadata": {},
     "output_type": "execute_result"
    }
   ],
   "source": [
    "df['Problem']"
   ]
  },
  {
   "cell_type": "code",
   "execution_count": 4,
   "metadata": {
    "scrolled": true
   },
   "outputs": [
    {
     "data": {
      "text/plain": [
       "0               ถ้าคนเยอะก็ไม่อยากไปต่อคิว\n",
       "1                          ไม่มีอะไรน่ากิน\n",
       "2                       ถ้าคิวยาวก็ไม่ซื้อ\n",
       "3     ถ้าร้านนั้นคนเยอะก็จะไปเลือกร้านอื่น\n",
       "4               ถ้าแถวยาวมากก็จะขี้เกียจรอ\n",
       "                      ...                 \n",
       "64                ร้านไม่เปิดในช่วยปิดเทอม\n",
       "65                          คนเยอะรอคิวนาน\n",
       "66                         ไม่อยากไปต่อแถว\n",
       "67               ไม่อยากกินอาหารที่ขายอยู่\n",
       "68            อาหารเหลือแต่ร้านที่ไม่อร่อย\n",
       "Name: Problem, Length: 69, dtype: object"
      ]
     },
     "execution_count": 4,
     "metadata": {},
     "output_type": "execute_result"
    }
   ],
   "source": [
    "# .replace('มี',np.nan).dropna().values\n",
    "text = df['Problem'].dropna()\n",
    "text"
   ]
  },
  {
   "cell_type": "code",
   "execution_count": 5,
   "metadata": {},
   "outputs": [
    {
     "data": {
      "text/plain": [
       "[['ถ้า', 'คน', 'เยอะ', 'ก็', 'ไม่', 'อยาก', 'ไป', 'ต่อ', 'คิว'],\n",
       " ['ไม่มี', 'อะไร', 'น่ากิน'],\n",
       " ['ถ้า', 'คิว', 'ยาว', 'ก็', 'ไม่', 'ซื้อ'],\n",
       " ['ถ้า',\n",
       "  'ร้าน',\n",
       "  'นั้น',\n",
       "  'คน',\n",
       "  'เยอะ',\n",
       "  'ก็',\n",
       "  'จะ',\n",
       "  'ไป',\n",
       "  'เลือก',\n",
       "  'ร้าน',\n",
       "  'อื่น'],\n",
       " ['ถ้า', 'แถว', 'ยาว', 'มาก', 'ก็', 'จะ', 'ขี้เกียจ', 'รอ'],\n",
       " ['ถ้า', 'คน', 'เยอะ', 'มาก', 'ก็', 'เปลี่ยน', 'ร้าน', 'ไม่', 'อยาก', 'รอ'],\n",
       " ['ถ้า',\n",
       "  'คน',\n",
       "  'เยอะ',\n",
       "  'เกินไป',\n",
       "  'ก็',\n",
       "  'จะ',\n",
       "  'ไม่',\n",
       "  'ซื้อ',\n",
       "  'เปลี่ยน',\n",
       "  'ร้าน',\n",
       "  'หรือไม่',\n",
       "  'กิน',\n",
       "  'เลย'],\n",
       " ['ไม่มี', 'ร้านอาหาร', 'ที่', 'ชอบ'],\n",
       " ['ขี้เกียจ', 'รอ', 'นานๆ', 'แล้ว', 'รู้สึก', 'ว่า', 'มัน', 'เสียเวลา'],\n",
       " ['ถ้า', 'คิว', 'ยาว', 'เกิน', 'จะ', 'เลือก', 'ร้าน', 'อื่น', 'แทน'],\n",
       " ['เบื่อ', 'ร้านอาหาร', 'ที่', 'มี', 'อยู่'],\n",
       " ['อยาก', 'กิน', 'อาหาร', 'แปลกใหม่'],\n",
       " ['โรงอาหาร', 'คน', 'เยอะ', 'ทำให้', 'ไม่', 'อยาก', 'ซื้อ'],\n",
       " ['มี', 'เวลา', 'น้อย', 'ไม่', 'สามารถ', 'ต่อ', 'คิว', 'ได้'],\n",
       " ['อาหาร', 'ที่', 'อยาก', 'กิน', 'หมด'],\n",
       " ['ถ้า', 'คิว', 'ยาว', 'เกิน', 'จะ', 'เลือก', 'ร้าน', 'อื่น', 'แทน'],\n",
       " ['เบื่ื่อ', 'ร้านอาหาร', 'ที่', 'มี', 'อยู่'],\n",
       " ['ไม่รู้', 'จะ', 'กิน', 'อะไร'],\n",
       " ['ไม่มี', 'โต๊ะ', 'นั้ง', 'กินข้าว'],\n",
       " ['กิน', 'อาหาร', 'น้อยลง'],\n",
       " ['อยาก', 'กิน', 'ร้านอาหาร', 'ข้างนอก'],\n",
       " ['ร้านอาหาร', 'มี', 'คิว', 'เยอะ'],\n",
       " ['เลิกเรียน', 'ช้า', 'ทำให้', 'ไม่', 'เหลือ', 'อะไร', 'ให้', 'กิน', 'เลย'],\n",
       " ['มี', 'เวลา', 'พัก', 'กินข้าว', 'น้อย'],\n",
       " ['ไม่', 'อยาก', 'กิน', 'อาหาร', 'จำเจ'],\n",
       " ['ไม่มี', 'อาหาร', 'ที่', 'อยาก', 'กิน'],\n",
       " ['หา', 'โต๊ะ', 'นั้ง', 'ไม่ได้'],\n",
       " ['ไม่', 'ชอบ', 'กลิ่น', 'ที่', 'โรงอาหาร'],\n",
       " ['คณะ',\n",
       "  'อื่น',\n",
       "  'เยอะ',\n",
       "  'มาก',\n",
       "  'อาหาร',\n",
       "  'ซ้ำซาก',\n",
       "  'บางที',\n",
       "  'อยาก',\n",
       "  'กินแถว',\n",
       "  'ซอย',\n",
       "  'หอ',\n",
       "  'แต่',\n",
       "  'เวลา',\n",
       "  'ก็',\n",
       "  'ไม่ค่อย',\n",
       "  'พอ',\n",
       "  'เลย',\n",
       "  'ต้อง',\n",
       "  'กินใน',\n",
       "  'คณะ',\n",
       "  'ไป',\n",
       "  'ก่อน',\n",
       "  'โรงอาหาร',\n",
       "  'ร้อน',\n",
       "  'มาก',\n",
       "  'และ',\n",
       "  'อบ',\n",
       "  'มาก'],\n",
       " ['ควัน', 'เยอะ', ',', 'ร้อน', ',', 'แมลงวัน', 'ไม่ค่อย', 'น่า', 'นั่ง'],\n",
       " ['คน', 'เยอะ', 'ต่อ', 'คิว', 'นาน'],\n",
       " ['อาจาร',\n",
       "  '์ย',\n",
       "  'สอน',\n",
       "  'เกิน',\n",
       "  'เวลา',\n",
       "  'ไม่มี',\n",
       "  'อาหาร',\n",
       "  'เหลือ',\n",
       "  'ให้',\n",
       "  'กิน'],\n",
       " ['ขี้เกียจ', 'ต่อ', 'แถว'],\n",
       " ['คน', 'เยอะ', 'เบื่ออาหาร', 'ใน', 'คณะ', 'วุ่นวาย', 'ร้อน'],\n",
       " ['มา', 'ทำงาน', 'วันหยุด', 'ไม่มี', 'ร้านอาหาร', 'เปิด'],\n",
       " ['ทำงาน', 'ดึก', 'ทำให้', 'ไม่มี', 'ร้านอาหาร', 'เปิด'],\n",
       " ['ร้านอาหาร',\n",
       "  'มี',\n",
       "  'จำนวน',\n",
       "  'ไม่',\n",
       "  'มาก',\n",
       "  'พอที่จะ',\n",
       "  'รับ',\n",
       "  'จำนวน',\n",
       "  'นักศึกษา'],\n",
       " ['โดน', 'ลัด', 'คิว'],\n",
       " ['ต่อ',\n",
       "  'คิว',\n",
       "  'นาน',\n",
       "  'คน',\n",
       "  'เยอะ',\n",
       "  'มาก',\n",
       "  'เนื่องจาก',\n",
       "  'หลาย',\n",
       "  'คณะ',\n",
       "  'มา',\n",
       "  'กิน',\n",
       "  'โรงอาหาร',\n",
       "  'เดียว',\n",
       "  'กับ',\n",
       "  'เรา',\n",
       "  'ทำให้',\n",
       "  'บาง',\n",
       "  'ร้าน',\n",
       "  'ต้อง',\n",
       "  'รอ',\n",
       "  'คิว',\n",
       "  'นาน',\n",
       "  'และ',\n",
       "  'อาหาร',\n",
       "  'ไม่ค่อย',\n",
       "  'หลากหลาย'],\n",
       " ['ควัน',\n",
       "  'ที่',\n",
       "  'ร้าน',\n",
       "  'ข้าว',\n",
       "  'ตาม',\n",
       "  'สั่งทำ',\n",
       "  'เยอะ',\n",
       "  'ทำให้',\n",
       "  'ไม่',\n",
       "  'อยาก',\n",
       "  'กิน'],\n",
       " ['ไม่รู้', 'จะ', 'กิน', 'อะไร'],\n",
       " ['ที่', 'ร้าน', 'ลืม', 'ออเดอร์'],\n",
       " ['ร้าน', 'จำ', 'ไม่ได้', 'ว่า', 'เรา', 'สั่ง', 'อะไร'],\n",
       " ['เบื่ออาหาร', 'ที่', 'โรงอาหาร'],\n",
       " ['ร้านอาหาร', 'ไม่', 'เปิด', 'ให้บริการ', 'ใน', 'เวลา', 'ดึก'],\n",
       " ['ไม่มี', 'ร้านอาหาร', 'เปิด', 'ใน', 'วันหยุด'],\n",
       " ['วัตถุดิบ', 'ที่', 'ทำ', 'หมด'],\n",
       " ['ลืม', 'กระเป๋า', 'ตัง', 'ไม่มี', 'เงินสด', 'จ่าย'],\n",
       " ['ร้าน', 'ไม่', 'รับ', 'โอน'],\n",
       " ['โรงอาหาร', 'คน', 'เยอะ', 'ไม่มี', 'โต๊ะ', 'ให้', 'นัง'],\n",
       " ['ที่', '่นั้ง', 'ไม่', 'เพียง', 'พอกับ', 'จำนวน', 'นักศึกษา'],\n",
       " ['เดินทาง', 'ไป', 'โรงอาหาร', 'ลำบาก'],\n",
       " ['ไม่มี', 'เมนู', 'ที่', 'อยาก', 'ทาน'],\n",
       " ['ร้านอาหาร', 'มี', 'คิว', 'เยอะ'],\n",
       " ['ร้านอาหาร', 'ไม่', 'เปิด', 'บริการ', 'ใน', 'วันหยุด'],\n",
       " ['มี', 'เวลา', 'พัก', 'ไม่พอ', 'ต่อ', 'คิว'],\n",
       " ['บรรยากาศ', 'โรงอาหาร', 'ไม่', 'น่ารับประทาน'],\n",
       " ['สภาพอากาศ', 'ทำให้', 'ไม่', 'สามารถ', 'ออก', 'ไป', 'ซื้อ', 'ได้'],\n",
       " ['โรงอาหาร', 'คน', 'ต่อ', 'คิว', 'เยอะ'],\n",
       " ['คน', 'รอ', 'สั่งอาหาร', 'เยอะ'],\n",
       " ['อาหาร', 'หมด'],\n",
       " ['ร้านอาหาร', 'มี', 'น้อยกว่า', 'จำนวน', 'นักศึกษา'],\n",
       " ['เบื่อ', 'เมนู', 'อาหาร', 'ใน', 'โรงอาหาร'],\n",
       " ['ไม่มี', 'ร้าน', 'ที่', 'ทำ', 'อร่อย'],\n",
       " ['ร้าน', 'ไม่', 'เปิด', 'ใน', 'ช่วย', 'ปิดเทอม'],\n",
       " ['คน', 'เยอะ', 'รอ', 'คิว', 'นาน'],\n",
       " ['ไม่', 'อยาก', 'ไป', 'ต่อ', 'แถว'],\n",
       " ['ไม่', 'อยาก', 'กิน', 'อาหาร', 'ที่', 'ขาย', 'อยู่'],\n",
       " ['อาหาร', 'เหลือ', 'แต่', 'ร้าน', 'ที่', 'ไม่อร่อย']]"
      ]
     },
     "execution_count": 5,
     "metadata": {},
     "output_type": "execute_result"
    }
   ],
   "source": [
    "sentences = []\n",
    "for x in text:\n",
    "    proc = word_tokenize(x, engine='newmm')\n",
    "#     print(proc[0] == \" \")\n",
    "    lst = []\n",
    "    for word in proc:\n",
    "        if(word != \" \"):\n",
    "            lst.append(word)\n",
    "    sentences.append(lst)\n",
    "sentences"
   ]
  },
  {
   "cell_type": "code",
   "execution_count": 6,
   "metadata": {},
   "outputs": [],
   "source": [
    "model_nlp = pythainlp.word_vector.get_model()"
   ]
  },
  {
   "cell_type": "code",
   "execution_count": 7,
   "metadata": {
    "scrolled": true
   },
   "outputs": [
    {
     "name": "stdout",
     "output_type": "stream",
     "text": [
      "[[-1.00567597e-01 -1.27915803e-01  1.43477401e-01 ...  2.76386910e-01\n",
      "  -1.70062402e-01 -4.73427492e-01]\n",
      " [ 2.90021330e-01 -4.17456659e-02  2.44560341e-01 ... -2.69656678e-02\n",
      "  -9.02133373e-03  3.56803313e-02]\n",
      " [-2.24298332e-02 -8.48581667e-02  7.54751674e-02 ...  1.85578171e-01\n",
      "  -9.97570058e-02 -3.78829824e-01]\n",
      " ...\n",
      " [-8.40125967e-02 -1.83691007e-01  2.10356402e-01 ...  1.57500415e-01\n",
      "  -1.81059796e-01 -4.68102390e-01]\n",
      " [-5.45194253e-02  7.63940002e-02  1.29256144e-01 ...  2.69724432e-01\n",
      "  -7.95957119e-02 -1.14440563e-01]\n",
      " [ 3.51500387e-04 -2.55971832e-01  1.02588498e-01 ...  1.13420837e-01\n",
      "  -1.39443330e-01 -3.14016889e-03]]\n"
     ]
    },
    {
     "name": "stderr",
     "output_type": "stream",
     "text": [
      "/usr/local/lib/python3.7/site-packages/ipykernel_launcher.py:5: DeprecationWarning: Call to deprecated `wv` (Attribute will be removed in 4.0.0, use self instead).\n",
      "  \"\"\"\n",
      "/usr/local/lib/python3.7/site-packages/ipykernel_launcher.py:6: DeprecationWarning: Call to deprecated `wv` (Attribute will be removed in 4.0.0, use self instead).\n",
      "  \n"
     ]
    }
   ],
   "source": [
    "def sentence_vectorizer(ss,dim=300,use_mean=True): # ประกาศฟังก์ชัน sentence_vectorizer\n",
    "    s = word_tokenize(ss)\n",
    "    vec = np.zeros((1,dim))\n",
    "    for word in s:\n",
    "        if word in model_nlp.wv.index2word: \n",
    "            vec+= model_nlp.wv.word_vec(word)\n",
    "        else: pass\n",
    "    if use_mean: vec /= len(s)\n",
    "    return vec\n",
    "\n",
    "lst_vector = []\n",
    "for i in text:\n",
    "    lst_vector.append(sentence_vectorizer(i)[0])\n",
    "X=np.array(lst_vector)\n",
    "print(X)"
   ]
  },
  {
   "cell_type": "markdown",
   "metadata": {},
   "source": [
    "### Elbow Algorithm\n",
    "* find the best cluster"
   ]
  },
  {
   "cell_type": "code",
   "execution_count": 8,
   "metadata": {},
   "outputs": [
    {
     "data": {
      "image/png": "[encoded data removed]",
      "text/plain": [
       "<Figure size 432x288 with 1 Axes>"
      ]
     },
     "metadata": {
      "needs_background": "light"
     },
     "output_type": "display_data"
    }
   ],
   "source": [
    "import matplotlib.pyplot as plt\n",
    "wcss = []\n",
    "for i in range(1,11):\n",
    "    kmeans = KMeans(n_clusters = i, init = 'k-means++', random_state = 42)\n",
    "    kmeans.fit(X)\n",
    "    wcss.append(kmeans.inertia_)\n",
    "plt.plot(range(1,11), wcss)\n",
    "plt.title('Elbow')\n",
    "plt.xlabel('Num')\n",
    "plt.ylabel('WCSS')\n",
    "plt.show()"
   ]
  },
  {
   "cell_type": "markdown",
   "metadata": {},
   "source": [
    "### Create Model Kmean"
   ]
  },
  {
   "cell_type": "code",
   "execution_count": 9,
   "metadata": {},
   "outputs": [
    {
     "data": {
      "text/plain": [
       "array([4, 2, 2, 2, 2, 2, 2, 1, 2, 2, 1, 3, 2, 0, 1, 2, 1, 2, 0, 3, 3, 0,\n",
       "       2, 0, 3, 1, 2, 1, 2, 3, 4, 3, 4, 3, 0, 0, 0, 2, 2, 2, 2, 1, 2, 1,\n",
       "       0, 0, 1, 0, 0, 2, 1, 2, 1, 0, 0, 0, 0, 2, 4, 4, 3, 0, 3, 1, 0, 4,\n",
       "       4, 1, 1], dtype=int32)"
      ]
     },
     "execution_count": 9,
     "metadata": {},
     "output_type": "execute_result"
    }
   ],
   "source": [
    "n_clusters = 5\n",
    "clf = KMeans(n_clusters=n_clusters,\n",
    "            max_iter=100,\n",
    "            init='k-means++',\n",
    "            n_init=1)\n",
    "labels = clf.fit_predict(X)\n",
    "labels\n"
   ]
  },
  {
   "cell_type": "code",
   "execution_count": 10,
   "metadata": {
    "scrolled": true
   },
   "outputs": [
    {
     "data": {
      "text/html": [
       "<div>\n",
       "<style scoped>\n",
       "    .dataframe tbody tr th:only-of-type {\n",
       "        vertical-align: middle;\n",
       "    }\n",
       "\n",
       "    .dataframe tbody tr th {\n",
       "        vertical-align: top;\n",
       "    }\n",
       "\n",
       "    .dataframe thead th {\n",
       "        text-align: right;\n",
       "    }\n",
       "</style>\n",
       "<table border=\"1\" class=\"dataframe\">\n",
       "  <thead>\n",
       "    <tr style=\"text-align: right;\">\n",
       "      <th></th>\n",
       "      <th>cluster</th>\n",
       "      <th>text</th>\n",
       "    </tr>\n",
       "  </thead>\n",
       "  <tbody>\n",
       "    <tr>\n",
       "      <th>0</th>\n",
       "      <td>4</td>\n",
       "      <td>ถ้าคนเยอะก็ไม่อยากไปต่อคิว</td>\n",
       "    </tr>\n",
       "    <tr>\n",
       "      <th>1</th>\n",
       "      <td>2</td>\n",
       "      <td>ไม่มีอะไรน่ากิน</td>\n",
       "    </tr>\n",
       "    <tr>\n",
       "      <th>2</th>\n",
       "      <td>2</td>\n",
       "      <td>ถ้าคิวยาวก็ไม่ซื้อ</td>\n",
       "    </tr>\n",
       "    <tr>\n",
       "      <th>3</th>\n",
       "      <td>2</td>\n",
       "      <td>ถ้าร้านนั้นคนเยอะก็จะไปเลือกร้านอื่น</td>\n",
       "    </tr>\n",
       "    <tr>\n",
       "      <th>4</th>\n",
       "      <td>2</td>\n",
       "      <td>ถ้าแถวยาวมากก็จะขี้เกียจรอ</td>\n",
       "    </tr>\n",
       "    <tr>\n",
       "      <th>...</th>\n",
       "      <td>...</td>\n",
       "      <td>...</td>\n",
       "    </tr>\n",
       "    <tr>\n",
       "      <th>64</th>\n",
       "      <td>0</td>\n",
       "      <td>ร้านไม่เปิดในช่วยปิดเทอม</td>\n",
       "    </tr>\n",
       "    <tr>\n",
       "      <th>65</th>\n",
       "      <td>4</td>\n",
       "      <td>คนเยอะรอคิวนาน</td>\n",
       "    </tr>\n",
       "    <tr>\n",
       "      <th>66</th>\n",
       "      <td>4</td>\n",
       "      <td>ไม่อยากไปต่อแถว</td>\n",
       "    </tr>\n",
       "    <tr>\n",
       "      <th>67</th>\n",
       "      <td>1</td>\n",
       "      <td>ไม่อยากกินอาหารที่ขายอยู่</td>\n",
       "    </tr>\n",
       "    <tr>\n",
       "      <th>68</th>\n",
       "      <td>1</td>\n",
       "      <td>อาหารเหลือแต่ร้านที่ไม่อร่อย</td>\n",
       "    </tr>\n",
       "  </tbody>\n",
       "</table>\n",
       "<p>69 rows × 2 columns</p>\n",
       "</div>"
      ],
      "text/plain": [
       "    cluster                                  text\n",
       "0         4            ถ้าคนเยอะก็ไม่อยากไปต่อคิว\n",
       "1         2                       ไม่มีอะไรน่ากิน\n",
       "2         2                    ถ้าคิวยาวก็ไม่ซื้อ\n",
       "3         2  ถ้าร้านนั้นคนเยอะก็จะไปเลือกร้านอื่น\n",
       "4         2            ถ้าแถวยาวมากก็จะขี้เกียจรอ\n",
       "..      ...                                   ...\n",
       "64        0              ร้านไม่เปิดในช่วยปิดเทอม\n",
       "65        4                        คนเยอะรอคิวนาน\n",
       "66        4                       ไม่อยากไปต่อแถว\n",
       "67        1             ไม่อยากกินอาหารที่ขายอยู่\n",
       "68        1          อาหารเหลือแต่ร้านที่ไม่อร่อย\n",
       "\n",
       "[69 rows x 2 columns]"
      ]
     },
     "execution_count": 10,
     "metadata": {},
     "output_type": "execute_result"
    }
   ],
   "source": [
    "cluster = []\n",
    "value = []\n",
    "o = \"\"\n",
    "for index, sentence in enumerate(sentences):\n",
    "#     print(str(labels[index]) + \":\" + str(sentence))\n",
    "    cluster.append(labels[index])\n",
    "    value.append(o.join(sentences[index]))\n",
    "list_of_cluster = list(zip(cluster,value))\n",
    "df_cluster = pd.DataFrame(list_of_cluster, columns = ['cluster', 'text'])  \n",
    "df_cluster"
   ]
  },
  {
   "cell_type": "markdown",
   "metadata": {},
   "source": [
    "### speech_recognition "
   ]
  },
  {
   "cell_type": "code",
   "execution_count": 11,
   "metadata": {},
   "outputs": [
    {
     "ename": "ModuleNotFoundError",
     "evalue": "No module named 'speech_recognition'",
     "output_type": "error",
     "traceback": [
      "\u001b[0;31m---------------------------------------------------------------------------\u001b[0m",
      "\u001b[0;31mModuleNotFoundError\u001b[0m                       Traceback (most recent call last)",
      "\u001b[0;32m<ipython-input-11-2e0cba7b31fc>\u001b[0m in \u001b[0;36m<module>\u001b[0;34m\u001b[0m\n\u001b[0;32m----> 1\u001b[0;31m \u001b[0;32mimport\u001b[0m \u001b[0mspeech_recognition\u001b[0m \u001b[0;32mas\u001b[0m \u001b[0msr\u001b[0m\u001b[0;34m\u001b[0m\u001b[0;34m\u001b[0m\u001b[0m\n\u001b[0m\u001b[1;32m      2\u001b[0m \u001b[0;31m# Record Audio\u001b[0m\u001b[0;34m\u001b[0m\u001b[0;34m\u001b[0m\u001b[0;34m\u001b[0m\u001b[0m\n\u001b[1;32m      3\u001b[0m \u001b[0mr\u001b[0m \u001b[0;34m=\u001b[0m \u001b[0msr\u001b[0m\u001b[0;34m.\u001b[0m\u001b[0mRecognizer\u001b[0m\u001b[0;34m(\u001b[0m\u001b[0;34m)\u001b[0m\u001b[0;34m\u001b[0m\u001b[0;34m\u001b[0m\u001b[0m\n\u001b[1;32m      4\u001b[0m \u001b[0mm\u001b[0m \u001b[0;34m=\u001b[0m \u001b[0msr\u001b[0m\u001b[0;34m.\u001b[0m\u001b[0mMicrophone\u001b[0m\u001b[0;34m(\u001b[0m\u001b[0;34m)\u001b[0m\u001b[0;34m\u001b[0m\u001b[0;34m\u001b[0m\u001b[0m\n",
      "\u001b[0;31mModuleNotFoundError\u001b[0m: No module named 'speech_recognition'"
     ]
    }
   ],
   "source": [
    "import speech_recognition as sr\n",
    "# Record Audio\n",
    "r = sr.Recognizer()\n",
    "m = sr.Microphone()"
   ]
  },
  {
   "cell_type": "code",
   "execution_count": null,
   "metadata": {},
   "outputs": [],
   "source": [
    "#set threhold level\n",
    "with m as source: r.adjust_for_ambient_noise(source)\n",
    "print(\"Set minimum energy threshold to {}\".format(r.energy_threshold))\n",
    "\n",
    "# Speech recognition using Google Speech Recognition\n",
    "def checkspeech(r):\n",
    "#     file_wav\n",
    "#     sr.Microphone()  sr.WavFile(file_wav)\n",
    "#     with sr.WavFile(\"C:/Users/Pack.Apichart/Desktop/re/t1.wav\")\n",
    "    print(\"Wake UP!!\")\n",
    "    with  sr.Microphone()  as source:\n",
    "        audio = r.listen(source)\n",
    "    try:\n",
    "    # for testing purposes, we're just using the default API key\n",
    "    # to use another API key, use `r.recognize_google(audio, key=\"GOOGLE_SPEECH_RECOGNITION_API_KEY\")`\n",
    "    # instead of `r.recognize_google(audio)`\n",
    "\n",
    "# \"en-US\"\n",
    "# \"th-TH\"\n",
    "        print(\"You said: \" + r.recognize_google(audio,language = \"th-TH\"))\n",
    "        return r.recognize_google(audio,language = \"th-TH\")\n",
    "#         return (r.recognize_google(audio))\n",
    "    except sr.UnknownValueError:\n",
    "        print(\"Google Speech Recognition could not understand audio\")\n",
    "        return \"stop now\"\n",
    "    except sr.RequestError as e:\n",
    "        print(\"Could not request results from Google Speech Recognition service; {0}\".format(e))\n",
    "        return \"Could not request results from Google Speech Recognition service\"\n",
    "\n"
   ]
  },
  {
   "cell_type": "code",
   "execution_count": null,
   "metadata": {
    "scrolled": false
   },
   "outputs": [],
   "source": [
    "speech = str(checkspeech(r))"
   ]
  },
  {
   "cell_type": "code",
   "execution_count": null,
   "metadata": {
    "scrolled": true
   },
   "outputs": [],
   "source": [
    "speech_list = []\n",
    "speech_list.append(sentence_vectorizer(str(speech))[0])\n",
    "speech_vector = np.array(speech_list)\n",
    "result = clf.predict(speech_vector)\n",
    "result"
   ]
  },
  {
   "cell_type": "markdown",
   "metadata": {},
   "source": [
    "### Same cluster speech"
   ]
  },
  {
   "cell_type": "code",
   "execution_count": null,
   "metadata": {},
   "outputs": [],
   "source": [
    "df_cluster[df_cluster['cluster'] == result.item(0)]"
   ]
  },
  {
   "cell_type": "code",
   "execution_count": null,
   "metadata": {},
   "outputs": [],
   "source": [
    "# def sentence_similarity(s1,s2):\n",
    "#     for i in s2:\n",
    "#         print(cosine_similarity(sentence_vectorizer(str(s1)),sentence_vectorizer(str(i))))\n",
    "# #     return cosine_similarity(sentence_vectorizer(str(s1)),sentence_vectorizer(str(s2)))\n"
   ]
  },
  {
   "cell_type": "code",
   "execution_count": null,
   "metadata": {},
   "outputs": [],
   "source": [
    "# test_word = [\"อยากกินร้านอาหารข้างนอก\"]\n",
    "# sentence_similarity(speech, test_word)"
   ]
  },
  {
   "cell_type": "markdown",
   "metadata": {},
   "source": [
    "### PCA"
   ]
  },
  {
   "cell_type": "code",
   "execution_count": null,
   "metadata": {},
   "outputs": [],
   "source": [
    "# pca  = PCA(n_components=2).fit(X)\n",
    "# coords = pca.transform(X)\n",
    "# label_colors = [\"#54FF9F\", \"#7D26CD\", \"#794044\", \"#F4E628\",\"#54a1ff\",\"#22d6c4\",\"#22d6c4\",\"#d65522\",\"#cf1351\"]\n",
    "# colors = [label_colors[i] for i in labels]\n",
    "# plt.scatter(coords[:, 0], coords[:, 1], c=colors)\n",
    "# centroids = clf.cluster_centers_\n",
    "# centroid_coords = pca.transform(centroids)\n",
    "# plt.scatter(centroid_coords[:, 0], centroid_coords[:, 1], marker='X', s=200, linewidths=2, c='#444d61')\n",
    "# plt.show()"
   ]
  },
  {
   "cell_type": "code",
   "execution_count": null,
   "metadata": {},
   "outputs": [],
   "source": []
  }
 ],
 "metadata": {
  "kernelspec": {
   "display_name": "Python 3",
   "language": "python",
   "name": "python3"
  },
  "language_info": {
   "codemirror_mode": {
    "name": "ipython",
    "version": 3
   },
   "file_extension": ".py",
   "mimetype": "text/x-python",
   "name": "python",
   "nbconvert_exporter": "python",
   "pygments_lexer": "ipython3",
   "version": "3.7.4"
  }
 },
 "nbformat": 4,
 "nbformat_minor": 2
}
