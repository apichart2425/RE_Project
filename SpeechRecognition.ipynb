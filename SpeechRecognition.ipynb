{
 "cells": [
  {
   "cell_type": "code",
   "execution_count": 7,
   "metadata": {},
   "outputs": [],
   "source": [
    "import speech_recognition as sr\n",
    "import subprocess\n",
    "import os"
   ]
  },
  {
   "cell_type": "code",
   "execution_count": 8,
   "metadata": {},
   "outputs": [
    {
     "name": "stdout",
     "output_type": "stream",
     "text": [
      "Set minimum energy threshold to 493.32559627364725\n"
     ]
    }
   ],
   "source": [
    "import speech_recognition as sr\n",
    "# Record Audio\n",
    "r = sr.Recognizer()\n",
    "m = sr.Microphone()\n",
    "#set threhold level\n",
    "with m as source: r.adjust_for_ambient_noise(source)\n",
    "print(\"Set minimum energy threshold to {}\".format(r.energy_threshold))\n",
    "# Speech recognition using Google Speech Recognition\n",
    "def SpeechRecognition(parameter):\n",
    "    \n",
    "    if(parameter.lower() == \"file\"):\n",
    "        print(\"Path file wav: [String]\")\n",
    "        \n",
    "        path_file_wav = str(input())\n",
    "        print(\"Process wav in second:  [Integer]\")\n",
    "        \n",
    "        second = int(input())\n",
    "        print(\"Processing file plase waiting !!!\")\n",
    "        \n",
    "        with sr.WavFile(path_file_wav) as source:\n",
    "            audio = r.listen(source,second)\n",
    "            try:\n",
    "            # for testing purposes, we're just using the default API key\n",
    "            # to use another API key, use `r.recognize_google(audio, key=\"GOOGLE_SPEECH_RECOGNITION_API_KEY\")`\n",
    "            # instead of `r.recognize_google(audio)`\n",
    "\n",
    "        # \"en-US\"\n",
    "        # \"th-TH\"\n",
    "                print(\"You said: \" + r.recognize_google(audio,language = \"th-TH\"))\n",
    "                return r.recognize_google(audio,language = \"th-TH\")\n",
    "            except sr.UnknownValueError:\n",
    "                print(\"Google Speech Recognition could not understand audio\")\n",
    "                return \"stop now\"\n",
    "            except sr.RequestError as e:\n",
    "                print(\"Could not request results from Google Speech Recognition service; {0}\".format(e))\n",
    "                return \"Could not request results from Google Speech Recognition service\"\n",
    "\n",
    "    elif(parameter.lower() == \"speech\"):\n",
    "        print(\"Wake UP!! : said something\")\n",
    "        with  sr.Microphone()  as source:\n",
    "            audio = r.listen(source)\n",
    "            try:\n",
    "            # for testing purposes, we're just using the default API key\n",
    "            # to use another API key, use `r.recognize_google(audio, key=\"GOOGLE_SPEECH_RECOGNITION_API_KEY\")`\n",
    "            # instead of `r.recognize_google(audio)`\n",
    "\n",
    "        # \"en-US\"\n",
    "        # \"th-TH\"\n",
    "                print(\"You said: \" + r.recognize_google(audio,language = \"th-TH\"))\n",
    "                return r.recognize_google(audio,language = \"th-TH\")\n",
    "            except sr.UnknownValueError:\n",
    "                print(\"Google Speech Recognition could not understand audio\")\n",
    "                return \"stop now\"\n",
    "            except sr.RequestError as e:\n",
    "                print(\"Could not request results from Google Speech Recognition service; {0}\".format(e))\n",
    "                return \"Could not request results from Google Speech Recognition service\"\n",
    "\n",
    "\n",
    "def FileRecognition(file_wav: str,duration: int):\n",
    "    print(\"Processing !!\")\n",
    "    with sr.WavFile(file_wav) as source:\n",
    "        audio = r.listen(source,duration)\n",
    "    try:\n",
    "    # for testing purposes, we're just using the default API key\n",
    "    # to use another API key, use `r.recognize_google(audio, key=\"GOOGLE_SPEECH_RECOGNITION_API_KEY\")`\n",
    "    # instead of `r.recognize_google(audio)`\n",
    "\n",
    "# \"en-US\"\n",
    "# \"th-TH\"\n",
    "        print(\"You said: \" + r.recognize_google(audio,language = \"th-TH\"))\n",
    "        return r.recognize_google(audio,language = \"th-TH\")\n",
    "#         return (r.recognize_google(audio))\n",
    "    except sr.UnknownValueError:\n",
    "        print(\"Google Speech Recognition could not understand audio\")\n",
    "        return \"stop now\"\n",
    "    except sr.RequestError as e:\n",
    "        print(\"Could not request results from Google Speech Recognition service; {0}\".format(e))\n",
    "        return \"Could not request results from Google Speech Recognition service\"\n",
    "\n",
    "def problem_CSV(data, attribute:str):\n",
    "    problem = []\n",
    "    for i in  data[attribute].values:\n",
    "        problem.append(i)\n",
    "    return problem"
   ]
  },
  {
   "cell_type": "code",
   "execution_count": 11,
   "metadata": {},
   "outputs": [],
   "source": [
    "def FileRecognitionWithConvertFile(file_wav: str,duration: int):\n",
    "#     Input: File name (Audio)\n",
    "#     Output: Text recognizer from audio file (Thai language) \n",
    "    # Name new file\n",
    "    AUDIO_FILE_CONV = file_wav[:file_wav.rfind('.')] + \"-conv.wav\"\n",
    "    # Receive output from subprocedd\n",
    "    FNULL = open(os.devnull, 'w')\n",
    "    # Execute command convert file\n",
    "    subprocess.run([\"ffmpeg\", \"-y\", \"-i\", file_wav, \"-acodec\", \"pcm_s16le\", AUDIO_FILE_CONV], stdout=FNULL, stderr=subprocess.STDOUT)\n",
    "\n",
    "    # Call API recognizer\n",
    "    r = sr.Recognizer()\n",
    "    with sr.AudioFile(AUDIO_FILE_CONV) as source:\n",
    "        audio = r.record(source)  # read the entire audio file\n",
    "    return \"You said: \" + r.recognize_google(audio, None, 'th-TH')"
   ]
  },
  {
   "cell_type": "code",
   "execution_count": null,
   "metadata": {
    "scrolled": true
   },
   "outputs": [],
   "source": []
  },
  {
   "cell_type": "code",
   "execution_count": null,
   "metadata": {},
   "outputs": [],
   "source": []
  }
 ],
 "metadata": {
  "kernelspec": {
   "display_name": "Python 3",
   "language": "python",
   "name": "python3"
  },
  "language_info": {
   "codemirror_mode": {
    "name": "ipython",
    "version": 3
   },
   "file_extension": ".py",
   "mimetype": "text/x-python",
   "name": "python",
   "nbconvert_exporter": "python",
   "pygments_lexer": "ipython3",
   "version": "3.7.5"
  }
 },
 "nbformat": 4,
 "nbformat_minor": 2
}
