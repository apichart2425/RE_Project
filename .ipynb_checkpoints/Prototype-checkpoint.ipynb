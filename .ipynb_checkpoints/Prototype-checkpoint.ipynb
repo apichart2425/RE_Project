{
 "cells": [
  {
   "cell_type": "code",
   "execution_count": null,
   "metadata": {
    "scrolled": true
   },
   "outputs": [],
   "source": [
    "import os\n",
    "import sys\n",
    "import import_ipynb\n",
    "import pandas as pd\n",
    "import numpy as np\n",
    "#local lib\n",
    "sys.path.insert(0, os.path.abspath('../KindScoreModel'))\n",
    "import KindScore as ks\n",
    "import SpeechRecognition as sr"
   ]
  },
  {
   "cell_type": "markdown",
   "metadata": {},
   "source": [
    "### Read data source"
   ]
  },
  {
   "cell_type": "code",
   "execution_count": null,
   "metadata": {
    "scrolled": true
   },
   "outputs": [],
   "source": [
    "df = pd.read_csv(\"data/dataset/dataReV5.csv\")\n",
    "df"
   ]
  },
  {
   "cell_type": "markdown",
   "metadata": {},
   "source": [
    "### Algorithm KindScore"
   ]
  },
  {
   "cell_type": "markdown",
   "metadata": {},
   "source": []
  },
  {
   "cell_type": "code",
   "execution_count": null,
   "metadata": {
    "scrolled": true
   },
   "outputs": [],
   "source": [
    "data, model = ks.KindScoreModel(df,\"Problem\",\"score\")"
   ]
  },
  {
   "cell_type": "code",
   "execution_count": null,
   "metadata": {
    "scrolled": true
   },
   "outputs": [],
   "source": [
    "problemList =  []\n",
    "\n",
    "### file wav\n",
    "problemList.append(sr.FileRecognition(\"/Users/fluke/Documents/RE/RE_Project/data/sound/01.wav\",15))\n",
    "# problemList.append(sr.FileRecognition(\"/Users/fluke/Documents/RE/RE_Project/data/sound/02.wav\",15))\n",
    "# problemList.append(sr.FileRecognition(\"C:/Users/Pack.Apichart/Desktop/Re_project/Cluster_speech_two/data/sound/02.wav\",15))\n",
    "# problemList.append(sr.FileRecognition(\"C:/Users/Pack.Apichart/Desktop/Re_project/Cluster_speech_two/data/sound/03.wav\",15))\n",
    "# problemList.append(sr.FileRecognition(\"C:/Users/Pack.Apichart/Desktop/Re_project/Cluster_speech_two/data/sound/04.wav\",15))\n",
    "\n",
    "### file with convert\n",
    "problemList.append(sr.FileRecognitionWithConvertFile(\"/Users/fluke/Documents/RE/RE_Project/data/sound/ake.aac\",15))\n",
    "\n",
    "### said problem\n",
    "problemList.append(sr.SpeechRecognition(\"speech\"))\n",
    "\n",
    "# problemList.append(\"ถ้าคนเยอะก็ไม่อยากไปต่อคิว\")\n",
    "# problemList.append(\"ปัญหาอหกดฟหกดฟหดอ้ย\")\n",
    "# problemList.append(\"ปัญหาอหasfsadt4w5e sadfดอ้ย\")\n",
    "# problemList.append(\"ปัญหาอหกด79874 ดอ้ย\")\n",
    "# problemList.append(\"ไม่อยากกินอาหารที่ขายอยู่\")\n",
    "problemList.append(\"คิวเยอะ\")\n",
    "problemList.append(\"คิวเยอะมาก\")\n",
    "problemList.append(\"คิวยาว\")\n",
    "problemList.append(\"คิวยาวมาก\")\n",
    "\n",
    "# ปัญหาด้านกลิ่นด้าน\n",
    "\n",
    "### file wav V2\n",
    "### Step one : call SpeechRecognition(\"file\") \n",
    "### Step two : input path file [only type String]\n",
    "### Step tree :input second to recognitions [only type Integer]\n",
    "# /Users/fluke/Documents/RE/RE_Project/data/sound/02.wav\n",
    "problemList.append(sr.SpeechRecognition(\"file\"))\n",
    "\n",
    "# x = sr.problem_CSV(pd.read_csv(\"data/dataReV6987.csv\"), \"Problem\")"
   ]
  },
  {
   "cell_type": "markdown",
   "metadata": {},
   "source": [
    "### Weight score new problem in same cluster and wirte file csv"
   ]
  },
  {
   "cell_type": "code",
   "execution_count": null,
   "metadata": {
    "scrolled": true
   },
   "outputs": [],
   "source": [
    "data"
   ]
  },
  {
   "cell_type": "code",
   "execution_count": null,
   "metadata": {},
   "outputs": [],
   "source": [
    "data.loc[data[\"cluster\"]== 0]"
   ]
  },
  {
   "cell_type": "code",
   "execution_count": null,
   "metadata": {},
   "outputs": [],
   "source": [
    "data.loc[data[\"cluster\"]==  1]"
   ]
  },
  {
   "cell_type": "code",
   "execution_count": null,
   "metadata": {},
   "outputs": [],
   "source": [
    "data.loc[data[\"cluster\"]== 2]"
   ]
  },
  {
   "cell_type": "code",
   "execution_count": null,
   "metadata": {},
   "outputs": [],
   "source": [
    "data.loc[data[\"cluster\"]== 3]"
   ]
  },
  {
   "cell_type": "code",
   "execution_count": null,
   "metadata": {},
   "outputs": [],
   "source": [
    "data.loc[data[\"cluster\"]== 4]"
   ]
  },
  {
   "cell_type": "markdown",
   "metadata": {},
   "source": [
    "\n",
    "<hr size=\"3\" />\n",
    "\n",
    "<h1> Weigth The importance of the problem by similarity in same cluster problem</h1>\n",
    "\n",
    "### conditions 1\n",
    "* similarity > 0.7  in cluster |\n",
    "\n",
    "### conditions 2\n",
    "* similarity > 0.7  in nor cluster|\n",
    "\n",
    "### conditions 3\n",
    "* similarity < 0.7   write problem not match |"
   ]
  },
  {
   "cell_type": "markdown",
   "metadata": {},
   "source": [
    "### Tips use the  ks.Weightscore\n",
    "### ks.Weightscore(a, b, c, d, e,f)\n",
    "<label>a = Path want to save Problem matching in dataset</label><br>\n",
    "<label>b = List new problem</label><br>\n",
    "<label>c = dataset | it must has featue cluster</label><br>\n",
    "<label>d = model | after train in kindscore algorithm</label><br>\n",
    "<label>e = persen of samilarity</label><br>\n",
    "<label>f = Path want to savePath Problem not matching in dataset</label><br>"
   ]
  },
  {
   "cell_type": "code",
   "execution_count": null,
   "metadata": {
    "scrolled": false
   },
   "outputs": [],
   "source": [
    "dataset, cluster_newProblem = ks.Weightscore(\"data/dataCluster\",problemList,data,model,60,\"data/dataNotmatt\")"
   ]
  },
  {
   "cell_type": "code",
   "execution_count": null,
   "metadata": {},
   "outputs": [],
   "source": [
    "ks.pieplot(dataset)\n",
    "\n",
    "dataset"
   ]
  },
  {
   "cell_type": "code",
   "execution_count": null,
   "metadata": {
    "scrolled": false
   },
   "outputs": [],
   "source": [
    "ks.pieplot(cluster_newProblem)\n",
    "\n",
    "cluster_newProblem"
   ]
  }
 ],
 "metadata": {
  "kernelspec": {
   "display_name": "Python 3",
   "language": "python",
   "name": "python3"
  },
  "language_info": {
   "codemirror_mode": {
    "name": "ipython",
    "version": 3
   },
   "file_extension": ".py",
   "mimetype": "text/x-python",
   "name": "python",
   "nbconvert_exporter": "python",
   "pygments_lexer": "ipython3",
   "version": "3.7.5"
  }
 },
 "nbformat": 4,
 "nbformat_minor": 2
}
