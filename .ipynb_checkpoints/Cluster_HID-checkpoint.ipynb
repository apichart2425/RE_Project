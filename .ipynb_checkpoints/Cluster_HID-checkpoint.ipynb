{
 "cells": [
  {
   "cell_type": "code",
   "execution_count": 1,
   "metadata": {},
   "outputs": [],
   "source": [
    "# from pythainlp import word_tokenize\n",
    "# from sklearn.feature_extraction.text import TfidfVectorizer\n",
    "from sklearn.cluster import KMeans\n",
    "from sklearn.decomposition import PCA\n",
    "# from pythainlp.word_vector import thai2vec \n",
    "import numpy as np\n",
    "import pandas as pd\n",
    "%reload_ext autoreload\n",
    "%autoreload 2\n",
    "# %matplotlib inline\n",
    "\n",
    "from pythainlp.tokenize import word_tokenize,sent_tokenize\n",
    "from gensim.models import KeyedVectors\n",
    "from gensim.models import Word2Vec\n",
    "import numpy as np\n",
    "from sklearn.metrics.pairwise import cosine_similarity\n",
    "from sklearn.manifold import TSNE\n",
    "from sklearn.cluster import AgglomerativeClustering\n",
    "import matplotlib.pyplot as plt\n",
    "import matplotlib.font_manager as fm\n",
    "from scipy.cluster import hierarchy\n",
    "import dill as pickle\n",
    "import pandas as pd\n",
    "import pythainlp.word_vector\n",
    "# model = word_vector.get_model()\n",
    "model_path = 'thwiki_data/models/'"
   ]
  },
  {
   "cell_type": "code",
   "execution_count": 2,
   "metadata": {},
   "outputs": [],
   "source": [
    "df = pd.read_csv(\"dataRe.csv\")"
   ]
  },
  {
   "cell_type": "code",
   "execution_count": 3,
   "metadata": {
    "scrolled": true
   },
   "outputs": [
    {
     "data": {
      "text/html": [
       "<div>\n",
       "<style scoped>\n",
       "    .dataframe tbody tr th:only-of-type {\n",
       "        vertical-align: middle;\n",
       "    }\n",
       "\n",
       "    .dataframe tbody tr th {\n",
       "        vertical-align: top;\n",
       "    }\n",
       "\n",
       "    .dataframe thead th {\n",
       "        text-align: right;\n",
       "    }\n",
       "</style>\n",
       "<table border=\"1\" class=\"dataframe\">\n",
       "  <thead>\n",
       "    <tr style=\"text-align: right;\">\n",
       "      <th></th>\n",
       "      <th>Vehicle</th>\n",
       "      <th>restaurant</th>\n",
       "      <th>food delivery</th>\n",
       "      <th>Problem</th>\n",
       "      <th>work</th>\n",
       "      <th>เวลาในการรออาหาร</th>\n",
       "      <th>ราคาอาหาร</th>\n",
       "    </tr>\n",
       "  </thead>\n",
       "  <tbody>\n",
       "    <tr>\n",
       "      <th>0</th>\n",
       "      <td>เดิน</td>\n",
       "      <td>ก๋วยเตี๋ยว, อาหารตามสั่ง, ข้าวมันไก่, ข้าวราดแ...</td>\n",
       "      <td>Promotions</td>\n",
       "      <td>ยิ่งเยอะยิ่งไม่อยากไปต่อ</td>\n",
       "      <td>1 - 2 ชั่วโมง</td>\n",
       "      <td>10 นาทีขึ้นไป</td>\n",
       "      <td>51-100บาท</td>\n",
       "    </tr>\n",
       "    <tr>\n",
       "      <th>1</th>\n",
       "      <td>รถยนต์ส่วนตัว</td>\n",
       "      <td>ก๋วยเตี๋ยว, อาหารตามสั่ง, ข้าวมันไก่, ข้าวราดแ...</td>\n",
       "      <td>หิว ขี้เกียจเดิน จะทำงาน</td>\n",
       "      <td>กลัววัตถุดิบหมด</td>\n",
       "      <td>2 - 3 ชั่วโมง</td>\n",
       "      <td>6 - 10 นาที</td>\n",
       "      <td>51-100บาท</td>\n",
       "    </tr>\n",
       "    <tr>\n",
       "      <th>2</th>\n",
       "      <td>เดิน</td>\n",
       "      <td>ก๋วยเตี๋ยว, อาหารตามสั่ง, ข้าวราดแกง, ร้านน้ำ,...</td>\n",
       "      <td>เพราะร้านที่อยากกินอยู่ไกล บางทีก็อยู่ในเวลาเร...</td>\n",
       "      <td>ถ้าคิวยาวก็ไม่ซื้อ</td>\n",
       "      <td>1 - 2 ชั่วโมง</td>\n",
       "      <td>6 - 10 นาที</td>\n",
       "      <td>100-200 บาท</td>\n",
       "    </tr>\n",
       "    <tr>\n",
       "      <th>3</th>\n",
       "      <td>เดินดิ</td>\n",
       "      <td>ก๋วยเตี๋ยว, อาหารตามสั่ง, ข้าวราดแกง, ร้านน้ำ,...</td>\n",
       "      <td>ขี้เกียจเดินออกไปกินข้างนอก</td>\n",
       "      <td>ถ้าคนเยอะก็จะไปเลือกร้านอื่น</td>\n",
       "      <td>1 - 2 ชั่วโมง</td>\n",
       "      <td>6 - 10 นาที</td>\n",
       "      <td>300-500 บาท</td>\n",
       "    </tr>\n",
       "    <tr>\n",
       "      <th>4</th>\n",
       "      <td>รถประจำทาง</td>\n",
       "      <td>ก๋วยเตี๋ยว, อาหารตามสั่ง, ข้าวมันไก่, ข้าวราดแ...</td>\n",
       "      <td>อยากกินร้านนั้น</td>\n",
       "      <td>ผล ถ้าแถวยาวมากก็จะขี้เกียจรอ</td>\n",
       "      <td>1 - 2 ชั่วโมง</td>\n",
       "      <td>10 นาทีขึ้นไป</td>\n",
       "      <td>100-200 บาท</td>\n",
       "    </tr>\n",
       "    <tr>\n",
       "      <th>...</th>\n",
       "      <td>...</td>\n",
       "      <td>...</td>\n",
       "      <td>...</td>\n",
       "      <td>...</td>\n",
       "      <td>...</td>\n",
       "      <td>...</td>\n",
       "      <td>...</td>\n",
       "    </tr>\n",
       "    <tr>\n",
       "      <th>57</th>\n",
       "      <td>เดิน</td>\n",
       "      <td>NaN</td>\n",
       "      <td>NaN</td>\n",
       "      <td>NaN</td>\n",
       "      <td>NaN</td>\n",
       "      <td>NaN</td>\n",
       "      <td>NaN</td>\n",
       "    </tr>\n",
       "    <tr>\n",
       "      <th>58</th>\n",
       "      <td>รถจักรยานยนต์</td>\n",
       "      <td>NaN</td>\n",
       "      <td>NaN</td>\n",
       "      <td>NaN</td>\n",
       "      <td>NaN</td>\n",
       "      <td>NaN</td>\n",
       "      <td>NaN</td>\n",
       "    </tr>\n",
       "    <tr>\n",
       "      <th>59</th>\n",
       "      <td>เดิน</td>\n",
       "      <td>NaN</td>\n",
       "      <td>NaN</td>\n",
       "      <td>NaN</td>\n",
       "      <td>NaN</td>\n",
       "      <td>NaN</td>\n",
       "      <td>NaN</td>\n",
       "    </tr>\n",
       "    <tr>\n",
       "      <th>60</th>\n",
       "      <td>รถจักรยานยนต์</td>\n",
       "      <td>NaN</td>\n",
       "      <td>NaN</td>\n",
       "      <td>NaN</td>\n",
       "      <td>NaN</td>\n",
       "      <td>NaN</td>\n",
       "      <td>NaN</td>\n",
       "    </tr>\n",
       "    <tr>\n",
       "      <th>61</th>\n",
       "      <td>รถจักรยานยนต์</td>\n",
       "      <td>NaN</td>\n",
       "      <td>NaN</td>\n",
       "      <td>NaN</td>\n",
       "      <td>NaN</td>\n",
       "      <td>NaN</td>\n",
       "      <td>NaN</td>\n",
       "    </tr>\n",
       "  </tbody>\n",
       "</table>\n",
       "<p>62 rows × 7 columns</p>\n",
       "</div>"
      ],
      "text/plain": [
       "          Vehicle                                         restaurant  \\\n",
       "0            เดิน  ก๋วยเตี๋ยว, อาหารตามสั่ง, ข้าวมันไก่, ข้าวราดแ...   \n",
       "1   รถยนต์ส่วนตัว  ก๋วยเตี๋ยว, อาหารตามสั่ง, ข้าวมันไก่, ข้าวราดแ...   \n",
       "2            เดิน  ก๋วยเตี๋ยว, อาหารตามสั่ง, ข้าวราดแกง, ร้านน้ำ,...   \n",
       "3          เดินดิ  ก๋วยเตี๋ยว, อาหารตามสั่ง, ข้าวราดแกง, ร้านน้ำ,...   \n",
       "4      รถประจำทาง  ก๋วยเตี๋ยว, อาหารตามสั่ง, ข้าวมันไก่, ข้าวราดแ...   \n",
       "..            ...                                                ...   \n",
       "57           เดิน                                                NaN   \n",
       "58  รถจักรยานยนต์                                                NaN   \n",
       "59           เดิน                                                NaN   \n",
       "60  รถจักรยานยนต์                                                NaN   \n",
       "61  รถจักรยานยนต์                                                NaN   \n",
       "\n",
       "                                        food delivery  \\\n",
       "0                                          Promotions   \n",
       "1                            หิว ขี้เกียจเดิน จะทำงาน   \n",
       "2   เพราะร้านที่อยากกินอยู่ไกล บางทีก็อยู่ในเวลาเร...   \n",
       "3                         ขี้เกียจเดินออกไปกินข้างนอก   \n",
       "4                                     อยากกินร้านนั้น   \n",
       "..                                                ...   \n",
       "57                                                NaN   \n",
       "58                                                NaN   \n",
       "59                                                NaN   \n",
       "60                                                NaN   \n",
       "61                                                NaN   \n",
       "\n",
       "                          Problem           work เวลาในการรออาหาร    ราคาอาหาร  \n",
       "0        ยิ่งเยอะยิ่งไม่อยากไปต่อ  1 - 2 ชั่วโมง    10 นาทีขึ้นไป    51-100บาท  \n",
       "1                 กลัววัตถุดิบหมด  2 - 3 ชั่วโมง      6 - 10 นาที    51-100บาท  \n",
       "2              ถ้าคิวยาวก็ไม่ซื้อ  1 - 2 ชั่วโมง      6 - 10 นาที  100-200 บาท  \n",
       "3    ถ้าคนเยอะก็จะไปเลือกร้านอื่น  1 - 2 ชั่วโมง      6 - 10 นาที  300-500 บาท  \n",
       "4   ผล ถ้าแถวยาวมากก็จะขี้เกียจรอ  1 - 2 ชั่วโมง    10 นาทีขึ้นไป  100-200 บาท  \n",
       "..                            ...            ...              ...          ...  \n",
       "57                            NaN            NaN              NaN          NaN  \n",
       "58                            NaN            NaN              NaN          NaN  \n",
       "59                            NaN            NaN              NaN          NaN  \n",
       "60                            NaN            NaN              NaN          NaN  \n",
       "61                            NaN            NaN              NaN          NaN  \n",
       "\n",
       "[62 rows x 7 columns]"
      ]
     },
     "execution_count": 3,
     "metadata": {},
     "output_type": "execute_result"
    }
   ],
   "source": [
    "df"
   ]
  },
  {
   "cell_type": "code",
   "execution_count": 4,
   "metadata": {
    "scrolled": true
   },
   "outputs": [
    {
     "data": {
      "text/plain": [
       "0          ยิ่งเยอะยิ่งไม่อยากไปต่อ\n",
       "1                   กลัววัตถุดิบหมด\n",
       "2                ถ้าคิวยาวก็ไม่ซื้อ\n",
       "3      ถ้าคนเยอะก็จะไปเลือกร้านอื่น\n",
       "4     ผล ถ้าแถวยาวมากก็จะขี้เกียจรอ\n",
       "                  ...              \n",
       "57                              NaN\n",
       "58                              NaN\n",
       "59                              NaN\n",
       "60                              NaN\n",
       "61                              NaN\n",
       "Name: Problem, Length: 62, dtype: object"
      ]
     },
     "execution_count": 4,
     "metadata": {},
     "output_type": "execute_result"
    }
   ],
   "source": [
    "df['Problem']"
   ]
  },
  {
   "cell_type": "code",
   "execution_count": 27,
   "metadata": {},
   "outputs": [
    {
     "data": {
      "text/plain": [
       "0                              ยิ่งเยอะยิ่งไม่อยากไปต่อ\n",
       "1                                       กลัววัตถุดิบหมด\n",
       "2                                    ถ้าคิวยาวก็ไม่ซื้อ\n",
       "3                          ถ้าคนเยอะก็จะไปเลือกร้านอื่น\n",
       "4                         ผล ถ้าแถวยาวมากก็จะขี้เกียจรอ\n",
       "5                   ถ้าคนเยอะมากก็เปลี่ยนร้าน ไม่อยากรอ\n",
       "6     ถ้าคนเยอะเกินไปก็จะไม่ซื้อ เปลี่ยนร้านหรือไม่ก...\n",
       "7                                                แน่นอน\n",
       "8     ค่ะ เพราะ ขี้เกียจรอนานๆ แล้วรู้สึกว่ามันเสียเวลา\n",
       "9                       ถ้าคิวยาวเกินจะเลือกร้านอื่นแทน\n",
       "12                                   ถ้าคิวยาวก็ไม่ซื้อ\n",
       "13                                           ไม่กินข้าว\n",
       "14                                 ขับรถออกไปกินข้างนอก\n",
       "15                      ถ้าคิวยาวเกินจะเลือกร้านอื่นแทน\n",
       "16                                      กลัววัตถุดิบหมด\n",
       "17                                      กินอาหารน้อยลง \n",
       "18                  บ่นลงทวิตเตอร์ แล้วก็นั่งกินข้าวต่อ\n",
       "19                                      กินอาหารน้อยลง \n",
       "20                                     ไปกินร้านข้างนอก\n",
       "21                                        ไปกินบุฟเฟ่ต์\n",
       "22                                           กินขนมเเทน\n",
       "23                                                 สั่ง\n",
       "24                                          กินมาม่าแทน\n",
       "25              กินไปก่อนแล้วค่อยไปหากินที่อื่นตอนเย็นๆ\n",
       "26                                               คนเยอะ\n",
       "27                                          ควันเยอะทาก\n",
       "28    คณะอื่นเยอะมาก อาหารซ้ำซาก บางทีอยากกินแถวซอยห...\n",
       "29               ควันเยอะ, ร้อน, แมลงวัน ไม่ค่อยน่านั่ง\n",
       "30                                         คนเยอะ ขก.รอ\n",
       "32                                                 ควัน\n",
       "33                  คนเยอะ เบื่ออาหารในคณะ วุ่นวาย ร้อน\n",
       "35                                   คณะไอที  ตึกพระเทพ\n",
       "36                  ร้านอาหารจำนวนมากพอรับจำนวนนักศึกษา\n",
       "37                                             รอคิวนาน\n",
       "38    ต่อคิวนาน คนเยอะมาก เนื่องจากหลายคณะมากินโรงอา...\n",
       "39                             ควันที่ร้านข้าวตามสั่งทำ\n",
       "Name: Problem, dtype: object"
      ]
     },
     "execution_count": 27,
     "metadata": {},
     "output_type": "execute_result"
    }
   ],
   "source": [
    "# .replace('มี',np.nan).dropna().values\n",
    "text = df['Problem'].dropna()\n",
    "text"
   ]
  },
  {
   "cell_type": "code",
   "execution_count": 28,
   "metadata": {},
   "outputs": [],
   "source": [
    "sentences = []\n",
    "for x in text:\n",
    "    if(x != np.nan):\n",
    "        proc = word_tokenize(x, engine='newmm')\n",
    "        sentences.append(proc)"
   ]
  },
  {
   "cell_type": "code",
   "execution_count": 29,
   "metadata": {},
   "outputs": [],
   "source": [
    "model = pythainlp.word_vector.get_model()"
   ]
  },
  {
   "cell_type": "code",
   "execution_count": 30,
   "metadata": {},
   "outputs": [
    {
     "name": "stdout",
     "output_type": "stream",
     "text": [
      "[[-0.13257337 -0.10003663  0.22001212 ...  0.03687051 -0.08657537\n",
      "  -0.5159585 ]\n",
      " [ 0.032833   -0.07410467  0.14685299 ...  0.09231667  0.04948\n",
      "  -0.056955  ]\n",
      " [-0.02242983 -0.08485817  0.07547517 ...  0.18557817 -0.09975701\n",
      "  -0.37882982]\n",
      " ...\n",
      " [ 0.18902167  0.143431    0.13327533 ...  0.45422233  0.00792366\n",
      "  -0.19512   ]\n",
      " [-0.06044347 -0.0576194   0.11016877 ...  0.1539754  -0.14308493\n",
      "  -0.05068883]\n",
      " [ 0.00096183 -0.07280583 -0.00330916 ...  0.01236083 -0.15324133\n",
      "   0.065322  ]]\n"
     ]
    },
    {
     "name": "stderr",
     "output_type": "stream",
     "text": [
      "/usr/local/lib/python3.7/site-packages/ipykernel_launcher.py:5: DeprecationWarning: Call to deprecated `wv` (Attribute will be removed in 4.0.0, use self instead).\n",
      "  \"\"\"\n",
      "/usr/local/lib/python3.7/site-packages/ipykernel_launcher.py:6: DeprecationWarning: Call to deprecated `wv` (Attribute will be removed in 4.0.0, use self instead).\n",
      "  \n"
     ]
    }
   ],
   "source": [
    "def sentence_vectorizer(ss,dim=300,use_mean=True): # ประกาศฟังก์ชัน sentence_vectorizer\n",
    "    s = word_tokenize(ss)\n",
    "    vec = np.zeros((1,dim))\n",
    "    for word in s:\n",
    "        if word in model.wv.index2word: \n",
    "            vec+= model.wv.word_vec(word)\n",
    "        else: pass\n",
    "    if use_mean: vec /= len(s)\n",
    "    return vec\n",
    "\n",
    "l = []\n",
    "c = 0\n",
    "for i in text:\n",
    "    l.append(sentence_vectorizer(i)[0])\n",
    "#     if(c==0):\n",
    "#         print(sentence_vectorizer(i)[0])\n",
    "#     c+=1\n",
    "X=np.array(l)\n",
    "print(X)"
   ]
  },
  {
   "cell_type": "code",
   "execution_count": 31,
   "metadata": {},
   "outputs": [
    {
     "data": {
      "image/png": "[encoded data removed]",
      "text/plain": [
       "<Figure size 432x288 with 1 Axes>"
      ]
     },
     "metadata": {
      "needs_background": "light"
     },
     "output_type": "display_data"
    }
   ],
   "source": [
    "import matplotlib.pyplot as plt\n",
    "wcss = []\n",
    "for i in range(1,11):\n",
    "    kmeans = KMeans(n_clusters = i, init = 'k-means++', random_state = 42)\n",
    "    kmeans.fit(X)\n",
    "    wcss.append(kmeans.inertia_)\n",
    "plt.plot(range(1,11), wcss)\n",
    "plt.title('Elbow')\n",
    "plt.xlabel('Num')\n",
    "plt.ylabel('WCSS')\n",
    "plt.show()"
   ]
  },
  {
   "cell_type": "code",
   "execution_count": 32,
   "metadata": {},
   "outputs": [
    {
     "name": "stdout",
     "output_type": "stream",
     "text": [
      "[2 2 0 0 0 0 0 2 2 0 0 2 4 0 2 2 2 2 4 4 2 3 4 4 1 2 2 2 1 2 2 2 2 1 2 2]\n",
      "2:[' ', 'ยิ่ง', 'เยอะ', 'ยิ่ง', 'ไม่', 'อยาก', 'ไป', 'ต่อ']\n",
      "2:['กลัว', 'วัตถุดิบ', 'หมด']\n",
      "0:['ถ้า', 'คิว', 'ยาว', 'ก็', 'ไม่', 'ซื้อ']\n",
      "0:['ถ้า', 'คน', 'เยอะ', 'ก็', 'จะ', 'ไป', 'เลือก', 'ร้าน', 'อื่น']\n",
      "0:['ผล', ' ', 'ถ้า', 'แถว', 'ยาว', 'มาก', 'ก็', 'จะ', 'ขี้เกียจ', 'รอ']\n",
      "0:[' ', 'ถ้า', 'คน', 'เยอะ', 'มาก', 'ก็', 'เปลี่ยน', 'ร้าน', ' ', 'ไม่', 'อยาก', 'รอ']\n",
      "0:['ถ้า', 'คน', 'เยอะ', 'เกินไป', 'ก็', 'จะ', 'ไม่', 'ซื้อ', ' ', 'เปลี่ยน', 'ร้าน', 'หรือไม่', 'กิน', 'เลย']\n",
      "2:['แน่นอน']\n",
      "2:['ค่ะ', ' ', 'เพราะ', ' ', 'ขี้เกียจ', 'รอ', 'นานๆ', ' ', 'แล้ว', 'รู้สึก', 'ว่า', 'มัน', 'เสียเวลา']\n",
      "0:[' ', 'ถ้า', 'คิว', 'ยาว', 'เกิน', 'จะ', 'เลือก', 'ร้าน', 'อื่น', 'แทน']\n",
      "0:['ถ้า', 'คิว', 'ยาว', 'ก็', 'ไม่', 'ซื้อ']\n",
      "2:['ไม่', 'กินข้าว']\n",
      "4:['ขับรถ', 'ออก', 'ไป', 'กิน', 'ข้างนอก']\n",
      "0:[' ', 'ถ้า', 'คิว', 'ยาว', 'เกิน', 'จะ', 'เลือก', 'ร้าน', 'อื่น', 'แทน']\n",
      "2:['กลัว', 'วัตถุดิบ', 'หมด']\n",
      "2:['กิน', 'อาหาร', 'น้อยลง', ' ']\n",
      "2:['บ่น', 'ลง', 'ทวิตเตอร์', ' ', 'แล้วก็', 'นั่ง', 'กินข้าว', 'ต่อ']\n",
      "2:['กิน', 'อาหาร', 'น้อยลง', ' ']\n",
      "4:['ไป', 'กิน', 'ร้าน', 'ข้างนอก']\n",
      "4:['ไป', 'กิน', 'บุฟเฟ่ต์']\n",
      "2:['กิน', 'ขนม', 'เ', 'เท', 'น']\n",
      "3:['สั่ง']\n",
      "4:['กิน', 'มาม่า', 'แทน']\n",
      "4:['กิน', 'ไป', 'ก่อน', 'แล้ว', 'ค่อย', 'ไป', 'หากิน', 'ที่อื่น', 'ตอนเย็น', 'ๆ']\n",
      "1:['คน', 'เยอะ']\n",
      "2:['ควัน', 'เยอะ', 'ทาก']\n",
      "2:['คณะ', 'อื่น', 'เยอะ', 'มาก', ' ', 'อาหาร', 'ซ้ำซาก', ' ', 'บางที', 'อยาก', 'กินแถว', 'ซอย', 'หอ', ' ', 'แต่', 'เวลา', 'ก็', 'ไม่ค่อย', 'พอ', ' ', 'เลย', 'ต้อง', 'กินใน', 'คณะ', 'ไป', 'ก่อน', ' ', 'โรงอาหาร', 'ร้อน', 'มาก', ' ', 'และ', 'อบ', 'มาก', ' ']\n",
      "2:['ควัน', 'เยอะ', ',', ' ', 'ร้อน', ',', ' ', 'แมลงวัน', ' ', 'ไม่ค่อย', 'น่า', 'นั่ง']\n",
      "1:['คน', 'เยอะ', ' ', 'ข', 'ก.', 'รอ']\n",
      "2:['ควัน']\n",
      "2:['คน', 'เยอะ', ' ', 'เบื่ออาหาร', 'ใน', 'คณะ', ' ', 'วุ่นวาย', ' ', 'ร้อน']\n",
      "2:['คณะ', 'ไอที', '  ', 'ตึก', 'พระ', 'เทพ']\n",
      "2:['ร้านอาหาร', 'จำนวนมาก', 'พอ', 'รับ', 'จำนวน', 'นักศึกษา']\n",
      "1:['รอ', 'คิว', 'นาน']\n",
      "2:['ต่อ', 'คิว', 'นาน', ' ', 'คน', 'เยอะ', 'มาก', ' ', 'เนื่องจาก', 'หลาย', 'คณะ', 'มา', 'กิน', 'โรงอาหาร', 'เดียว', 'กับ', 'เรา', ' ', 'ทำให้', 'บาง', 'ร้าน', 'ต้อง', 'รอ', 'คิว', 'นาน', ' ', 'และ', 'อาหาร', 'ไม่ค่อย', 'หลากหลาย']\n",
      "2:['ควัน', 'ที่', 'ร้าน', 'ข้าว', 'ตาม', 'สั่งทำ']\n"
     ]
    }
   ],
   "source": [
    "n_clusters = 5\n",
    "clf = KMeans(n_clusters=n_clusters,\n",
    "            max_iter=100,\n",
    "            init='k-means++',\n",
    "            n_init=1)\n",
    "labels = clf.fit_predict(X)\n",
    "print(labels)\n",
    "for index, sentence in enumerate(sentences):\n",
    "    print(str(labels[index]) + \":\" + str(sentence))"
   ]
  },
  {
   "cell_type": "code",
   "execution_count": 33,
   "metadata": {},
   "outputs": [
    {
     "data": {
      "text/plain": [
       "array([2, 2, 0, 0, 0, 0, 0, 2, 2, 0, 0, 2, 4, 0, 2, 2, 2, 2, 4, 4, 2, 3,\n",
       "       4, 4, 1, 2, 2, 2, 1, 2, 2, 2, 2, 1, 2, 2], dtype=int32)"
      ]
     },
     "execution_count": 33,
     "metadata": {},
     "output_type": "execute_result"
    }
   ],
   "source": [
    "labels"
   ]
  },
  {
   "cell_type": "code",
   "execution_count": 34,
   "metadata": {},
   "outputs": [
    {
     "data": {
      "image/png": "[encoded data removed]",
      "text/plain": [
       "<Figure size 432x288 with 1 Axes>"
      ]
     },
     "metadata": {
      "needs_background": "light"
     },
     "output_type": "display_data"
    }
   ],
   "source": [
    "pca  = PCA(n_components=2).fit(X)\n",
    "coords = pca.transform(X)\n",
    "label_colors = [\"#54FF9F\", \"#7D26CD\", \"#794044\", \"#F4E628\",\"#54a1ff\",\"#22d6c4\",\"#22d6c4\",\"#d65522\",\"#cf1351\"]\n",
    "colors = [label_colors[i] for i in labels]\n",
    "plt.scatter(coords[:, 0], coords[:, 1], c=colors)\n",
    "centroids = clf.cluster_centers_\n",
    "centroid_coords = pca.transform(centroids)\n",
    "plt.scatter(centroid_coords[:, 0], centroid_coords[:, 1], marker='X', s=200, linewidths=2, c='#444d61')\n",
    "plt.show()"
   ]
  },
  {
   "cell_type": "code",
   "execution_count": 35,
   "metadata": {},
   "outputs": [
    {
     "data": {
      "image/png": "[encoded data removed]",
      "text/plain": [
       "<Figure size 432x288 with 1 Axes>"
      ]
     },
     "metadata": {
      "needs_background": "light"
     },
     "output_type": "display_data"
    }
   ],
   "source": [
    "Z = hierarchy.linkage(X, 'ward')\n",
    "dn = hierarchy.dendrogram(Z)\n",
    "plt.title('Dendogram')\n",
    "plt.ylabel('Euclodean')\n",
    "plt.xlim(0,100)\n",
    "plt.ylim(0,0.5)\n",
    "plt.show()"
   ]
  },
  {
   "cell_type": "code",
   "execution_count": 36,
   "metadata": {},
   "outputs": [
    {
     "name": "stdout",
     "output_type": "stream",
     "text": [
      "[0 0 3 3 3 3 3 4 0 3 3 3 1 3 0 1 0 1 1 1 1 2 1 1 0 0 0 0 0 0 0 0 0 0 0 0]\n",
      "0:[' ', 'ยิ่ง', 'เยอะ', 'ยิ่ง', 'ไม่', 'อยาก', 'ไป', 'ต่อ']\n",
      "0:['กลัว', 'วัตถุดิบ', 'หมด']\n",
      "3:['ถ้า', 'คิว', 'ยาว', 'ก็', 'ไม่', 'ซื้อ']\n",
      "3:['ถ้า', 'คน', 'เยอะ', 'ก็', 'จะ', 'ไป', 'เลือก', 'ร้าน', 'อื่น']\n",
      "3:['ผล', ' ', 'ถ้า', 'แถว', 'ยาว', 'มาก', 'ก็', 'จะ', 'ขี้เกียจ', 'รอ']\n",
      "3:[' ', 'ถ้า', 'คน', 'เยอะ', 'มาก', 'ก็', 'เปลี่ยน', 'ร้าน', ' ', 'ไม่', 'อยาก', 'รอ']\n",
      "3:['ถ้า', 'คน', 'เยอะ', 'เกินไป', 'ก็', 'จะ', 'ไม่', 'ซื้อ', ' ', 'เปลี่ยน', 'ร้าน', 'หรือไม่', 'กิน', 'เลย']\n",
      "4:['แน่นอน']\n",
      "0:['ค่ะ', ' ', 'เพราะ', ' ', 'ขี้เกียจ', 'รอ', 'นานๆ', ' ', 'แล้ว', 'รู้สึก', 'ว่า', 'มัน', 'เสียเวลา']\n",
      "3:[' ', 'ถ้า', 'คิว', 'ยาว', 'เกิน', 'จะ', 'เลือก', 'ร้าน', 'อื่น', 'แทน']\n",
      "3:['ถ้า', 'คิว', 'ยาว', 'ก็', 'ไม่', 'ซื้อ']\n",
      "3:['ไม่', 'กินข้าว']\n",
      "1:['ขับรถ', 'ออก', 'ไป', 'กิน', 'ข้างนอก']\n",
      "3:[' ', 'ถ้า', 'คิว', 'ยาว', 'เกิน', 'จะ', 'เลือก', 'ร้าน', 'อื่น', 'แทน']\n",
      "0:['กลัว', 'วัตถุดิบ', 'หมด']\n",
      "1:['กิน', 'อาหาร', 'น้อยลง', ' ']\n",
      "0:['บ่น', 'ลง', 'ทวิตเตอร์', ' ', 'แล้วก็', 'นั่ง', 'กินข้าว', 'ต่อ']\n",
      "1:['กิน', 'อาหาร', 'น้อยลง', ' ']\n",
      "1:['ไป', 'กิน', 'ร้าน', 'ข้างนอก']\n",
      "1:['ไป', 'กิน', 'บุฟเฟ่ต์']\n",
      "1:['กิน', 'ขนม', 'เ', 'เท', 'น']\n",
      "2:['สั่ง']\n",
      "1:['กิน', 'มาม่า', 'แทน']\n",
      "1:['กิน', 'ไป', 'ก่อน', 'แล้ว', 'ค่อย', 'ไป', 'หากิน', 'ที่อื่น', 'ตอนเย็น', 'ๆ']\n",
      "0:['คน', 'เยอะ']\n",
      "0:['ควัน', 'เยอะ', 'ทาก']\n",
      "0:['คณะ', 'อื่น', 'เยอะ', 'มาก', ' ', 'อาหาร', 'ซ้ำซาก', ' ', 'บางที', 'อยาก', 'กินแถว', 'ซอย', 'หอ', ' ', 'แต่', 'เวลา', 'ก็', 'ไม่ค่อย', 'พอ', ' ', 'เลย', 'ต้อง', 'กินใน', 'คณะ', 'ไป', 'ก่อน', ' ', 'โรงอาหาร', 'ร้อน', 'มาก', ' ', 'และ', 'อบ', 'มาก', ' ']\n",
      "0:['ควัน', 'เยอะ', ',', ' ', 'ร้อน', ',', ' ', 'แมลงวัน', ' ', 'ไม่ค่อย', 'น่า', 'นั่ง']\n",
      "0:['คน', 'เยอะ', ' ', 'ข', 'ก.', 'รอ']\n",
      "0:['ควัน']\n",
      "0:['คน', 'เยอะ', ' ', 'เบื่ออาหาร', 'ใน', 'คณะ', ' ', 'วุ่นวาย', ' ', 'ร้อน']\n",
      "0:['คณะ', 'ไอที', '  ', 'ตึก', 'พระ', 'เทพ']\n",
      "0:['ร้านอาหาร', 'จำนวนมาก', 'พอ', 'รับ', 'จำนวน', 'นักศึกษา']\n",
      "0:['รอ', 'คิว', 'นาน']\n",
      "0:['ต่อ', 'คิว', 'นาน', ' ', 'คน', 'เยอะ', 'มาก', ' ', 'เนื่องจาก', 'หลาย', 'คณะ', 'มา', 'กิน', 'โรงอาหาร', 'เดียว', 'กับ', 'เรา', ' ', 'ทำให้', 'บาง', 'ร้าน', 'ต้อง', 'รอ', 'คิว', 'นาน', ' ', 'และ', 'อาหาร', 'ไม่ค่อย', 'หลากหลาย']\n",
      "0:['ควัน', 'ที่', 'ร้าน', 'ข้าว', 'ตาม', 'สั่งทำ']\n"
     ]
    }
   ],
   "source": [
    "hc = AgglomerativeClustering(n_clusters=5,\n",
    "                             affinity='euclidean',\n",
    "                            linkage='ward')\n",
    "y_hc= hc.fit_predict(X)\n",
    "print(y_hc)\n",
    "for index, sentence in enumerate(sentences):\n",
    "    print(str(y_hc[index]) + \":\" + str(sentence))"
   ]
  },
  {
   "cell_type": "code",
   "execution_count": 37,
   "metadata": {},
   "outputs": [
    {
     "name": "stderr",
     "output_type": "stream",
     "text": [
      "/usr/local/lib/python3.7/site-packages/ipykernel_launcher.py:5: DeprecationWarning: Call to deprecated `wv` (Attribute will be removed in 4.0.0, use self instead).\n",
      "  \"\"\"\n",
      "/usr/local/lib/python3.7/site-packages/ipykernel_launcher.py:6: DeprecationWarning: Call to deprecated `wv` (Attribute will be removed in 4.0.0, use self instead).\n",
      "  \n"
     ]
    },
    {
     "data": {
      "text/plain": [
       "array([2], dtype=int32)"
      ]
     },
     "execution_count": 37,
     "metadata": {},
     "output_type": "execute_result"
    }
   ],
   "source": [
    "l = []\n",
    "c = 0\n",
    "# for i in text:\n",
    "l.append(sentence_vectorizer(\"คิวเยอะ รอไม่ไหว\")[0])\n",
    "#     if(c==0):\n",
    "#         print(sentence_vectorizer(i)[0])\n",
    "#     c+=1\n",
    "KL=np.array(l)\n",
    "clf.predict(KL)"
   ]
  },
  {
   "cell_type": "code",
   "execution_count": 38,
   "metadata": {},
   "outputs": [
    {
     "name": "stderr",
     "output_type": "stream",
     "text": [
      "/usr/local/lib/python3.7/site-packages/ipykernel_launcher.py:5: DeprecationWarning: Call to deprecated `wv` (Attribute will be removed in 4.0.0, use self instead).\n",
      "  \"\"\"\n",
      "/usr/local/lib/python3.7/site-packages/ipykernel_launcher.py:6: DeprecationWarning: Call to deprecated `wv` (Attribute will be removed in 4.0.0, use self instead).\n",
      "  \n"
     ]
    },
    {
     "data": {
      "text/plain": [
       "array([[0.03353456]])"
      ]
     },
     "execution_count": 38,
     "metadata": {},
     "output_type": "execute_result"
    }
   ],
   "source": [
    "def sentence_similarity(s1,s2):\n",
    "    return cosine_similarity(sentence_vectorizer(str(s1)),sentence_vectorizer(str(s2)))\n",
    "sentence_similarity(\"รอคิวนาน\", \"ควัน\")"
   ]
  },
  {
   "cell_type": "code",
   "execution_count": null,
   "metadata": {},
   "outputs": [],
   "source": []
  },
  {
   "cell_type": "code",
   "execution_count": null,
   "metadata": {},
   "outputs": [],
   "source": []
  },
  {
   "cell_type": "code",
   "execution_count": null,
   "metadata": {},
   "outputs": [],
   "source": []
  }
 ],
 "metadata": {
  "kernelspec": {
   "display_name": "Python 3",
   "language": "python",
   "name": "python3"
  },
  "language_info": {
   "codemirror_mode": {
    "name": "ipython",
    "version": 3
   },
   "file_extension": ".py",
   "mimetype": "text/x-python",
   "name": "python",
   "nbconvert_exporter": "python",
   "pygments_lexer": "ipython3",
   "version": "3.7.4"
  }
 },
 "nbformat": 4,
 "nbformat_minor": 2
}
