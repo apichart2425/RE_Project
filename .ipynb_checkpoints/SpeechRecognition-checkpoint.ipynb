{
 "cells": [
  {
   "cell_type": "code",
   "execution_count": 1,
   "metadata": {},
   "outputs": [],
   "source": [
    "import speech_recognition as sr"
   ]
  },
  {
   "cell_type": "code",
   "execution_count": 2,
   "metadata": {},
   "outputs": [
    {
     "name": "stdout",
     "output_type": "stream",
     "text": [
      "Set minimum energy threshold to 50.39655163122542\n"
     ]
    }
   ],
   "source": [
    "# Record Audio\n",
    "r = sr.Recognizer()\n",
    "m = sr.Microphone()\n",
    "#set threhold level\n",
    "with m as source: r.adjust_for_ambient_noise(source)\n",
    "print(\"Set minimum energy threshold to {}\".format(r.energy_threshold))\n",
    "\n",
    "# Speech recognition using Google Speech Recognition\n",
    "def SpeechRecognition():\n",
    "#     file_wav\n",
    "#     sr.Microphone()  sr.WavFile(file_wav)\n",
    "#     with sr.WavFile(\"C:/Users/Pack.Apichart/Desktop/re/t1.wav\")\n",
    "    print(\"Wake UP!! : said something\")\n",
    "    with  sr.Microphone()  as source:\n",
    "        audio = r.listen(source)\n",
    "    try:\n",
    "    # for testing purposes, we're just using the default API key\n",
    "    # to use another API key, use `r.recognize_google(audio, key=\"GOOGLE_SPEECH_RECOGNITION_API_KEY\")`\n",
    "    # instead of `r.recognize_google(audio)`\n",
    "\n",
    "# \"en-US\"\n",
    "# \"th-TH\"\n",
    "        print(\"You said: \" + r.recognize_google(audio,language = \"th-TH\"))\n",
    "        return r.recognize_google(audio,language = \"th-TH\")\n",
    "    except sr.UnknownValueError:\n",
    "        print(\"Google Speech Recognition could not understand audio\")\n",
    "        return \"stop now\"\n",
    "    except sr.RequestError as e:\n",
    "        print(\"Could not request results from Google Speech Recognition service; {0}\".format(e))\n",
    "        return \"Could not request results from Google Speech Recognition service\"\n",
    "\n",
    "def FileRecognition(file_wav,duration):\n",
    "    print(\"Processing !!\")\n",
    "    with sr.WavFile(file_wav) as source:\n",
    "        audio = r.listen(source,duration)\n",
    "    try:\n",
    "    # for testing purposes, we're just using the default API key\n",
    "    # to use another API key, use `r.recognize_google(audio, key=\"GOOGLE_SPEECH_RECOGNITION_API_KEY\")`\n",
    "    # instead of `r.recognize_google(audio)`\n",
    "\n",
    "# \"en-US\"\n",
    "# \"th-TH\"\n",
    "        print(\"You said: \" + r.recognize_google(audio,language = \"th-TH\"))\n",
    "        return r.recognize_google(audio,language = \"th-TH\")\n",
    "#         return (r.recognize_google(audio))\n",
    "    except sr.UnknownValueError:\n",
    "        print(\"Google Speech Recognition could not understand audio\")\n",
    "        return \"stop now\"\n",
    "    except sr.RequestError as e:\n",
    "        print(\"Could not request results from Google Speech Recognition service; {0}\".format(e))\n",
    "        return \"Could not request results from Google Speech Recognition service\"\n"
   ]
  }
 ],
 "metadata": {
  "kernelspec": {
   "display_name": "Python 3",
   "language": "python",
   "name": "python3"
  },
  "language_info": {
   "codemirror_mode": {
    "name": "ipython",
    "version": 3
   },
   "file_extension": ".py",
   "mimetype": "text/x-python",
   "name": "python",
   "nbconvert_exporter": "python",
   "pygments_lexer": "ipython3",
   "version": "3.6.8"
  }
 },
 "nbformat": 4,
 "nbformat_minor": 2
}
