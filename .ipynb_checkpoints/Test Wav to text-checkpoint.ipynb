{
 "cells": [
  {
   "cell_type": "code",
   "execution_count": 1,
   "metadata": {},
   "outputs": [],
   "source": [
    "import speech_recognition as sr\n",
    "# Record Audio\n",
    "r = sr.Recognizer()\n",
    "m = sr.Microphone()"
   ]
  },
  {
   "cell_type": "code",
   "execution_count": 20,
   "metadata": {},
   "outputs": [
    {
     "name": "stdout",
     "output_type": "stream",
     "text": [
      "Set minimum energy threshold to 8884.32011378786\n"
     ]
    }
   ],
   "source": [
    "#set threhold level\n",
    "with m as source: r.adjust_for_ambient_noise(source)\n",
    "print(\"Set minimum energy threshold to {}\".format(r.energy_threshold))\n",
    "\n",
    "# Speech recognition using Google Speech Recognition\n",
    "def checkspeech(r,file_wav,duration):\n",
    "#     sr.Microphone() \n",
    "#     sr.WavFile(file_wav)\n",
    "\n",
    "#     with sr.WavFile(\"C:/Users/Pack.Apichart/Desktop/Re_project/Cluster_speech_two/sound/01.wav\") as source\n",
    "    print(\"Wake UP!!\")\n",
    "#     with  sr.Recognizer()  as source:\n",
    "    with sr.WavFile(file_wav) as source:\n",
    "        audio = r.listen(source,duration)\n",
    "    try:\n",
    "    # for testing purposes, we're just using the default API key\n",
    "    # to use another API key, use `r.recognize_google(audio, key=\"GOOGLE_SPEECH_RECOGNITION_API_KEY\")`\n",
    "    # instead of `r.recognize_google(audio)`\n",
    "\n",
    "# \"en-US\"\n",
    "# \"th-TH\"\n",
    "        print(\"You said: \" + r.recognize_google(audio,language = \"th-TH\"))\n",
    "        return r.recognize_google(audio,language = \"th-TH\")\n",
    "#         return (r.recognize_google(audio))\n",
    "    except sr.UnknownValueError:\n",
    "        print(\"Google Speech Recognition could not understand audio\")\n",
    "        return \"stop now\"\n",
    "    except sr.RequestError as e:\n",
    "        print(\"Could not request results from Google Speech Recognition service; {0}\".format(e))\n",
    "        return \"Could not request results from Google Speech Recognition service\"\n",
    "\n"
   ]
  },
  {
   "cell_type": "code",
   "execution_count": 37,
   "metadata": {},
   "outputs": [],
   "source": [
    "problemList =  []\n",
    "problemList2 =  []\n",
    "problemList3 =  []\n",
    "problemList10sec =  []\n"
   ]
  },
  {
   "cell_type": "code",
   "execution_count": 38,
   "metadata": {},
   "outputs": [
    {
     "name": "stdout",
     "output_type": "stream",
     "text": [
      "Wake UP!!\n",
      "You said: มันก็แบบที่หน้าโรงอาหารก็อย่าว่ากันรอคิวนี้มันมีหลายคิวแล้วก็ใช้เวลาในการทำนาถ้าเราสั่งล่วงหน้าตามันก็จะง่ายนี้ราคามันก็ไม่รับพร้อมเพย์เงินกู้มีตู้เดียว\n",
      "Wake UP!!\n",
      "You said: ปัญหาจากโรงอาหารคณะไอทีน้าก็อย่างที่เธอก็คือว่าแบบบางร้านอาหารนะเพราะผัดอาหารก็จะมีควันออกมาซึ่งนี่เป็นคนไม่ค่อยชอบฟันกินอาหารเพราะมันจะติดตัวแบบนี้แล้วก็บางทีอ่ะเพราะโรงอาหารคนเยอะช่วงเที่ยงตรงกลางมันร้อนแดดมันส่องอื่นก็ร้อนก็นั่งไม่ได้แล้วอาหารบางทีสมมุติถ้าเลิกช้าๆก็ไม่มีข้าวกินแล้วก็ต้องไปกินข้าวที่โรงอาหารอื่นประมาณนี้\n",
      "Wake UP!!\n",
      "You said: โรงอาหารน่ะตั้งแต่ปี 1 เริ่มรับนักศึกษาเยอะขึ้นน่ะก็เริ่มไม่มีที่นั่งแล้วก็ร้านอาหารแต่ละร้านคิวยาวมากทำให้บอกว่าถ้าสั่งอาหารก็ต้องรอนานมากส่วนมากก็จะแก้ปัญหาโดยการไปกินช่วงเวลาหรือไม่ก็ถ้าจำเป็นจริงก็ไปกินที่อื่น\n",
      "Wake UP!!\n",
      "You said: ปัญหาด้านกลิ่นด้านการทำอาหารอาบน้ำทำส่วนมากอย่างนี้ที่นั่งไม่เพียงพอมีจองด้วยอะไรเยอะแยะวุ่นวาย\n"
     ]
    }
   ],
   "source": [
    "# C:/Users/Pack.Apichart/Desktop/Re_project/Cluster_speech_two/sound/\n",
    "problemList10sec.append(checkspeech(r, \"C:/Users/Pack.Apichart/Desktop/Re_project/Cluster_speech_two/sound/01.wav\",10))\n",
    "problemList10sec.append(checkspeech(r, \"C:/Users/Pack.Apichart/Desktop/Re_project/Cluster_speech_two/sound/02.wav\",10))\n",
    "problemList10sec.append(checkspeech(r, \"C:/Users/Pack.Apichart/Desktop/Re_project/Cluster_speech_two/sound/03.wav\",10))\n",
    "problemList10sec.append(checkspeech(r, \"C:/Users/Pack.Apichart/Desktop/Re_project/Cluster_speech_two/sound/04.wav\",10))\n"
   ]
  },
  {
   "cell_type": "code",
   "execution_count": 28,
   "metadata": {},
   "outputs": [
    {
     "data": {
      "text/plain": [
       "['มันก็แบบที่หน้าโรงอาหารก็อย่าว่ากันรอคิวนี้มันมีหลายคิวแล้วก็ใช้เวลาในการทำนาถ้าเราสั่งล่วงหน้าตามันก็จะง่ายนี้ราคามันก็ไม่รับพร้อมเพย์เงินกู้มีตู้เดียว',\n",
       " 'ปัญหาจากโรงอาหารคณะไอทีน้าก็อย่างที่เธอก็คือว่าแบบบางร้านอาหารนะเพราะผัดอาหารก็จะมีควันออกมาซึ่งนี่เป็นคนไม่ค่อยชอบฟันกินอาหารเพราะมันจะติดตัวแบบนี้แล้วก็บางทีอ่ะเพราะโรงอาหารคนเยอะช่วงเที่ยงตรงกลางมันร้อนแดดมันส่องอื่นก็ร้อนก็นั่งไม่ได้แล้วอาหารบางทีสมมุติถ้าเลิกช้าๆก็ไม่มีข้าวกินแล้วก็ต้องไปกินข้าวที่โรงอาหารอื่นประมาณนี้',\n",
       " 'โรงอาหารน่ะตั้งแต่ปี 1 เริ่มรับนักศึกษาเยอะขึ้นน่ะก็เริ่มไม่มีที่นั่งแล้วก็ร้านอาหารแต่ละร้านคิวยาวมากทำให้บอกว่าถ้าสั่งอาหารก็ต้องรอนานมากส่วนมากก็จะแก้ปัญหาโดยการไปกินช่วงเวลาหรือไม่ก็ถ้าจำเป็นจริงก็ไปกินที่อื่น',\n",
       " 'ปัญหาด้านกลิ่นด้านการทำอาหารอาบน้ำทำส่วนมากอย่างนี้ที่นั่งไม่เพียงพอมีจองด้วยอะไรเยอะแยะวุ่นวาย']"
      ]
     },
     "execution_count": 28,
     "metadata": {},
     "output_type": "execute_result"
    }
   ],
   "source": [
    "problemList"
   ]
  },
  {
   "cell_type": "code",
   "execution_count": 31,
   "metadata": {},
   "outputs": [
    {
     "data": {
      "text/plain": [
       "['มันก็แบบที่หน้าโรงอาหารก็อย่าว่ากันรอคิวนี้มันมีหลายคิวแล้วก็ใช้เวลาในการทำนาถ้าเราสั่งล่วงหน้าตามันก็จะง่ายนี้ราคามันก็ไม่รับพร้อมเพย์เงินกู้มีตู้เดียว',\n",
       " 'ปัญหาจากโรงอาหารคณะไอทีน้าก็อย่างที่เธอก็คือว่าแบบบางร้านอาหารนะเพราะผัดอาหารก็จะมีควันออกมาซึ่งนี่เป็นคนไม่ค่อยชอบฟันกินอาหารเพราะมันจะติดตัวแบบนี้แล้วก็บางทีอ่ะเพราะโรงอาหารคนเยอะช่วงเที่ยงตรงกลางมันร้อนแดดมันส่องอื่นก็ร้อนก็นั่งไม่ได้แล้วอาหารบางทีสมมุติถ้าเลิกช้าๆก็ไม่มีข้าวกินแล้วก็ต้องไปกินข้าวที่โรงอาหารอื่นประมาณนี้',\n",
       " 'โรงอาหารน่ะตั้งแต่ปี 1 เริ่มรับนักศึกษาเยอะขึ้นน่ะก็เริ่มไม่มีที่นั่งแล้วก็ร้านอาหารแต่ละร้านคิวยาวมากทำให้บอกว่าถ้าสั่งอาหารก็ต้องรอนานมากส่วนมากก็จะแก้ปัญหาโดยการไปกินช่วงเวลาหรือไม่ก็ถ้าจำเป็นจริงก็ไปกินที่อื่น',\n",
       " 'ปัญหาด้านกลิ่นด้านการทำอาหารอาบน้ำทำส่วนมากอย่างนี้ที่นั่งไม่เพียงพอมีจองด้วยอะไรเยอะแยะวุ่นวาย']"
      ]
     },
     "execution_count": 31,
     "metadata": {},
     "output_type": "execute_result"
    }
   ],
   "source": [
    "problemList2"
   ]
  },
  {
   "cell_type": "code",
   "execution_count": 35,
   "metadata": {},
   "outputs": [
    {
     "data": {
      "text/plain": [
       "['มันก็แบบที่หน้าโรงอาหารก็อย่าว่ากันรอคิวนี้มันมีหลายคิวแล้วก็ใช้เวลาในการทำนาถ้าเราสั่งล่วงหน้าตามันก็จะง่ายนี้ราคามันก็ไม่รับพร้อมเพย์เงินกู้มีตู้เดียว',\n",
       " 'ปัญหาจากโรงอาหารคณะไอทีน้าก็อย่างที่เธอก็คือว่าแบบบางร้านอาหารนะเพราะผัดอาหารก็จะมีควันออกมาซึ่งนี่เป็นคนไม่ค่อยชอบฟันกินอาหารเพราะมันจะติดตัวแบบนี้แล้วก็บางทีอ่ะเพราะโรงอาหารคนเยอะช่วงเที่ยงตรงกลางมันร้อนแดดมันส่องอื่นก็ร้อนก็นั่งไม่ได้แล้วอาหารบางทีสมมุติถ้าเลิกช้าๆก็ไม่มีข้าวกินแล้วก็ต้องไปกินข้าวที่โรงอาหารอื่นประมาณนี้',\n",
       " 'โรงอาหารน่ะตั้งแต่ปี 1 เริ่มรับนักศึกษาเยอะขึ้นน่ะก็เริ่มไม่มีที่นั่งแล้วก็ร้านอาหารแต่ละร้านคิวยาวมากทำให้บอกว่าถ้าสั่งอาหารก็ต้องรอนานมากส่วนมากก็จะแก้ปัญหาโดยการไปกินช่วงเวลาหรือไม่ก็ถ้าจำเป็นจริงก็ไปกินที่อื่น',\n",
       " 'ปัญหาด้านกลิ่นด้านการทำอาหารอาบน้ำทำส่วนมากอย่างนี้ที่นั่งไม่เพียงพอมีจองด้วยอะไรเยอะแยะวุ่นวาย']"
      ]
     },
     "execution_count": 35,
     "metadata": {},
     "output_type": "execute_result"
    }
   ],
   "source": [
    "problemList3"
   ]
  },
  {
   "cell_type": "code",
   "execution_count": 39,
   "metadata": {},
   "outputs": [
    {
     "data": {
      "text/plain": [
       "['มันก็แบบที่หน้าโรงอาหารก็อย่าว่ากันรอคิวนี้มันมีหลายคิวแล้วก็ใช้เวลาในการทำนาถ้าเราสั่งล่วงหน้าตามันก็จะง่ายนี้ราคามันก็ไม่รับพร้อมเพย์เงินกู้มีตู้เดียว',\n",
       " 'ปัญหาจากโรงอาหารคณะไอทีน้าก็อย่างที่เธอก็คือว่าแบบบางร้านอาหารนะเพราะผัดอาหารก็จะมีควันออกมาซึ่งนี่เป็นคนไม่ค่อยชอบฟันกินอาหารเพราะมันจะติดตัวแบบนี้แล้วก็บางทีอ่ะเพราะโรงอาหารคนเยอะช่วงเที่ยงตรงกลางมันร้อนแดดมันส่องอื่นก็ร้อนก็นั่งไม่ได้แล้วอาหารบางทีสมมุติถ้าเลิกช้าๆก็ไม่มีข้าวกินแล้วก็ต้องไปกินข้าวที่โรงอาหารอื่นประมาณนี้',\n",
       " 'โรงอาหารน่ะตั้งแต่ปี 1 เริ่มรับนักศึกษาเยอะขึ้นน่ะก็เริ่มไม่มีที่นั่งแล้วก็ร้านอาหารแต่ละร้านคิวยาวมากทำให้บอกว่าถ้าสั่งอาหารก็ต้องรอนานมากส่วนมากก็จะแก้ปัญหาโดยการไปกินช่วงเวลาหรือไม่ก็ถ้าจำเป็นจริงก็ไปกินที่อื่น',\n",
       " 'ปัญหาด้านกลิ่นด้านการทำอาหารอาบน้ำทำส่วนมากอย่างนี้ที่นั่งไม่เพียงพอมีจองด้วยอะไรเยอะแยะวุ่นวาย']"
      ]
     },
     "execution_count": 39,
     "metadata": {},
     "output_type": "execute_result"
    }
   ],
   "source": [
    "problemList10sec"
   ]
  },
  {
   "cell_type": "code",
   "execution_count": null,
   "metadata": {},
   "outputs": [],
   "source": []
  }
 ],
 "metadata": {
  "kernelspec": {
   "display_name": "Python 3",
   "language": "python",
   "name": "python3"
  },
  "language_info": {
   "codemirror_mode": {
    "name": "ipython",
    "version": 3
   },
   "file_extension": ".py",
   "mimetype": "text/x-python",
   "name": "python",
   "nbconvert_exporter": "python",
   "pygments_lexer": "ipython3",
   "version": "3.6.8"
  }
 },
 "nbformat": 4,
 "nbformat_minor": 2
}
